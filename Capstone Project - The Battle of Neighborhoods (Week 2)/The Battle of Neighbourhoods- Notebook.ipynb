





<!DOCTYPE html>
<html lang="en" data-color-mode="light" data-light-theme="light" data-dark-theme="dark">
  <head>
    <meta charset="utf-8">
  <link rel="dns-prefetch" href="https://github.githubassets.com">
  <link rel="dns-prefetch" href="https://avatars.githubusercontent.com">
  <link rel="dns-prefetch" href="https://github-cloud.s3.amazonaws.com">
  <link rel="dns-prefetch" href="https://user-images.githubusercontent.com/">



  <link crossorigin="anonymous" media="all" integrity="sha512-3hG7OZSCjIZYzfGBPDrQFRU3boNYT/qXlzU2U68nTaz5vloAGScHv8NJQlMw9/qnIOL6q1RHYJaPpI3eqXWpxA==" rel="stylesheet" href="https://github.githubassets.com/assets/frameworks-de11bb3994828c8658cdf1813c3ad015.css" />
  
    <link crossorigin="anonymous" media="all" integrity="sha512-s6ii15rljkQEiq0Go7/vEvvPRcWhDLsPrrtCyQ0MiMwn3giw4XyiMxv2YLRTQSfIXtRd6gGJ0sdxPXBiyIy8ZA==" rel="stylesheet" href="https://github.githubassets.com/assets/behaviors-b3a8a2d79ae58e44048aad06a3bfef12.css" />
    
    
    
    <link crossorigin="anonymous" media="all" integrity="sha512-fVNfkbxYbaAcNPb6JK6umhGZlkoDEZZvGmExXi47jX8kgWLxWuAYeQtH0qwYNRn4QVJIZ8J2zjV5UU8j5qJV7Q==" rel="stylesheet" href="https://github.githubassets.com/assets/github-7d535f91bc586da01c34f6fa24aeae9a.css" />

  <script crossorigin="anonymous" defer="defer" integrity="sha512-CzeY4A6TiG4fGZSWZU8FxmzFFmcQFoPpArF0hkH0/J/S7UL4eed/LKEXMQXfTwiG5yEJBI+9BdKG8KQJNbhcIQ==" type="application/javascript" src="https://github.githubassets.com/assets/environment-0b3798e0.js"></script>
    <script crossorigin="anonymous" defer="defer" integrity="sha512-l29UBnv83sL+wIyhPbuVSEBlXzpZe7TojnGTTa2vhRzP75MHBJQMMEdSSgRmak1/iiBlZ+kU+xEyU+tLzLdryA==" type="application/javascript" src="https://github.githubassets.com/assets/chunk-frameworks-976f5406.js"></script>
    <script crossorigin="anonymous" defer="defer" integrity="sha512-7oLcNCYFywREWBSILDdZWGX9RRuUDpuBtxF2wtD3fbxTZ55cclQ4mowPqpyiHO0obgxiOYsfvtinpGrosoDaLA==" type="application/javascript" src="https://github.githubassets.com/assets/chunk-vendor-ee82dc34.js"></script>
  
  <script crossorigin="anonymous" defer="defer" integrity="sha512-/tlE7gWFxuvQsUmoc/Is14ybqhAvPmXOuEhJm+OXe5MTdidkVLbSTFQA7rpTkYJWrvKcEaL/ySS5va+EMEKRRg==" type="application/javascript" src="https://github.githubassets.com/assets/behaviors-fed944ee.js"></script>
  
    <script crossorigin="anonymous" defer="defer" integrity="sha512-aEeAsfpL9cBt2DYP2NfaqKLyYLkN4BS+/ikvLHM+abhqZsoNmd3Wxqwu6TGp7Pf/vqvvGeL26/NswwMkS1WwQg==" type="application/javascript" data-module-id="./chunk-color-modes.js" data-src="https://github.githubassets.com/assets/chunk-color-modes-684780b1.js"></script>
    <script crossorigin="anonymous" defer="defer" integrity="sha512-+eb86n+61kMdQZXDjdY6nkbY+/wXbmOZMn5NzVuHw6rV+7WSb2RPXpjmDJqmIRhTyhUHspjKH6Umt/KaGWBEhw==" type="application/javascript" data-module-id="./chunk-contributions-spider-graph.js" data-src="https://github.githubassets.com/assets/chunk-contributions-spider-graph-f9e6fcea.js"></script>
    <script crossorigin="anonymous" defer="defer" integrity="sha512-mby8bB5XGqfOqL5ON7EzITNvEwRLadJ7n63Dq1r6NRqvm8ZKzaZJ8fDb3Mn+dabzhf1X/G4VmrKTyBrJAAxloQ==" type="application/javascript" data-module-id="./chunk-drag-drop.js" data-src="https://github.githubassets.com/assets/chunk-drag-drop-99bcbc6c.js"></script>
    <script crossorigin="anonymous" defer="defer" integrity="sha512-0mTtr23nvarjrRJD+D+fW5dbhJMdf+cOiBFbjgjl+py22PW4IgYpVGeJn48Kmcl9pgBH/xVktVKiNns7JMK4+A==" type="application/javascript" data-module-id="./chunk-edit.js" data-src="https://github.githubassets.com/assets/chunk-edit-d264edaf.js"></script>
    <script crossorigin="anonymous" defer="defer" integrity="sha512-aiqMIGGZGo8AQMjcoImKPMTsZVVRl6htCSY7BpRmpGPG/AF+Wq+P/Oj/dthWQOIk9cCNMPEas7O2zAR6oqn0tA==" type="application/javascript" data-module-id="./chunk-emoji-picker-element.js" data-src="https://github.githubassets.com/assets/chunk-emoji-picker-element-6a2a8c20.js"></script>
    <script crossorigin="anonymous" defer="defer" integrity="sha512-j5Eltv6XYkPt7XVCMWLH6qhNBoFOzxXLIsaoffjjTl2fw/sXVfluH+EGE5dYJPEBwsmqK0LenheRi9hmNcWnCA==" type="application/javascript" data-module-id="./chunk-insights-graph.js" data-src="https://github.githubassets.com/assets/chunk-insights-graph-8f9125b6.js"></script>
    <script crossorigin="anonymous" defer="defer" integrity="sha512-i9jAxszUL7SAm2CfefxFGfL+SlT850SJpT25efMGDRCMZrIO/mtMxHsbOLm7FgWAK+clhtO8L+Mj1IUowepsOw==" type="application/javascript" data-module-id="./chunk-jump-to.js" data-src="https://github.githubassets.com/assets/chunk-jump-to-8bd8c0c6.js"></script>
    <script crossorigin="anonymous" defer="defer" integrity="sha512-ma0OOy3nj0c1cqBx0BkcmIFsLqcSZ+MIukQxyEFM/OWTzZpG+QMgOoWPAHZz43M6fyjAUG1jH6c/6LPiiKPCyw==" type="application/javascript" data-module-id="./chunk-profile-pins-element.js" data-src="https://github.githubassets.com/assets/chunk-profile-pins-element-99ad0e3b.js"></script>
    <script crossorigin="anonymous" defer="defer" integrity="sha512-Ix91PUM8IpO6CWMqrsdvX2vj6JbxES12l824wQKHOuXI8DEWOsIE+IeTGnAAVF1LGjFs7xoAXpbPy/plfloYEw==" type="application/javascript" data-module-id="./chunk-runner-groups.js" data-src="https://github.githubassets.com/assets/chunk-runner-groups-231f753d.js"></script>
    <script crossorigin="anonymous" defer="defer" integrity="sha512-JoWpXsdKsRKFyspZP0lsV/mUnqLhErMvFLeq7PwLuptuR0JgHOv5NMWIeBqqWHuWmhIltMifR+/rEjO553Raug==" type="application/javascript" data-module-id="./chunk-sortable-behavior.js" data-src="https://github.githubassets.com/assets/chunk-sortable-behavior-2685a95e.js"></script>
    <script crossorigin="anonymous" defer="defer" integrity="sha512-WK8VXw3lfUQ/VRW0zlgKPhcMUqH0uTnB/KzePUPdZhCm/HpxfXXHKTGvj5C0Oex7+zbIM2ECzULbtTCT4ug3yg==" type="application/javascript" data-module-id="./chunk-toast.js" data-src="https://github.githubassets.com/assets/chunk-toast-58af155f.js"></script>
    <script crossorigin="anonymous" defer="defer" integrity="sha512-ZyozqjwhoIovRiwFwpwYmlQUgmIyGt5y8DgJhtiLHr9EM6f51vmXxaIIZap+ly64QSLa0zeA7DPCD6Yio2/AGA==" type="application/javascript" data-module-id="./chunk-tweetsodium.js" data-src="https://github.githubassets.com/assets/chunk-tweetsodium-672a33aa.js"></script>
    <script crossorigin="anonymous" defer="defer" integrity="sha512-gYl7KOSELsEcMQaJU0EJvn55ZJA9YVougi4V9vEXYYymYJ+AFzK0+Pj3a+ZgW4AosOcFCf1ODKytug6qpK0DKw==" type="application/javascript" data-module-id="./chunk-user-status-submit.js" data-src="https://github.githubassets.com/assets/chunk-user-status-submit-81897b28.js"></script>
  
  <script crossorigin="anonymous" defer="defer" integrity="sha512-gt9J9mEtyJVTU9Kp+jjG2LSqnnpiZu3/WcIa5etaO34ew4bLpbw8WOd32fiNAvNxypLZUkBbXE0AUKqi7buxOQ==" type="application/javascript" src="https://github.githubassets.com/assets/diffs-82df49f6.js"></script>

  <meta name="viewport" content="width=device-width">
  
  <title>This is a Notebook containing the solution to the problem. · MkTej/Applied-Data-Science-Capstone@4e280d2</title>
    <meta name="description" content="Applied Data Science Capstone of IBM Course on Coursera - MkTej/Applied-Data-Science-Capstone">
    <link rel="search" type="application/opensearchdescription+xml" href="/opensearch.xml" title="GitHub">
  <link rel="fluid-icon" href="https://github.com/fluidicon.png" title="GitHub">
  <meta property="fb:app_id" content="1401488693436528">
  <meta name="apple-itunes-app" content="app-id=1477376905" />
    <meta name="twitter:image:src" content="https://avatars.githubusercontent.com/u/58900107?s=400&amp;v=4" /><meta name="twitter:site" content="@github" /><meta name="twitter:card" content="summary_large_image" /><meta name="twitter:title" content="This is a Notebook containing the solution to the problem. · MkTej/Applied-Data-Science-Capstone@4e280d2" /><meta name="twitter:description" content="" />
    <meta property="og:image" content="https://avatars.githubusercontent.com/u/58900107?s=400&amp;v=4" /><meta property="og:site_name" content="GitHub" /><meta property="og:type" content="object" /><meta property="og:title" content="This is a Notebook containing the solution to the problem. · MkTej/Applied-Data-Science-Capstone@4e280d2" /><meta property="og:url" content="/MkTej/Applied-Data-Science-Capstone/commit/4e280d20bf32b70f9eb8ca801f9bde8f43c59b32" /><meta property="og:updated_time" content="1578208822" />



    

  <link rel="assets" href="https://github.githubassets.com/">
    <link rel="shared-web-socket" href="wss://alive.github.com/_sockets/u/70435676/ws?session=eyJ2IjoiVjMiLCJ1Ijo3MDQzNTY3NiwicyI6NjY3OTExNDYyLCJjIjozNTQyNzAzMzcyLCJ0IjoxNjE3MTk2MzAzfQ==--59bfc17e5d8c75b1fab79ebe1494b8c09af43e7a261271c91018c4bf6933b2a8" data-refresh-url="/_alive" data-session-id="20e7733613d27c1dd0c6bfbd520eeabca244ba286733698315f222efbd667969">
    <link rel="shared-web-socket-src" href="/socket-worker-3f088aa2.js">
  <link rel="sudo-modal" href="/sessions/sudo_modal">

  <meta name="request-id" content="C04A:1FE1:5BC7ED:638D73:606474BE" data-pjax-transient="true" /><meta name="html-safe-nonce" content="34e3d13329083a53ef792afee1cbdde7a190a43270f588f63b8fafffe15cfdb4" data-pjax-transient="true" /><meta name="visitor-payload" content="eyJyZWZlcnJlciI6bnVsbCwicmVxdWVzdF9pZCI6IkMwNEE6MUZFMTo1QkM3RUQ6NjM4RDczOjYwNjQ3NEJFIiwidmlzaXRvcl9pZCI6IjI3NzU5ODMxMDYxNDE3NzE4MjciLCJyZWdpb25fZWRnZSI6ImFwLXNvdXRoLTEiLCJyZWdpb25fcmVuZGVyIjoiaWFkIn0=" data-pjax-transient="true" /><meta name="visitor-hmac" content="fb420de55927fc69e2e9f8dc97ad2ba40dbeb44624730d52a3133da776f2cf27" data-pjax-transient="true" />

    <meta name="hovercard-subject-tag" content="repository:228142454" data-pjax-transient>


  <meta name="github-keyboard-shortcuts" content="repository,commits" data-pjax-transient="true" />

  

  <meta name="selected-link" value="repo_commits" data-pjax-transient>

    <meta name="google-site-verification" content="c1kuD-K2HIVF635lypcsWPoD4kilo5-jA_wBFyT4uMY">
  <meta name="google-site-verification" content="KT5gs8h0wvaagLKAVWq8bbeNwnZZK1r1XQysX3xurLU">
  <meta name="google-site-verification" content="ZzhVyEFwb7w3e0-uOTltm8Jsck2F5StVihD0exw2fsA">
  <meta name="google-site-verification" content="GXs5KoUUkNCoaAZn7wPN-t01Pywp9M3sEjnt_3_ZWPc">

  <meta name="octolytics-host" content="collector.githubapp.com" /><meta name="octolytics-app-id" content="github" /><meta name="octolytics-event-url" content="https://collector.githubapp.com/github-external/browser_event" /><meta name="octolytics-actor-id" content="70435676" /><meta name="octolytics-actor-login" content="ananya87" /><meta name="octolytics-actor-hash" content="7c837cd1082abb294b16e68ae54931b70cd41f79fc76302775f37650185d7822" />

  <meta name="analytics-location" content="/&lt;user-name&gt;/&lt;repo-name&gt;/commit/show" data-pjax-transient="true" />

  






  

      <meta name="hostname" content="github.com">
    <meta name="user-login" content="ananya87">


      <meta name="expected-hostname" content="github.com">

      <meta name="js-proxy-site-detection-payload" content="NzU3NDQ2ZWY3NzliNTVkMTM2MWQ3MTlhZmYwMWJlZTllNmMzODFjMGVmOTU2MDUwODExOTAxZTY3M2E3OTk5N3x7InJlbW90ZV9hZGRyZXNzIjoiMjIzLjE3Ny45MC4xOTciLCJyZXF1ZXN0X2lkIjoiQzA0QToxRkUxOjVCQzdFRDo2MzhENzM6NjA2NDc0QkUiLCJ0aW1lc3RhbXAiOjE2MTcxOTYzMDMsImhvc3QiOiJnaXRodWIuY29tIn0=">

    <meta name="enabled-features" content="MARKETPLACE_PENDING_INSTALLATIONS,JS_HTTP_CACHE_HEADERS,AUTOCOMPLETE_EMOJIS_IN_MARKDOWN_EDITOR">

  <meta http-equiv="x-pjax-version" content="a848e87de392d310ce138fa86c6d4453818578156472a6256509da6150a5889a">
  

      <link href="/MkTej/Applied-Data-Science-Capstone/commit/4e280d20bf32b70f9eb8ca801f9bde8f43c59b32.diff" rel="alternate" type="text/plain+diff" data-pjax-transient="true" />
  <link href="/MkTej/Applied-Data-Science-Capstone/commit/4e280d20bf32b70f9eb8ca801f9bde8f43c59b32.patch" rel="alternate" type="text/plain+patch" data-pjax-transient="true" />

  <meta name="diff-view" content="unified" data-pjax-transient>

  <meta name="go-import" content="github.com/MkTej/Applied-Data-Science-Capstone git https://github.com/MkTej/Applied-Data-Science-Capstone.git">

  <meta name="octolytics-dimension-user_id" content="58900107" /><meta name="octolytics-dimension-user_login" content="MkTej" /><meta name="octolytics-dimension-repository_id" content="228142454" /><meta name="octolytics-dimension-repository_nwo" content="MkTej/Applied-Data-Science-Capstone" /><meta name="octolytics-dimension-repository_public" content="true" /><meta name="octolytics-dimension-repository_is_fork" content="false" /><meta name="octolytics-dimension-repository_network_root_id" content="228142454" /><meta name="octolytics-dimension-repository_network_root_nwo" content="MkTej/Applied-Data-Science-Capstone" />





  <meta name="browser-stats-url" content="https://api.github.com/_private/browser/stats">

  <meta name="browser-errors-url" content="https://api.github.com/_private/browser/errors">

  <meta name="browser-optimizely-client-errors-url" content="https://api.github.com/_private/browser/optimizely_client/errors">

  <link rel="mask-icon" href="https://github.githubassets.com/pinned-octocat.svg" color="#000000">
  <link rel="alternate icon" class="js-site-favicon" type="image/png" href="https://github.githubassets.com/favicons/favicon.png">
  <link rel="icon" class="js-site-favicon" type="image/svg+xml" href="https://github.githubassets.com/favicons/favicon.svg">

<meta name="theme-color" content="#1e2327">
<meta name="color-scheme" content="light dark" />

  <link rel="apple-touch-icon" href="https://github.githubassets.com/apple-touch-icon.png">
  <link rel="apple-touch-icon" sizes="180x180" href="https://github.githubassets.com/apple-touch-icon-180x180.png">
  <meta name="apple-mobile-web-app-title" content="GitHub">

  <link rel="manifest" href="/manifest.json" crossOrigin="use-credentials">

  </head>

  <body class="logged-in env-production page-responsive" style="word-wrap: break-word;">
    

    <div class="position-relative js-header-wrapper ">
      <a href="#start-of-content" class="p-3 color-bg-info-inverse color-text-white show-on-focus js-skip-to-content">Skip to content</a>
      <span class="progress-pjax-loader width-full js-pjax-loader-bar Progress position-fixed">
    <span style="background-color: #79b8ff;width: 0%;" class="Progress-item progress-pjax-loader-bar "></span>
</span>      
      


            <header class="Header js-details-container Details px-3 px-md-4 px-lg-5 flex-wrap flex-md-nowrap" role="banner" >
    <div class="Header-item mt-n1 mb-n1  d-none d-md-flex">
      <a class="Header-link " href="https://github.com/" data-hotkey="g d"
  aria-label="Homepage " data-ga-click="Header, go to dashboard, icon:logo">
  <svg class="octicon octicon-mark-github v-align-middle" height="32" viewBox="0 0 16 16" version="1.1" width="32" aria-hidden="true"><path fill-rule="evenodd" d="M8 0C3.58 0 0 3.58 0 8c0 3.54 2.29 6.53 5.47 7.59.4.07.55-.17.55-.38 0-.19-.01-.82-.01-1.49-2.01.37-2.53-.49-2.69-.94-.09-.23-.48-.94-.82-1.13-.28-.15-.68-.52-.01-.53.63-.01 1.08.58 1.23.82.72 1.21 1.87.87 2.33.66.07-.52.28-.87.51-1.07-1.78-.2-3.64-.89-3.64-3.95 0-.87.31-1.59.82-2.15-.08-.2-.36-1.02.08-2.12 0 0 .67-.21 2.2.82.64-.18 1.32-.27 2-.27.68 0 1.36.09 2 .27 1.53-1.04 2.2-.82 2.2-.82.44 1.1.16 1.92.08 2.12.51.56.82 1.27.82 2.15 0 3.07-1.87 3.75-3.65 3.95.29.25.54.73.54 1.48 0 1.07-.01 1.93-.01 2.2 0 .21.15.46.55.38A8.013 8.013 0 0016 8c0-4.42-3.58-8-8-8z"></path></svg>
</a>

    </div>

    <div class="Header-item d-md-none">
      <button class="Header-link btn-link js-details-target" type="button" aria-label="Toggle navigation" aria-expanded="false">
        <svg height="24" class="octicon octicon-three-bars" viewBox="0 0 16 16" version="1.1" width="24" aria-hidden="true"><path fill-rule="evenodd" d="M1 2.75A.75.75 0 011.75 2h12.5a.75.75 0 110 1.5H1.75A.75.75 0 011 2.75zm0 5A.75.75 0 011.75 7h12.5a.75.75 0 110 1.5H1.75A.75.75 0 011 7.75zM1.75 12a.75.75 0 100 1.5h12.5a.75.75 0 100-1.5H1.75z"></path></svg>
      </button>
    </div>

    <div class="Header-item Header-item--full flex-column flex-md-row width-full flex-order-2 flex-md-order-none mr-0 mr-md-3 mt-3 mt-md-0 Details-content--hidden-not-important d-md-flex">
          <div class="header-search flex-auto js-site-search position-relative flex-self-stretch flex-md-self-auto mb-3 mb-md-0 mr-0 mr-md-3 scoped-search site-scoped-search js-jump-to"
  role="combobox"
  aria-owns="jump-to-results"
  aria-label="Search or jump to"
  aria-haspopup="listbox"
  aria-expanded="false"
>
  <div class="position-relative">
    <!-- '"` --><!-- </textarea></xmp> --></option></form><form class="js-site-search-form" role="search" aria-label="Site" data-scope-type="Repository" data-scope-id="228142454" data-scoped-search-url="/MkTej/Applied-Data-Science-Capstone/search" data-owner-scoped-search-url="/users/MkTej/search" data-unscoped-search-url="/search" action="/MkTej/Applied-Data-Science-Capstone/search" accept-charset="UTF-8" method="get">
      <label class="form-control input-sm header-search-wrapper p-0 js-chromeless-input-container header-search-wrapper-jump-to position-relative d-flex flex-justify-between flex-items-center">
        <input type="text"
          class="form-control input-sm header-search-input jump-to-field js-jump-to-field js-site-search-focus js-site-search-field is-clearable"
          data-hotkey="s,/"
          name="q"
          value=""
          placeholder="Search or jump to…"
          data-unscoped-placeholder="Search or jump to…"
          data-scoped-placeholder="Search or jump to…"
          autocapitalize="off"
          aria-autocomplete="list"
          aria-controls="jump-to-results"
          aria-label="Search or jump to…"
          data-jump-to-suggestions-path="/_graphql/GetSuggestedNavigationDestinations"
          spellcheck="false"
          autocomplete="off"
          >
          <input type="hidden" value="4cnwO+AF1kkOwD9RVdrxhGp9adhjFQR2s56gP2qo3me4Qhjio17bhdjOcZi2od0vyyUMq6EXmDMVc3AnIlPblA==" data-csrf="true" class="js-data-jump-to-suggestions-path-csrf" />
          <input type="hidden" class="js-site-search-type-field" name="type" >
            <img src="https://github.githubassets.com/images/search-key-slash.svg" alt="" class="mr-2 header-search-key-slash">

            <div class="Box position-absolute overflow-hidden d-none jump-to-suggestions js-jump-to-suggestions-container">
              
<ul class="d-none js-jump-to-suggestions-template-container">
  

<li class="d-flex flex-justify-start flex-items-center p-0 f5 navigation-item js-navigation-item js-jump-to-suggestion" role="option">
  <a tabindex="-1" class="no-underline d-flex flex-auto flex-items-center jump-to-suggestions-path js-jump-to-suggestion-path js-navigation-open p-2" href="" data-item-type="suggestion">
    <div class="jump-to-octicon js-jump-to-octicon flex-shrink-0 mr-2 text-center d-none">
      <svg height="16" width="16" class="octicon octicon-repo flex-shrink-0 js-jump-to-octicon-repo d-none" title="Repository" aria-label="Repository" viewBox="0 0 16 16" version="1.1" role="img"><path fill-rule="evenodd" d="M2 2.5A2.5 2.5 0 014.5 0h8.75a.75.75 0 01.75.75v12.5a.75.75 0 01-.75.75h-2.5a.75.75 0 110-1.5h1.75v-2h-8a1 1 0 00-.714 1.7.75.75 0 01-1.072 1.05A2.495 2.495 0 012 11.5v-9zm10.5-1V9h-8c-.356 0-.694.074-1 .208V2.5a1 1 0 011-1h8zM5 12.25v3.25a.25.25 0 00.4.2l1.45-1.087a.25.25 0 01.3 0L8.6 15.7a.25.25 0 00.4-.2v-3.25a.25.25 0 00-.25-.25h-3.5a.25.25 0 00-.25.25z"></path></svg>
      <svg height="16" width="16" class="octicon octicon-project flex-shrink-0 js-jump-to-octicon-project d-none" title="Project" aria-label="Project" viewBox="0 0 16 16" version="1.1" role="img"><path fill-rule="evenodd" d="M1.75 0A1.75 1.75 0 000 1.75v12.5C0 15.216.784 16 1.75 16h12.5A1.75 1.75 0 0016 14.25V1.75A1.75 1.75 0 0014.25 0H1.75zM1.5 1.75a.25.25 0 01.25-.25h12.5a.25.25 0 01.25.25v12.5a.25.25 0 01-.25.25H1.75a.25.25 0 01-.25-.25V1.75zM11.75 3a.75.75 0 00-.75.75v7.5a.75.75 0 001.5 0v-7.5a.75.75 0 00-.75-.75zm-8.25.75a.75.75 0 011.5 0v5.5a.75.75 0 01-1.5 0v-5.5zM8 3a.75.75 0 00-.75.75v3.5a.75.75 0 001.5 0v-3.5A.75.75 0 008 3z"></path></svg>
      <svg height="16" width="16" class="octicon octicon-search flex-shrink-0 js-jump-to-octicon-search d-none" title="Search" aria-label="Search" viewBox="0 0 16 16" version="1.1" role="img"><path fill-rule="evenodd" d="M11.5 7a4.499 4.499 0 11-8.998 0A4.499 4.499 0 0111.5 7zm-.82 4.74a6 6 0 111.06-1.06l3.04 3.04a.75.75 0 11-1.06 1.06l-3.04-3.04z"></path></svg>
    </div>

    <img class="avatar mr-2 flex-shrink-0 js-jump-to-suggestion-avatar d-none" alt="" aria-label="Team" src="" width="28" height="28">

    <div class="jump-to-suggestion-name js-jump-to-suggestion-name flex-auto overflow-hidden text-left no-wrap css-truncate css-truncate-target">
    </div>

    <div class="border rounded-1 flex-shrink-0 color-bg-tertiary px-1 color-text-tertiary ml-1 f6 d-none js-jump-to-badge-search">
      <span class="js-jump-to-badge-search-text-default d-none" aria-label="in this repository">
        In this repository
      </span>
      <span class="js-jump-to-badge-search-text-global d-none" aria-label="in all of GitHub">
        All GitHub
      </span>
      <span aria-hidden="true" class="d-inline-block ml-1 v-align-middle">↵</span>
    </div>

    <div aria-hidden="true" class="border rounded-1 flex-shrink-0 color-bg-tertiary px-1 color-text-tertiary ml-1 f6 d-none d-on-nav-focus js-jump-to-badge-jump">
      Jump to
      <span class="d-inline-block ml-1 v-align-middle">↵</span>
    </div>
  </a>
</li>

</ul>

<ul class="d-none js-jump-to-no-results-template-container">
  <li class="d-flex flex-justify-center flex-items-center f5 d-none js-jump-to-suggestion p-2">
    <span class="color-text-secondary">No suggested jump to results</span>
  </li>
</ul>

<ul id="jump-to-results" role="listbox" class="p-0 m-0 js-navigation-container jump-to-suggestions-results-container js-jump-to-suggestions-results-container">
  

<li class="d-flex flex-justify-start flex-items-center p-0 f5 navigation-item js-navigation-item js-jump-to-scoped-search d-none" role="option">
  <a tabindex="-1" class="no-underline d-flex flex-auto flex-items-center jump-to-suggestions-path js-jump-to-suggestion-path js-navigation-open p-2" href="" data-item-type="scoped_search">
    <div class="jump-to-octicon js-jump-to-octicon flex-shrink-0 mr-2 text-center d-none">
      <svg height="16" width="16" class="octicon octicon-repo flex-shrink-0 js-jump-to-octicon-repo d-none" title="Repository" aria-label="Repository" viewBox="0 0 16 16" version="1.1" role="img"><path fill-rule="evenodd" d="M2 2.5A2.5 2.5 0 014.5 0h8.75a.75.75 0 01.75.75v12.5a.75.75 0 01-.75.75h-2.5a.75.75 0 110-1.5h1.75v-2h-8a1 1 0 00-.714 1.7.75.75 0 01-1.072 1.05A2.495 2.495 0 012 11.5v-9zm10.5-1V9h-8c-.356 0-.694.074-1 .208V2.5a1 1 0 011-1h8zM5 12.25v3.25a.25.25 0 00.4.2l1.45-1.087a.25.25 0 01.3 0L8.6 15.7a.25.25 0 00.4-.2v-3.25a.25.25 0 00-.25-.25h-3.5a.25.25 0 00-.25.25z"></path></svg>
      <svg height="16" width="16" class="octicon octicon-project flex-shrink-0 js-jump-to-octicon-project d-none" title="Project" aria-label="Project" viewBox="0 0 16 16" version="1.1" role="img"><path fill-rule="evenodd" d="M1.75 0A1.75 1.75 0 000 1.75v12.5C0 15.216.784 16 1.75 16h12.5A1.75 1.75 0 0016 14.25V1.75A1.75 1.75 0 0014.25 0H1.75zM1.5 1.75a.25.25 0 01.25-.25h12.5a.25.25 0 01.25.25v12.5a.25.25 0 01-.25.25H1.75a.25.25 0 01-.25-.25V1.75zM11.75 3a.75.75 0 00-.75.75v7.5a.75.75 0 001.5 0v-7.5a.75.75 0 00-.75-.75zm-8.25.75a.75.75 0 011.5 0v5.5a.75.75 0 01-1.5 0v-5.5zM8 3a.75.75 0 00-.75.75v3.5a.75.75 0 001.5 0v-3.5A.75.75 0 008 3z"></path></svg>
      <svg height="16" width="16" class="octicon octicon-search flex-shrink-0 js-jump-to-octicon-search d-none" title="Search" aria-label="Search" viewBox="0 0 16 16" version="1.1" role="img"><path fill-rule="evenodd" d="M11.5 7a4.499 4.499 0 11-8.998 0A4.499 4.499 0 0111.5 7zm-.82 4.74a6 6 0 111.06-1.06l3.04 3.04a.75.75 0 11-1.06 1.06l-3.04-3.04z"></path></svg>
    </div>

    <img class="avatar mr-2 flex-shrink-0 js-jump-to-suggestion-avatar d-none" alt="" aria-label="Team" src="" width="28" height="28">

    <div class="jump-to-suggestion-name js-jump-to-suggestion-name flex-auto overflow-hidden text-left no-wrap css-truncate css-truncate-target">
    </div>

    <div class="border rounded-1 flex-shrink-0 color-bg-tertiary px-1 color-text-tertiary ml-1 f6 d-none js-jump-to-badge-search">
      <span class="js-jump-to-badge-search-text-default d-none" aria-label="in this repository">
        In this repository
      </span>
      <span class="js-jump-to-badge-search-text-global d-none" aria-label="in all of GitHub">
        All GitHub
      </span>
      <span aria-hidden="true" class="d-inline-block ml-1 v-align-middle">↵</span>
    </div>

    <div aria-hidden="true" class="border rounded-1 flex-shrink-0 color-bg-tertiary px-1 color-text-tertiary ml-1 f6 d-none d-on-nav-focus js-jump-to-badge-jump">
      Jump to
      <span class="d-inline-block ml-1 v-align-middle">↵</span>
    </div>
  </a>
</li>

  

<li class="d-flex flex-justify-start flex-items-center p-0 f5 navigation-item js-navigation-item js-jump-to-owner-scoped-search d-none" role="option">
  <a tabindex="-1" class="no-underline d-flex flex-auto flex-items-center jump-to-suggestions-path js-jump-to-suggestion-path js-navigation-open p-2" href="" data-item-type="owner_scoped_search">
    <div class="jump-to-octicon js-jump-to-octicon flex-shrink-0 mr-2 text-center d-none">
      <svg height="16" width="16" class="octicon octicon-repo flex-shrink-0 js-jump-to-octicon-repo d-none" title="Repository" aria-label="Repository" viewBox="0 0 16 16" version="1.1" role="img"><path fill-rule="evenodd" d="M2 2.5A2.5 2.5 0 014.5 0h8.75a.75.75 0 01.75.75v12.5a.75.75 0 01-.75.75h-2.5a.75.75 0 110-1.5h1.75v-2h-8a1 1 0 00-.714 1.7.75.75 0 01-1.072 1.05A2.495 2.495 0 012 11.5v-9zm10.5-1V9h-8c-.356 0-.694.074-1 .208V2.5a1 1 0 011-1h8zM5 12.25v3.25a.25.25 0 00.4.2l1.45-1.087a.25.25 0 01.3 0L8.6 15.7a.25.25 0 00.4-.2v-3.25a.25.25 0 00-.25-.25h-3.5a.25.25 0 00-.25.25z"></path></svg>
      <svg height="16" width="16" class="octicon octicon-project flex-shrink-0 js-jump-to-octicon-project d-none" title="Project" aria-label="Project" viewBox="0 0 16 16" version="1.1" role="img"><path fill-rule="evenodd" d="M1.75 0A1.75 1.75 0 000 1.75v12.5C0 15.216.784 16 1.75 16h12.5A1.75 1.75 0 0016 14.25V1.75A1.75 1.75 0 0014.25 0H1.75zM1.5 1.75a.25.25 0 01.25-.25h12.5a.25.25 0 01.25.25v12.5a.25.25 0 01-.25.25H1.75a.25.25 0 01-.25-.25V1.75zM11.75 3a.75.75 0 00-.75.75v7.5a.75.75 0 001.5 0v-7.5a.75.75 0 00-.75-.75zm-8.25.75a.75.75 0 011.5 0v5.5a.75.75 0 01-1.5 0v-5.5zM8 3a.75.75 0 00-.75.75v3.5a.75.75 0 001.5 0v-3.5A.75.75 0 008 3z"></path></svg>
      <svg height="16" width="16" class="octicon octicon-search flex-shrink-0 js-jump-to-octicon-search d-none" title="Search" aria-label="Search" viewBox="0 0 16 16" version="1.1" role="img"><path fill-rule="evenodd" d="M11.5 7a4.499 4.499 0 11-8.998 0A4.499 4.499 0 0111.5 7zm-.82 4.74a6 6 0 111.06-1.06l3.04 3.04a.75.75 0 11-1.06 1.06l-3.04-3.04z"></path></svg>
    </div>

    <img class="avatar mr-2 flex-shrink-0 js-jump-to-suggestion-avatar d-none" alt="" aria-label="Team" src="" width="28" height="28">

    <div class="jump-to-suggestion-name js-jump-to-suggestion-name flex-auto overflow-hidden text-left no-wrap css-truncate css-truncate-target">
    </div>

    <div class="border rounded-1 flex-shrink-0 color-bg-tertiary px-1 color-text-tertiary ml-1 f6 d-none js-jump-to-badge-search">
      <span class="js-jump-to-badge-search-text-default d-none" aria-label="in this user">
        In this user
      </span>
      <span class="js-jump-to-badge-search-text-global d-none" aria-label="in all of GitHub">
        All GitHub
      </span>
      <span aria-hidden="true" class="d-inline-block ml-1 v-align-middle">↵</span>
    </div>

    <div aria-hidden="true" class="border rounded-1 flex-shrink-0 color-bg-tertiary px-1 color-text-tertiary ml-1 f6 d-none d-on-nav-focus js-jump-to-badge-jump">
      Jump to
      <span class="d-inline-block ml-1 v-align-middle">↵</span>
    </div>
  </a>
</li>

  

<li class="d-flex flex-justify-start flex-items-center p-0 f5 navigation-item js-navigation-item js-jump-to-global-search d-none" role="option">
  <a tabindex="-1" class="no-underline d-flex flex-auto flex-items-center jump-to-suggestions-path js-jump-to-suggestion-path js-navigation-open p-2" href="" data-item-type="global_search">
    <div class="jump-to-octicon js-jump-to-octicon flex-shrink-0 mr-2 text-center d-none">
      <svg height="16" width="16" class="octicon octicon-repo flex-shrink-0 js-jump-to-octicon-repo d-none" title="Repository" aria-label="Repository" viewBox="0 0 16 16" version="1.1" role="img"><path fill-rule="evenodd" d="M2 2.5A2.5 2.5 0 014.5 0h8.75a.75.75 0 01.75.75v12.5a.75.75 0 01-.75.75h-2.5a.75.75 0 110-1.5h1.75v-2h-8a1 1 0 00-.714 1.7.75.75 0 01-1.072 1.05A2.495 2.495 0 012 11.5v-9zm10.5-1V9h-8c-.356 0-.694.074-1 .208V2.5a1 1 0 011-1h8zM5 12.25v3.25a.25.25 0 00.4.2l1.45-1.087a.25.25 0 01.3 0L8.6 15.7a.25.25 0 00.4-.2v-3.25a.25.25 0 00-.25-.25h-3.5a.25.25 0 00-.25.25z"></path></svg>
      <svg height="16" width="16" class="octicon octicon-project flex-shrink-0 js-jump-to-octicon-project d-none" title="Project" aria-label="Project" viewBox="0 0 16 16" version="1.1" role="img"><path fill-rule="evenodd" d="M1.75 0A1.75 1.75 0 000 1.75v12.5C0 15.216.784 16 1.75 16h12.5A1.75 1.75 0 0016 14.25V1.75A1.75 1.75 0 0014.25 0H1.75zM1.5 1.75a.25.25 0 01.25-.25h12.5a.25.25 0 01.25.25v12.5a.25.25 0 01-.25.25H1.75a.25.25 0 01-.25-.25V1.75zM11.75 3a.75.75 0 00-.75.75v7.5a.75.75 0 001.5 0v-7.5a.75.75 0 00-.75-.75zm-8.25.75a.75.75 0 011.5 0v5.5a.75.75 0 01-1.5 0v-5.5zM8 3a.75.75 0 00-.75.75v3.5a.75.75 0 001.5 0v-3.5A.75.75 0 008 3z"></path></svg>
      <svg height="16" width="16" class="octicon octicon-search flex-shrink-0 js-jump-to-octicon-search d-none" title="Search" aria-label="Search" viewBox="0 0 16 16" version="1.1" role="img"><path fill-rule="evenodd" d="M11.5 7a4.499 4.499 0 11-8.998 0A4.499 4.499 0 0111.5 7zm-.82 4.74a6 6 0 111.06-1.06l3.04 3.04a.75.75 0 11-1.06 1.06l-3.04-3.04z"></path></svg>
    </div>

    <img class="avatar mr-2 flex-shrink-0 js-jump-to-suggestion-avatar d-none" alt="" aria-label="Team" src="" width="28" height="28">

    <div class="jump-to-suggestion-name js-jump-to-suggestion-name flex-auto overflow-hidden text-left no-wrap css-truncate css-truncate-target">
    </div>

    <div class="border rounded-1 flex-shrink-0 color-bg-tertiary px-1 color-text-tertiary ml-1 f6 d-none js-jump-to-badge-search">
      <span class="js-jump-to-badge-search-text-default d-none" aria-label="in this repository">
        In this repository
      </span>
      <span class="js-jump-to-badge-search-text-global d-none" aria-label="in all of GitHub">
        All GitHub
      </span>
      <span aria-hidden="true" class="d-inline-block ml-1 v-align-middle">↵</span>
    </div>

    <div aria-hidden="true" class="border rounded-1 flex-shrink-0 color-bg-tertiary px-1 color-text-tertiary ml-1 f6 d-none d-on-nav-focus js-jump-to-badge-jump">
      Jump to
      <span class="d-inline-block ml-1 v-align-middle">↵</span>
    </div>
  </a>
</li>


    <li class="d-flex flex-justify-center flex-items-center p-0 f5 js-jump-to-suggestion">
      <svg style="box-sizing: content-box; color: var(--color-icon-primary);" viewBox="0 0 16 16" fill="none" width="32" height="32" class="m-3 anim-rotate">
  <circle cx="8" cy="8" r="7" stroke="currentColor" stroke-opacity="0.25" stroke-width="2" vector-effect="non-scaling-stroke" />
  <path d="M15 8a7.002 7.002 0 00-7-7" stroke="currentColor" stroke-width="2" stroke-linecap="round" vector-effect="non-scaling-stroke" />
</svg>
    </li>
</ul>

            </div>
      </label>
</form>  </div>
</div>

        <nav class="d-flex flex-column flex-md-row flex-self-stretch flex-md-self-auto" aria-label="Global">
      <a class="Header-link py-md-3 d-block d-md-none py-2 border-top border-md-top-0 border-white-fade-15" data-ga-click="Header, click, Nav menu - item:dashboard:user" aria-label="Dashboard" href="/dashboard">
        Dashboard
</a>
    <a class="js-selected-navigation-item Header-link mt-md-n3 mb-md-n3 py-2 py-md-3 mr-0 mr-md-3 border-top border-md-top-0 border-white-fade-15" data-hotkey="g p" data-ga-click="Header, click, Nav menu - item:pulls context:user" aria-label="Pull requests you created" data-selected-links="/pulls /pulls/assigned /pulls/mentioned /pulls" href="/pulls">
        Pull<span class="d-inline d-md-none d-lg-inline"> request</span>s
</a>
    <a class="js-selected-navigation-item Header-link mt-md-n3 mb-md-n3 py-2 py-md-3 mr-0 mr-md-3 border-top border-md-top-0 border-white-fade-15" data-hotkey="g i" data-ga-click="Header, click, Nav menu - item:issues context:user" aria-label="Issues you created" data-selected-links="/issues /issues/assigned /issues/mentioned /issues" href="/issues">
      Issues
</a>
      <div class="d-flex position-relative">
        <a class="js-selected-navigation-item Header-link flex-auto mt-md-n3 mb-md-n3 py-2 py-md-3 mr-0 mr-md-3 border-top border-md-top-0 border-white-fade-15" data-ga-click="Header, click, Nav menu - item:marketplace context:user" data-octo-click="marketplace_click" data-octo-dimensions="location:nav_bar" data-selected-links=" /marketplace" href="/marketplace">
          Marketplace
</a>      </div>

    <a class="js-selected-navigation-item Header-link mt-md-n3 mb-md-n3 py-2 py-md-3 mr-0 mr-md-3 border-top border-md-top-0 border-white-fade-15" data-ga-click="Header, click, Nav menu - item:explore" data-selected-links="/explore /trending /trending/developers /integrations /integrations/feature/code /integrations/feature/collaborate /integrations/feature/ship showcases showcases_search showcases_landing /explore" href="/explore">
      Explore
</a>
    <a class="js-selected-navigation-item Header-link d-block d-md-none py-2 py-md-3 border-top border-md-top-0 border-white-fade-15" data-ga-click="Header, click, Nav menu - item:workspaces context:user" data-selected-links="/codespaces /codespaces" href="/codespaces">
      Codespaces
</a>
      <a class="js-selected-navigation-item Header-link d-block d-md-none py-2 py-md-3 border-top border-md-top-0 border-white-fade-15" data-ga-click="Header, click, Nav menu - item:Sponsors" data-hydro-click="{&quot;event_type&quot;:&quot;sponsors.button_click&quot;,&quot;payload&quot;:{&quot;button&quot;:&quot;HEADER_SPONSORS_DASHBOARD&quot;,&quot;sponsorable_login&quot;:&quot;ananya87&quot;,&quot;originating_url&quot;:&quot;https://github.com/MkTej/Applied-Data-Science-Capstone/commit/4e280d20bf32b70f9eb8ca801f9bde8f43c59b32&quot;,&quot;user_id&quot;:70435676}}" data-hydro-click-hmac="574a103eb190c8bfba18564448f602cbdcbc9808c69002f4480413599a362b53" data-selected-links=" /sponsors/accounts" href="/sponsors/accounts">Sponsors</a>

    <a class="Header-link d-block d-md-none mr-0 mr-md-3 py-2 py-md-3 border-top border-md-top-0 border-white-fade-15" href="/settings/profile">
      Settings
</a>
    <a class="Header-link d-block d-md-none mr-0 mr-md-3 py-2 py-md-3 border-top border-md-top-0 border-white-fade-15" href="/ananya87">
      <img class="avatar avatar-user" src="https://avatars.githubusercontent.com/u/70435676?s=40&amp;v=4" width="20" height="20" alt="@ananya87" />
      ananya87
</a>
    <!-- '"` --><!-- </textarea></xmp> --></option></form><form action="/logout" accept-charset="UTF-8" method="post"><input type="hidden" name="authenticity_token" value="JnjpHinfRT5PJ3/aZzWHUf22au3m4obrF9CFRMD0sSvLVP9Jz3N7KJz0y5trmisZkv6vDJyMnpEt8PzBKWTGyg==" />
      <button type="submit" class="Header-link mr-0 mr-md-3 py-2 py-md-3 border-top border-md-top-0 border-white-fade-15 d-md-none btn-link d-block width-full text-left" data-ga-click="Header, sign out, icon:logout" style="padding-left: 2px;">
        <svg class="octicon octicon-sign-out v-align-middle" viewBox="0 0 16 16" version="1.1" width="16" height="16" aria-hidden="true"><path fill-rule="evenodd" d="M2 2.75C2 1.784 2.784 1 3.75 1h2.5a.75.75 0 010 1.5h-2.5a.25.25 0 00-.25.25v10.5c0 .138.112.25.25.25h2.5a.75.75 0 010 1.5h-2.5A1.75 1.75 0 012 13.25V2.75zm10.44 4.5H6.75a.75.75 0 000 1.5h5.69l-1.97 1.97a.75.75 0 101.06 1.06l3.25-3.25a.75.75 0 000-1.06l-3.25-3.25a.75.75 0 10-1.06 1.06l1.97 1.97z"></path></svg>
        Sign out
      </button>
</form></nav>

    </div>

    <div class="Header-item Header-item--full flex-justify-center d-md-none position-relative">
        <a class="Header-link " href="https://github.com/" data-hotkey="g d"
  aria-label="Homepage " data-ga-click="Header, go to dashboard, icon:logo">
  <svg class="octicon octicon-mark-github v-align-middle" height="32" viewBox="0 0 16 16" version="1.1" width="32" aria-hidden="true"><path fill-rule="evenodd" d="M8 0C3.58 0 0 3.58 0 8c0 3.54 2.29 6.53 5.47 7.59.4.07.55-.17.55-.38 0-.19-.01-.82-.01-1.49-2.01.37-2.53-.49-2.69-.94-.09-.23-.48-.94-.82-1.13-.28-.15-.68-.52-.01-.53.63-.01 1.08.58 1.23.82.72 1.21 1.87.87 2.33.66.07-.52.28-.87.51-1.07-1.78-.2-3.64-.89-3.64-3.95 0-.87.31-1.59.82-2.15-.08-.2-.36-1.02.08-2.12 0 0 .67-.21 2.2.82.64-.18 1.32-.27 2-.27.68 0 1.36.09 2 .27 1.53-1.04 2.2-.82 2.2-.82.44 1.1.16 1.92.08 2.12.51.56.82 1.27.82 2.15 0 3.07-1.87 3.75-3.65 3.95.29.25.54.73.54 1.48 0 1.07-.01 1.93-.01 2.2 0 .21.15.46.55.38A8.013 8.013 0 0016 8c0-4.42-3.58-8-8-8z"></path></svg>
</a>

    </div>

    <div class="Header-item mr-0 mr-md-3 flex-order-1 flex-md-order-none">
        


      <notification-indicator
        class="js-socket-channel"
        data-test-selector="notifications-indicator"
        data-channel="eyJjIjoibm90aWZpY2F0aW9uLWNoYW5nZWQ6NzA0MzU2NzYiLCJ0IjoxNjE3MTk2MzAzfQ==--d4560093d801348098b4c28397aada58b45e9370d51d2b0151d608f9253d50bb">
        <a href="/notifications"
          class="Header-link notification-indicator position-relative tooltipped tooltipped-sw"
          
          aria-label="You have no unread notifications"
          data-hotkey="g n"
          data-ga-click="Header, go to notifications, icon:read"
          data-target="notification-indicator.link">
          <span class="mail-status  " data-target="notification-indicator.modifier"></span>
          <svg class="octicon octicon-bell" viewBox="0 0 16 16" version="1.1" width="16" height="16" aria-hidden="true"><path d="M8 16a2 2 0 001.985-1.75c.017-.137-.097-.25-.235-.25h-3.5c-.138 0-.252.113-.235.25A2 2 0 008 16z"></path><path fill-rule="evenodd" d="M8 1.5A3.5 3.5 0 004.5 5v2.947c0 .346-.102.683-.294.97l-1.703 2.556a.018.018 0 00-.003.01l.001.006c0 .002.002.004.004.006a.017.017 0 00.006.004l.007.001h10.964l.007-.001a.016.016 0 00.006-.004.016.016 0 00.004-.006l.001-.007a.017.017 0 00-.003-.01l-1.703-2.554a1.75 1.75 0 01-.294-.97V5A3.5 3.5 0 008 1.5zM3 5a5 5 0 0110 0v2.947c0 .05.015.098.042.139l1.703 2.555A1.518 1.518 0 0113.482 13H2.518a1.518 1.518 0 01-1.263-2.36l1.703-2.554A.25.25 0 003 7.947V5z"></path></svg>
        </a>
      </notification-indicator>

    </div>


    <div class="Header-item position-relative d-none d-md-flex">
        <details class="details-overlay details-reset js-header-promo-toggle">
  <summary class="Header-link"
      aria-label="Create new…"
      data-ga-click="Header, create new, icon:add">
      <svg class="octicon octicon-plus" viewBox="0 0 16 16" version="1.1" width="16" height="16" aria-hidden="true"><path fill-rule="evenodd" d="M7.75 2a.75.75 0 01.75.75V7h4.25a.75.75 0 110 1.5H8.5v4.25a.75.75 0 11-1.5 0V8.5H2.75a.75.75 0 010-1.5H7V2.75A.75.75 0 017.75 2z"></path></svg> <span class="dropdown-caret"></span>
  </summary>
  <details-menu class="dropdown-menu dropdown-menu-sw">
    
<a role="menuitem" class="dropdown-item" href="/new" data-ga-click="Header, create new repository">
  New repository
</a>

  <a role="menuitem" class="dropdown-item" href="/new/import" data-ga-click="Header, import a repository">
    Import repository
  </a>

<a role="menuitem" class="dropdown-item" href="https://gist.github.com/" data-ga-click="Header, create new gist">
  New gist
</a>

  <a role="menuitem" class="dropdown-item" href="/organizations/new" data-ga-click="Header, create new organization">
    New organization
  </a>


  <div role="none" class="dropdown-divider"></div>
  <div class="dropdown-header">
    <span title="MkTej/Applied-Data-Science-Capstone">This repository</span>
  </div>
    <a role="menuitem" class="dropdown-item" href="/MkTej/Applied-Data-Science-Capstone/issues/new/choose" data-ga-click="Header, create new issue" data-skip-pjax>
      New issue
    </a>


  </details-menu>
</details>

    </div>

    <div class="Header-item position-relative mr-0 d-none d-md-flex">
        
  <details class="details-overlay details-reset js-header-promo-toggle js-feature-preview-indicator-container" data-feature-preview-indicator-src="/users/ananya87/feature_preview/indicator_check">

  <summary class="Header-link"
    aria-label="View profile and more"
    data-ga-click="Header, show menu, icon:avatar">
    <img src="https://avatars.githubusercontent.com/u/70435676?s=60&amp;v=4" alt="@ananya87" size="20" height="20" width="20" class="avatar-user avatar avatar-small "></img>
      <span class="feature-preview-indicator js-feature-preview-indicator" style="top: 1px;" hidden></span>
    <span class="dropdown-caret"></span>
  </summary>
  <details-menu class="dropdown-menu dropdown-menu-sw" style="width: 180px" 
      src="/users/70435676/menu" preload>
      <include-fragment>
        <p class="text-center mt-3" data-hide-on-error>
          <svg style="box-sizing: content-box; color: var(--color-icon-primary);" viewBox="0 0 16 16" fill="none" width="32" height="32" class="anim-rotate">
  <circle cx="8" cy="8" r="7" stroke="currentColor" stroke-opacity="0.25" stroke-width="2" vector-effect="non-scaling-stroke" />
  <path d="M15 8a7.002 7.002 0 00-7-7" stroke="currentColor" stroke-width="2" stroke-linecap="round" vector-effect="non-scaling-stroke" />
</svg>
        </p>
        <p class="ml-1 mb-2 mt-2 color-text-primary" data-show-on-error>
          <svg class="octicon octicon-alert" viewBox="0 0 16 16" version="1.1" width="16" height="16" aria-hidden="true"><path fill-rule="evenodd" d="M8.22 1.754a.25.25 0 00-.44 0L1.698 13.132a.25.25 0 00.22.368h12.164a.25.25 0 00.22-.368L8.22 1.754zm-1.763-.707c.659-1.234 2.427-1.234 3.086 0l6.082 11.378A1.75 1.75 0 0114.082 15H1.918a1.75 1.75 0 01-1.543-2.575L6.457 1.047zM9 11a1 1 0 11-2 0 1 1 0 012 0zm-.25-5.25a.75.75 0 00-1.5 0v2.5a.75.75 0 001.5 0v-2.5z"></path></svg>
          Sorry, something went wrong.
        </p>
      </include-fragment>
  </details-menu>
</details>

    </div>
</header>

              
    </div>

  <div id="start-of-content" class="show-on-focus"></div>





    <div data-pjax-replace id="js-flash-container">


  <template class="js-flash-template">
    <div class="flash flash-full  {{ className }}">
  <div class=" px-2" >
    <button class="flash-close js-flash-close" type="button" aria-label="Dismiss this message">
      <svg class="octicon octicon-x" viewBox="0 0 16 16" version="1.1" width="16" height="16" aria-hidden="true"><path fill-rule="evenodd" d="M3.72 3.72a.75.75 0 011.06 0L8 6.94l3.22-3.22a.75.75 0 111.06 1.06L9.06 8l3.22 3.22a.75.75 0 11-1.06 1.06L8 9.06l-3.22 3.22a.75.75 0 01-1.06-1.06L6.94 8 3.72 4.78a.75.75 0 010-1.06z"></path></svg>
    </button>
    
      <div>{{ message }}</div>

  </div>
</div>
  </template>
</div>


    

  <include-fragment class="js-notification-shelf-include-fragment" data-base-src="https://github.com/notifications/beta/shelf"></include-fragment>




  <div
    class="application-main "
    data-commit-hovercards-enabled
    data-discussion-hovercards-enabled
    data-issue-and-pr-hovercards-enabled
  >
        <div itemscope itemtype="http://schema.org/SoftwareSourceCode" class="">
    <main id="js-repo-pjax-container" data-pjax-container >
      
    

        <div class="border-bottom shelf intro-shelf js-notice mb-0 pb-4">
  <div class="width-full container">
    <div class="width-full mx-auto shelf-content">
      <h2 class="shelf-title">Learn Git and GitHub without any code!</h2>
      <p class="shelf-lead">
          Using the Hello World guide, you’ll start a branch, write comments, and open a pull request.
      </p>
      <a class="btn btn-primary shelf-cta" target="_blank" data-hydro-click="{&quot;event_type&quot;:&quot;repository.click&quot;,&quot;payload&quot;:{&quot;target&quot;:&quot;READ_GUIDE&quot;,&quot;repository_id&quot;:228142454,&quot;originating_url&quot;:&quot;https://github.com/MkTej/Applied-Data-Science-Capstone/commit/4e280d20bf32b70f9eb8ca801f9bde8f43c59b32&quot;,&quot;user_id&quot;:70435676}}" data-hydro-click-hmac="e09f375c4eb9455c6eb4a1ab344f71c08c1772992ff2edd11710749ee728b5f7" href="https://guides.github.com/activities/hello-world/">Read the guide</a>
    </div>
    <!-- '"` --><!-- </textarea></xmp> --></option></form><form class="shelf-dismiss js-notice-dismiss" action="/dashboard/dismiss_bootcamp" accept-charset="UTF-8" method="post"><input type="hidden" name="_method" value="delete" /><input type="hidden" name="authenticity_token" value="2ns5AsAvrXc35k23YUmSpVqWskoHkBJbEX87oFTmmnwk+4kuU7xuRa0/ylAwErs0mdqE13r30MhXx0ROKB1BLA==" />
      <button name="button" type="submit" class="mr-1 close-button tooltipped tooltipped-w" aria-label="Hide this notice forever" data-hydro-click="{&quot;event_type&quot;:&quot;repository.click&quot;,&quot;payload&quot;:{&quot;target&quot;:&quot;DISMISS_BANNER&quot;,&quot;repository_id&quot;:228142454,&quot;originating_url&quot;:&quot;https://github.com/MkTej/Applied-Data-Science-Capstone/commit/4e280d20bf32b70f9eb8ca801f9bde8f43c59b32&quot;,&quot;user_id&quot;:70435676}}" data-hydro-click-hmac="8178384266505a1b39c599fecb2f454aa3f6dc4096f354b0fb0300e45318bc70">
        <svg aria-label="Hide this notice forever" class="octicon octicon-x v-align-text-top" viewBox="0 0 16 16" version="1.1" width="16" height="16" role="img"><path fill-rule="evenodd" d="M3.72 3.72a.75.75 0 011.06 0L8 6.94l3.22-3.22a.75.75 0 111.06 1.06L9.06 8l3.22 3.22a.75.75 0 11-1.06 1.06L8 9.06l-3.22 3.22a.75.75 0 01-1.06-1.06L6.94 8 3.72 4.78a.75.75 0 010-1.06z"></path></svg>
</button></form>  </div>
</div>






  


  <div class="color-bg-secondary pt-3 hide-full-screen mb-5">

      <div class="d-flex mb-3 px-3 px-md-4 px-lg-5">

        <div class="flex-auto min-width-0 width-fit mr-3">
            <h1 class=" d-flex flex-wrap flex-items-center break-word f3 text-normal">
    <svg class="octicon octicon-repo color-text-secondary mr-2" viewBox="0 0 16 16" version="1.1" width="16" height="16" aria-hidden="true"><path fill-rule="evenodd" d="M2 2.5A2.5 2.5 0 014.5 0h8.75a.75.75 0 01.75.75v12.5a.75.75 0 01-.75.75h-2.5a.75.75 0 110-1.5h1.75v-2h-8a1 1 0 00-.714 1.7.75.75 0 01-1.072 1.05A2.495 2.495 0 012 11.5v-9zm10.5-1V9h-8c-.356 0-.694.074-1 .208V2.5a1 1 0 011-1h8zM5 12.25v3.25a.25.25 0 00.4.2l1.45-1.087a.25.25 0 01.3 0L8.6 15.7a.25.25 0 00.4-.2v-3.25a.25.25 0 00-.25-.25h-3.5a.25.25 0 00-.25.25z"></path></svg>
  <span class="author flex-self-stretch" itemprop="author">
    <a class="url fn" rel="author" data-hovercard-type="user" data-hovercard-url="/users/MkTej/hovercard" data-octo-click="hovercard-link-click" data-octo-dimensions="link_type:self" href="/MkTej">MkTej</a>
  </span>
  <span class="mx-1 flex-self-stretch color-text-secondary">/</span>
  <strong itemprop="name" class="mr-2 flex-self-stretch">
    <a data-pjax="#js-repo-pjax-container" href="/MkTej/Applied-Data-Science-Capstone">Applied-Data-Science-Capstone</a>
  </strong>
  
</h1>


        </div>

          <ul class="pagehead-actions flex-shrink-0 d-none d-md-inline" style="padding: 2px 0;">

  <li>
        <notifications-list-subscription-form class="f5 position-relative d-flex">
      <details
        class="details-reset details-overlay f5 position-relative"
        data-target="notifications-list-subscription-form.details"
        data-action="toggle:notifications-list-subscription-form#detailsToggled"
      >

      <summary class="btn btn-sm rounded-right-0" data-hydro-click="{&quot;event_type&quot;:&quot;repository.click&quot;,&quot;payload&quot;:{&quot;target&quot;:&quot;WATCH_BUTTON&quot;,&quot;repository_id&quot;:228142454,&quot;originating_url&quot;:&quot;https://github.com/MkTej/Applied-Data-Science-Capstone/commit/4e280d20bf32b70f9eb8ca801f9bde8f43c59b32&quot;,&quot;user_id&quot;:70435676}}" data-hydro-click-hmac="0da9a002f3c8114c7a46602d4e563b7cb3b7692df370fa556a6f6c9c4420f8ff" data-ga-click="Repository, click Watch settings, action:commit#show" aria-label="Notifications settings">
          <span data-menu-button>
            <span
              hidden
              
              data-target="notifications-list-subscription-form.unwatchButtonCopy"
            >
              <svg class="octicon octicon-eye" height="16" viewBox="0 0 16 16" version="1.1" width="16" aria-hidden="true"><path fill-rule="evenodd" d="M1.679 7.932c.412-.621 1.242-1.75 2.366-2.717C5.175 4.242 6.527 3.5 8 3.5c1.473 0 2.824.742 3.955 1.715 1.124.967 1.954 2.096 2.366 2.717a.119.119 0 010 .136c-.412.621-1.242 1.75-2.366 2.717C10.825 11.758 9.473 12.5 8 12.5c-1.473 0-2.824-.742-3.955-1.715C2.92 9.818 2.09 8.69 1.679 8.068a.119.119 0 010-.136zM8 2c-1.981 0-3.67.992-4.933 2.078C1.797 5.169.88 6.423.43 7.1a1.619 1.619 0 000 1.798c.45.678 1.367 1.932 2.637 3.024C4.329 13.008 6.019 14 8 14c1.981 0 3.67-.992 4.933-2.078 1.27-1.091 2.187-2.345 2.637-3.023a1.619 1.619 0 000-1.798c-.45-.678-1.367-1.932-2.637-3.023C11.671 2.992 9.981 2 8 2zm0 8a2 2 0 100-4 2 2 0 000 4z"></path></svg>
              Unwatch
            </span>
            <span
              hidden
              
              data-target="notifications-list-subscription-form.stopIgnoringButtonCopy"
            >
              <svg class="octicon octicon-bell-slash" height="16" viewBox="0 0 16 16" version="1.1" width="16" aria-hidden="true"><path fill-rule="evenodd" d="M8 1.5c-.997 0-1.895.416-2.534 1.086A.75.75 0 014.38 1.55 5 5 0 0113 5v2.373a.75.75 0 01-1.5 0V5A3.5 3.5 0 008 1.5zM4.182 4.31L1.19 2.143a.75.75 0 10-.88 1.214L3 5.305v2.642a.25.25 0 01-.042.139L1.255 10.64A1.518 1.518 0 002.518 13h11.108l1.184.857a.75.75 0 10.88-1.214l-1.375-.996a1.196 1.196 0 00-.013-.01L4.198 4.321a.733.733 0 00-.016-.011zm7.373 7.19L4.5 6.391v1.556c0 .346-.102.683-.294.97l-1.703 2.556a.018.018 0 00-.003.01.015.015 0 00.005.012.017.017 0 00.006.004l.007.001h9.037zM8 16a2 2 0 001.985-1.75c.017-.137-.097-.25-.235-.25h-3.5c-.138 0-.252.113-.235.25A2 2 0 008 16z"></path></svg>
              Stop ignoring
            </span>
            <span
              
              
              data-target="notifications-list-subscription-form.watchButtonCopy"
            >
              <svg class="octicon octicon-eye" height="16" viewBox="0 0 16 16" version="1.1" width="16" aria-hidden="true"><path fill-rule="evenodd" d="M1.679 7.932c.412-.621 1.242-1.75 2.366-2.717C5.175 4.242 6.527 3.5 8 3.5c1.473 0 2.824.742 3.955 1.715 1.124.967 1.954 2.096 2.366 2.717a.119.119 0 010 .136c-.412.621-1.242 1.75-2.366 2.717C10.825 11.758 9.473 12.5 8 12.5c-1.473 0-2.824-.742-3.955-1.715C2.92 9.818 2.09 8.69 1.679 8.068a.119.119 0 010-.136zM8 2c-1.981 0-3.67.992-4.933 2.078C1.797 5.169.88 6.423.43 7.1a1.619 1.619 0 000 1.798c.45.678 1.367 1.932 2.637 3.024C4.329 13.008 6.019 14 8 14c1.981 0 3.67-.992 4.933-2.078 1.27-1.091 2.187-2.345 2.637-3.023a1.619 1.619 0 000-1.798c-.45-.678-1.367-1.932-2.637-3.023C11.671 2.992 9.981 2 8 2zm0 8a2 2 0 100-4 2 2 0 000 4z"></path></svg>
              Watch
            </span>
          </span>
          <span class="dropdown-caret"></span>
</summary>
        <details-menu
          class="SelectMenu  "
          role="menu"
          data-target="notifications-list-subscription-form.menu"
          
        >
          <div class="SelectMenu-modal notifications-component-menu-modal">
            <header class="SelectMenu-header">
              <h3 class="SelectMenu-title">Notifications</h3>
              <button class="SelectMenu-closeButton" type="button" aria-label="Close menu" data-action="click:notifications-list-subscription-form#closeMenu">
                <svg class="octicon octicon-x" viewBox="0 0 16 16" version="1.1" width="16" height="16" aria-hidden="true"><path fill-rule="evenodd" d="M3.72 3.72a.75.75 0 011.06 0L8 6.94l3.22-3.22a.75.75 0 111.06 1.06L9.06 8l3.22 3.22a.75.75 0 11-1.06 1.06L8 9.06l-3.22 3.22a.75.75 0 01-1.06-1.06L6.94 8 3.72 4.78a.75.75 0 010-1.06z"></path></svg>
              </button>
            </header>

            <div class="SelectMenu-list">
              <form data-target="notifications-list-subscription-form.form" data-action="submit:notifications-list-subscription-form#submitForm" action="/notifications/subscribe" accept-charset="UTF-8" method="post"><input type="hidden" name="authenticity_token" value="QibVIsTQH05fARstJ2I773+gOoLUCexmlKeDm/FZ/12beSM8cQvKvTa16XrUlecUGugPjJYvEvS7uURxelnSlw==" />

                <input type="hidden" name="repository_id" value="228142454">

                <button
                  type="submit"
                  name="do"
                  value="included"
                  class="SelectMenu-item flex-items-start"
                  role="menuitemradio"
                  aria-checked="true"
                  data-targets="notifications-list-subscription-form.subscriptionButtons"
                  
                >
                  <span class="f5">
                    <svg class="octicon octicon-check SelectMenu-icon SelectMenu-icon--check" height="16" viewBox="0 0 16 16" version="1.1" width="16" aria-hidden="true"><path fill-rule="evenodd" d="M13.78 4.22a.75.75 0 010 1.06l-7.25 7.25a.75.75 0 01-1.06 0L2.22 9.28a.75.75 0 011.06-1.06L6 10.94l6.72-6.72a.75.75 0 011.06 0z"></path></svg>
                  </span>
                  <div>
                    <div class="f5 text-bold">
                      Participating and @mentions
                    </div>
                    <div class="text-small color-text-secondary text-normal pb-1">
                      Only receive notifications from this repository when participating or @mentioned.
                    </div>
                  </div>
                </button>

                <button
                  type="submit"
                  name="do"
                  value="subscribed"
                  class="SelectMenu-item flex-items-start"
                  role="menuitemradio"
                  aria-checked="false"
                  data-targets="notifications-list-subscription-form.subscriptionButtons"
                >
                  <span class="f5">
                    <svg class="octicon octicon-check SelectMenu-icon SelectMenu-icon--check" height="16" viewBox="0 0 16 16" version="1.1" width="16" aria-hidden="true"><path fill-rule="evenodd" d="M13.78 4.22a.75.75 0 010 1.06l-7.25 7.25a.75.75 0 01-1.06 0L2.22 9.28a.75.75 0 011.06-1.06L6 10.94l6.72-6.72a.75.75 0 011.06 0z"></path></svg>
                  </span>
                  <div>
                    <div class="f5 text-bold">
                      All Activity
                    </div>
                    <div class="text-small color-text-secondary text-normal pb-1">
                      Notified of all notifications on this repository.
                    </div>
                  </div>
                </button>

                <button
                  type="submit"
                  name="do"
                  value="ignore"
                  class="SelectMenu-item flex-items-start"
                  role="menuitemradio"
                  aria-checked="false"
                  data-targets="notifications-list-subscription-form.subscriptionButtons"
                >
                  <span class="f5">
                    <svg class="octicon octicon-check SelectMenu-icon SelectMenu-icon--check" height="16" viewBox="0 0 16 16" version="1.1" width="16" aria-hidden="true"><path fill-rule="evenodd" d="M13.78 4.22a.75.75 0 010 1.06l-7.25 7.25a.75.75 0 01-1.06 0L2.22 9.28a.75.75 0 011.06-1.06L6 10.94l6.72-6.72a.75.75 0 011.06 0z"></path></svg>
                  </span>
                  <div>
                    <div class="f5 text-bold">
                      Ignore
                    </div>
                    <div class="text-small color-text-secondary text-normal pb-1">
                      Never be notified.
                    </div>
                  </div>
                </button>
</form>
              <button
                class="SelectMenu-item flex-items-start pr-3"
                type="button"
                role="menuitemradio"
                data-target="notifications-list-subscription-form.customButton"
                data-action="click:notifications-list-subscription-form#openCustomDialog"
                aria-haspopup="true"
                aria-checked="false"
                
              >
                <span class="f5">
                  <svg class="octicon octicon-check SelectMenu-icon SelectMenu-icon--check" height="16" viewBox="0 0 16 16" version="1.1" width="16" aria-hidden="true"><path fill-rule="evenodd" d="M13.78 4.22a.75.75 0 010 1.06l-7.25 7.25a.75.75 0 01-1.06 0L2.22 9.28a.75.75 0 011.06-1.06L6 10.94l6.72-6.72a.75.75 0 011.06 0z"></path></svg>
                </span>
                <div>
                  <div class="d-flex flex-items-start flex-justify-between">
                    <div class="f5 text-bold">Custom</div>
                    <div class="f5 pr-1">
                      <svg class="octicon octicon-arrow-right" height="16" viewBox="0 0 16 16" version="1.1" width="16" aria-hidden="true"><path fill-rule="evenodd" d="M8.22 2.97a.75.75 0 011.06 0l4.25 4.25a.75.75 0 010 1.06l-4.25 4.25a.75.75 0 01-1.06-1.06l2.97-2.97H3.75a.75.75 0 010-1.5h7.44L8.22 4.03a.75.75 0 010-1.06z"></path></svg>
                    </div>
                  </div>
                  <div class="text-small color-text-secondary text-normal pb-1">
                    Select events you want to be notified of in addition to participating and @mentions.
                  </div>
                </div>
              </button>
            </div>
          </div>
        </details-menu>

        <details-dialog class="notifications-component-dialog " data-target="notifications-list-subscription-form.customDialog" hidden>
          <div class="SelectMenu-modal notifications-component-dialog-modal overflow-visible">
            <form data-target="notifications-list-subscription-form.customform" data-action="submit:notifications-list-subscription-form#submitCustomForm" action="/notifications/subscribe" accept-charset="UTF-8" method="post"><input type="hidden" name="authenticity_token" value="MR2HOgkLq9CRVhVmwAfWbDEWE0b1EAPhK8IZV1MMQCfoQnEkvNB+I/ji5zEz8AqXVF4mSLc2/XME3N692Axt7Q==" />

              <input type="hidden" name="repository_id" value="228142454">

              <header class="d-sm-none SelectMenu-header pb-0 border-bottom-0 px-2 px-sm-3">
                <h1 class="f3 SelectMenu-title d-inline-flex">
                  <button
                    class="color-bg-primary border-0 px-2 py-0 m-0 Link--secondary f5"
                    aria-label="Return to menu"
                    type="button"
                    data-action="click:notifications-list-subscription-form#closeCustomDialog"
                  >
                    <svg style="" class="octicon octicon-arrow-left" height="16" viewBox="0 0 16 16" version="1.1" width="16" aria-hidden="true"><path fill-rule="evenodd" d="M7.78 12.53a.75.75 0 01-1.06 0L2.47 8.28a.75.75 0 010-1.06l4.25-4.25a.75.75 0 011.06 1.06L4.81 7h7.44a.75.75 0 010 1.5H4.81l2.97 2.97a.75.75 0 010 1.06z"></path></svg>
                  </button>
                  Custom
                </h3>
              </header>

              <header class="d-none d-sm-flex flex-items-start pt-1">
                <button
                  class="border-0 px-2 pt-1 m-0 Link--secondary f5"
                  style="background-color: transparent;"
                  aria-label="Return to menu"
                  type="button"
                  data-action="click:notifications-list-subscription-form#closeCustomDialog"
                >
                  <svg style="position: relative; left: 2px; top: 1px" class="octicon octicon-arrow-left" height="16" viewBox="0 0 16 16" version="1.1" width="16" aria-hidden="true"><path fill-rule="evenodd" d="M7.78 12.53a.75.75 0 01-1.06 0L2.47 8.28a.75.75 0 010-1.06l4.25-4.25a.75.75 0 011.06 1.06L4.81 7h7.44a.75.75 0 010 1.5H4.81l2.97 2.97a.75.75 0 010 1.06z"></path></svg>
                </button>

                <h1 class="pt-1 pr-4 pb-0 pl-0 f5 text-bold">
                  Custom
                </h1>
              </header>

              <fieldset>
                <legend>
                  <div class="text-small color-text-secondary pt-0 pr-3 pb-3 pl-6 pl-sm-5 border-bottom mb-3">
                    Select events you want to be notified of in addition to participating and @mentions.
                  </div>
                </legend>
                  <div class="form-checkbox mr-3 ml-6 ml-sm-5 mb-2 mt-0">
                    <label class="f5 text-normal">
                      <input
                        type="checkbox"
                        name="thread_types[]"
                        value="Issue"
                        data-targets="notifications-list-subscription-form.threadTypeCheckboxes"
                        data-action="change:notifications-list-subscription-form#threadTypeCheckboxesUpdated"
                        
                      >
                      Issues
                    </label>

                  </div>
                  <div class="form-checkbox mr-3 ml-6 ml-sm-5 mb-2 mt-0">
                    <label class="f5 text-normal">
                      <input
                        type="checkbox"
                        name="thread_types[]"
                        value="PullRequest"
                        data-targets="notifications-list-subscription-form.threadTypeCheckboxes"
                        data-action="change:notifications-list-subscription-form#threadTypeCheckboxesUpdated"
                        
                      >
                      Pull requests
                    </label>

                  </div>
                  <div class="form-checkbox mr-3 ml-6 ml-sm-5 mb-2 mt-0">
                    <label class="f5 text-normal">
                      <input
                        type="checkbox"
                        name="thread_types[]"
                        value="Release"
                        data-targets="notifications-list-subscription-form.threadTypeCheckboxes"
                        data-action="change:notifications-list-subscription-form#threadTypeCheckboxesUpdated"
                        
                      >
                      Releases
                    </label>

                  </div>
                  <div class="form-checkbox mr-3 ml-6 ml-sm-5 mb-2 mt-0">
                    <label class="f5 text-normal">
                      <input
                        type="checkbox"
                        name="thread_types[]"
                        value="Discussion"
                        data-targets="notifications-list-subscription-form.threadTypeCheckboxes"
                        data-action="change:notifications-list-subscription-form#threadTypeCheckboxesUpdated"
                        
                      >
                      Discussions
                    </label>

                      <span
                        class="tooltipped tooltipped-nw mr-2 p-1 float-right"
                        
                        aria-label="Discussions are not enabled for this repo">
                        <svg style="fill: var(--color-icon-tertiary)" class="octicon octicon-info" viewBox="0 0 16 16" version="1.1" width="16" height="16" aria-hidden="true"><path fill-rule="evenodd" d="M8 1.5a6.5 6.5 0 100 13 6.5 6.5 0 000-13zM0 8a8 8 0 1116 0A8 8 0 010 8zm6.5-.25A.75.75 0 017.25 7h1a.75.75 0 01.75.75v2.75h.25a.75.75 0 010 1.5h-2a.75.75 0 010-1.5h.25v-2h-.25a.75.75 0 01-.75-.75zM8 6a1 1 0 100-2 1 1 0 000 2z"></path></svg>
                      </span>
                  </div>
              </fieldset>
              <div class="pt-2 pb-3 px-3 d-flex flex-justify-start flex-row-reverse">
                <button
                  type="submit"
                  name="do"
                  value="custom"
                  class="btn btn-sm btn-primary ml-2"
                  data-target="notifications-list-subscription-form.customSubmit"
                  disabled
                >Apply</button>

                <button
                  class="btn btn-sm"
                  type="button"
                  data-action="click:notifications-list-subscription-form#resetForm"
                  data-close-dialog="">Cancel</button>
              </div>
</form>          </div>
        </details-dialog>
        <div class="notifications-component-dialog-overlay"></div>
      </details>
        <a class="social-count"
          href="/MkTej/Applied-Data-Science-Capstone/watchers"
          aria-label="1 user is watching this repository"
          data-target="notifications-list-subscription-form.socialCount"
        >
          1
        </a>
    </notifications-list-subscription-form>



  </li>

  <li>
        <div class="d-block js-toggler-container js-social-container starring-container ">
    <form class="starred js-social-form" action="/MkTej/Applied-Data-Science-Capstone/unstar" accept-charset="UTF-8" method="post"><input type="hidden" name="authenticity_token" value="bpdT5gnVmIpAKAWhP6NhauEEl3YyVhYxLFDvC/+gb/y5XjOcra4DWcsqifP9Qr+XLqdjqftnVm4YRdxs1oS8ag==" />
      <input type="hidden" name="context" value="repository">
      <button type="submit" class="btn btn-sm btn-with-count  js-toggler-target" aria-label="Unstar this repository" title="Unstar MkTej/Applied-Data-Science-Capstone" data-hydro-click="{&quot;event_type&quot;:&quot;repository.click&quot;,&quot;payload&quot;:{&quot;target&quot;:&quot;UNSTAR_BUTTON&quot;,&quot;repository_id&quot;:228142454,&quot;originating_url&quot;:&quot;https://github.com/MkTej/Applied-Data-Science-Capstone/commit/4e280d20bf32b70f9eb8ca801f9bde8f43c59b32&quot;,&quot;user_id&quot;:70435676}}" data-hydro-click-hmac="4917328c32824a488961bb779612d2ed1473ccd9929dd680f68aaabf28fa0875" data-ga-click="Repository, click unstar button, action:commit#show; text:Unstar">        <svg class="octicon octicon-star-fill mr-1" height="16" viewBox="0 0 16 16" version="1.1" width="16" aria-hidden="true"><path fill-rule="evenodd" d="M8 .25a.75.75 0 01.673.418l1.882 3.815 4.21.612a.75.75 0 01.416 1.279l-3.046 2.97.719 4.192a.75.75 0 01-1.088.791L8 12.347l-3.766 1.98a.75.75 0 01-1.088-.79l.72-4.194L.818 6.374a.75.75 0 01.416-1.28l4.21-.611L7.327.668A.75.75 0 018 .25z"></path></svg>
        <span>
          Unstar
</span></button>        <a class="social-count js-social-count" href="/MkTej/Applied-Data-Science-Capstone/stargazers"
           aria-label="5 users starred this repository">
           5
        </a>
</form>
    <form class="unstarred js-social-form" action="/MkTej/Applied-Data-Science-Capstone/star" accept-charset="UTF-8" method="post"><input type="hidden" name="authenticity_token" value="bLhOX0NvY2YFZUPBGu64/+oi4+Xpr99XFbEWCk6dhUb6wp2tz+PgJzECXY92pTt5LRDw6IbMvwlJgjQYhchulw==" />
      <input type="hidden" name="context" value="repository">
      <button type="submit" class="btn btn-sm btn-with-count  js-toggler-target" aria-label="Unstar this repository" title="Star MkTej/Applied-Data-Science-Capstone" data-hydro-click="{&quot;event_type&quot;:&quot;repository.click&quot;,&quot;payload&quot;:{&quot;target&quot;:&quot;STAR_BUTTON&quot;,&quot;repository_id&quot;:228142454,&quot;originating_url&quot;:&quot;https://github.com/MkTej/Applied-Data-Science-Capstone/commit/4e280d20bf32b70f9eb8ca801f9bde8f43c59b32&quot;,&quot;user_id&quot;:70435676}}" data-hydro-click-hmac="2f8c4f059dd38e60496836aa675e9aa605900082e562d1820df0843530e65a64" data-ga-click="Repository, click star button, action:commit#show; text:Star">        <svg class="octicon octicon-star mr-1" height="16" viewBox="0 0 16 16" version="1.1" width="16" aria-hidden="true"><path fill-rule="evenodd" d="M8 .25a.75.75 0 01.673.418l1.882 3.815 4.21.612a.75.75 0 01.416 1.279l-3.046 2.97.719 4.192a.75.75 0 01-1.088.791L8 12.347l-3.766 1.98a.75.75 0 01-1.088-.79l.72-4.194L.818 6.374a.75.75 0 01.416-1.28l4.21-.611L7.327.668A.75.75 0 018 .25zm0 2.445L6.615 5.5a.75.75 0 01-.564.41l-3.097.45 2.24 2.184a.75.75 0 01.216.664l-.528 3.084 2.769-1.456a.75.75 0 01.698 0l2.77 1.456-.53-3.084a.75.75 0 01.216-.664l2.24-2.183-3.096-.45a.75.75 0 01-.564-.41L8 2.694v.001z"></path></svg>
        <span>
          Star
</span></button>        <a class="social-count js-social-count" href="/MkTej/Applied-Data-Science-Capstone/stargazers"
           aria-label="5 users starred this repository">
          5
        </a>
</form>  </div>

  </li>

  <li>
            <!-- '"` --><!-- </textarea></xmp> --></option></form><form class="btn-with-count" action="/MkTej/Applied-Data-Science-Capstone/fork" accept-charset="UTF-8" method="post"><input type="hidden" name="authenticity_token" value="LA2+N7wxdL9G1G4NuXKXTUnm8hex3xs2nSf2i8tlh89QtOmai9WK16mrXpHXkZwnxSF2h7bq7YfcbgGGPotQpQ==" />
              <button class="btn btn-sm btn-with-count" data-hydro-click="{&quot;event_type&quot;:&quot;repository.click&quot;,&quot;payload&quot;:{&quot;target&quot;:&quot;FORK_BUTTON&quot;,&quot;repository_id&quot;:228142454,&quot;originating_url&quot;:&quot;https://github.com/MkTej/Applied-Data-Science-Capstone/commit/4e280d20bf32b70f9eb8ca801f9bde8f43c59b32&quot;,&quot;user_id&quot;:70435676}}" data-hydro-click-hmac="03cf92c45fa136e00ca42b6310c8dc9157dd3d26388a5b1e2cf6d479e1af354f" data-ga-click="Repository, show fork modal, action:commit#show; text:Fork" type="submit" title="Fork your own copy of MkTej/Applied-Data-Science-Capstone to your account" aria-label="Fork your own copy of MkTej/Applied-Data-Science-Capstone to your account">                <svg class="octicon octicon-repo-forked" viewBox="0 0 16 16" version="1.1" width="16" height="16" aria-hidden="true"><path fill-rule="evenodd" d="M5 3.25a.75.75 0 11-1.5 0 .75.75 0 011.5 0zm0 2.122a2.25 2.25 0 10-1.5 0v.878A2.25 2.25 0 005.75 8.5h1.5v2.128a2.251 2.251 0 101.5 0V8.5h1.5a2.25 2.25 0 002.25-2.25v-.878a2.25 2.25 0 10-1.5 0v.878a.75.75 0 01-.75.75h-4.5A.75.75 0 015 6.25v-.878zm3.75 7.378a.75.75 0 11-1.5 0 .75.75 0 011.5 0zm3-8.75a.75.75 0 100-1.5.75.75 0 000 1.5z"></path></svg>
                Fork
</button></form>
      <a href="/MkTej/Applied-Data-Science-Capstone/network/members" class="social-count"
         aria-label="40 users forked this repository">
        40
      </a>
  </li>
</ul>

      </div>
        
<nav aria-label="Repository" data-pjax="#js-repo-pjax-container" class="js-repo-nav js-sidenav-container-pjax js-responsive-underlinenav overflow-hidden UnderlineNav px-3 px-md-4 px-lg-5 color-bg-secondary">
  <ul class="UnderlineNav-body list-style-none ">        <li class="d-flex">
          <a class="js-selected-navigation-item selected UnderlineNav-item hx_underlinenav-item no-wrap js-responsive-underlinenav-item" data-tab-item="i0code-tab" data-hotkey="g c" data-ga-click="Repository, Navigation click, Code tab" aria-current="page" data-selected-links="repo_source repo_downloads repo_commits repo_releases repo_tags repo_branches repo_packages repo_deployments /MkTej/Applied-Data-Science-Capstone" href="/MkTej/Applied-Data-Science-Capstone">
                <svg class="octicon octicon-code UnderlineNav-octicon d-none d-sm-inline" height="16" viewBox="0 0 16 16" version="1.1" width="16" aria-hidden="true"><path fill-rule="evenodd" d="M4.72 3.22a.75.75 0 011.06 1.06L2.06 8l3.72 3.72a.75.75 0 11-1.06 1.06L.47 8.53a.75.75 0 010-1.06l4.25-4.25zm6.56 0a.75.75 0 10-1.06 1.06L13.94 8l-3.72 3.72a.75.75 0 101.06 1.06l4.25-4.25a.75.75 0 000-1.06l-4.25-4.25z"></path></svg>
              <span data-content="Code">Code</span>
                <span title="Not available" class="Counter "></span>
</a>        </li>
        <li class="d-flex">
          <a class="js-selected-navigation-item UnderlineNav-item hx_underlinenav-item no-wrap js-responsive-underlinenav-item" data-tab-item="i1issues-tab" data-hotkey="g i" data-ga-click="Repository, Navigation click, Issues tab" data-selected-links="repo_issues repo_labels repo_milestones /MkTej/Applied-Data-Science-Capstone/issues" href="/MkTej/Applied-Data-Science-Capstone/issues">
                <svg class="octicon octicon-issue-opened UnderlineNav-octicon d-none d-sm-inline" height="16" viewBox="0 0 16 16" version="1.1" width="16" aria-hidden="true"><path fill-rule="evenodd" d="M8 1.5a6.5 6.5 0 100 13 6.5 6.5 0 000-13zM0 8a8 8 0 1116 0A8 8 0 010 8zm9 3a1 1 0 11-2 0 1 1 0 012 0zm-.25-6.25a.75.75 0 00-1.5 0v3.5a.75.75 0 001.5 0v-3.5z"></path></svg>
              <span data-content="Issues">Issues</span>
                <span title="0" hidden="hidden" class="Counter ">0</span>
</a>        </li>
        <li class="d-flex">
          <a class="js-selected-navigation-item UnderlineNav-item hx_underlinenav-item no-wrap js-responsive-underlinenav-item" data-tab-item="i2pull-requests-tab" data-hotkey="g p" data-ga-click="Repository, Navigation click, Pull requests tab" data-selected-links="repo_pulls checks /MkTej/Applied-Data-Science-Capstone/pulls" href="/MkTej/Applied-Data-Science-Capstone/pulls">
                <svg class="octicon octicon-git-pull-request UnderlineNav-octicon d-none d-sm-inline" height="16" viewBox="0 0 16 16" version="1.1" width="16" aria-hidden="true"><path fill-rule="evenodd" d="M7.177 3.073L9.573.677A.25.25 0 0110 .854v4.792a.25.25 0 01-.427.177L7.177 3.427a.25.25 0 010-.354zM3.75 2.5a.75.75 0 100 1.5.75.75 0 000-1.5zm-2.25.75a2.25 2.25 0 113 2.122v5.256a2.251 2.251 0 11-1.5 0V5.372A2.25 2.25 0 011.5 3.25zM11 2.5h-1V4h1a1 1 0 011 1v5.628a2.251 2.251 0 101.5 0V5A2.5 2.5 0 0011 2.5zm1 10.25a.75.75 0 111.5 0 .75.75 0 01-1.5 0zM3.75 12a.75.75 0 100 1.5.75.75 0 000-1.5z"></path></svg>
              <span data-content="Pull requests">Pull requests</span>
                <span title="0" hidden="hidden" class="Counter ">0</span>
</a>        </li>
        <li class="d-flex">
          <a class="js-selected-navigation-item UnderlineNav-item hx_underlinenav-item no-wrap js-responsive-underlinenav-item" data-tab-item="i3actions-tab" data-hotkey="g a" data-ga-click="Repository, Navigation click, Actions tab" data-selected-links="repo_actions /MkTej/Applied-Data-Science-Capstone/actions" href="/MkTej/Applied-Data-Science-Capstone/actions">
                <svg class="octicon octicon-play UnderlineNav-octicon d-none d-sm-inline" height="16" viewBox="0 0 16 16" version="1.1" width="16" aria-hidden="true"><path fill-rule="evenodd" d="M1.5 8a6.5 6.5 0 1113 0 6.5 6.5 0 01-13 0zM8 0a8 8 0 100 16A8 8 0 008 0zM6.379 5.227A.25.25 0 006 5.442v5.117a.25.25 0 00.379.214l4.264-2.559a.25.25 0 000-.428L6.379 5.227z"></path></svg>
              <span data-content="Actions">Actions</span>
                <span title="Not available" class="Counter "></span>
</a>        </li>
        <li class="d-flex">
          <a class="js-selected-navigation-item UnderlineNav-item hx_underlinenav-item no-wrap js-responsive-underlinenav-item" data-tab-item="i4projects-tab" data-hotkey="g b" data-ga-click="Repository, Navigation click, Projects tab" data-selected-links="repo_projects new_repo_project repo_project /MkTej/Applied-Data-Science-Capstone/projects" href="/MkTej/Applied-Data-Science-Capstone/projects">
                <svg class="octicon octicon-project UnderlineNav-octicon d-none d-sm-inline" height="16" viewBox="0 0 16 16" version="1.1" width="16" aria-hidden="true"><path fill-rule="evenodd" d="M1.75 0A1.75 1.75 0 000 1.75v12.5C0 15.216.784 16 1.75 16h12.5A1.75 1.75 0 0016 14.25V1.75A1.75 1.75 0 0014.25 0H1.75zM1.5 1.75a.25.25 0 01.25-.25h12.5a.25.25 0 01.25.25v12.5a.25.25 0 01-.25.25H1.75a.25.25 0 01-.25-.25V1.75zM11.75 3a.75.75 0 00-.75.75v7.5a.75.75 0 001.5 0v-7.5a.75.75 0 00-.75-.75zm-8.25.75a.75.75 0 011.5 0v5.5a.75.75 0 01-1.5 0v-5.5zM8 3a.75.75 0 00-.75.75v3.5a.75.75 0 001.5 0v-3.5A.75.75 0 008 3z"></path></svg>
              <span data-content="Projects">Projects</span>
                <span title="0" hidden="hidden" class="Counter ">0</span>
</a>        </li>
        <li class="d-flex">
          <a class="js-selected-navigation-item UnderlineNav-item hx_underlinenav-item no-wrap js-responsive-underlinenav-item" data-tab-item="i5wiki-tab" data-hotkey="g w" data-ga-click="Repository, Navigation click, Wikis tab" data-selected-links="repo_wiki /MkTej/Applied-Data-Science-Capstone/wiki" href="/MkTej/Applied-Data-Science-Capstone/wiki">
                <svg class="octicon octicon-book UnderlineNav-octicon d-none d-sm-inline" height="16" viewBox="0 0 16 16" version="1.1" width="16" aria-hidden="true"><path fill-rule="evenodd" d="M0 1.75A.75.75 0 01.75 1h4.253c1.227 0 2.317.59 3 1.501A3.744 3.744 0 0111.006 1h4.245a.75.75 0 01.75.75v10.5a.75.75 0 01-.75.75h-4.507a2.25 2.25 0 00-1.591.659l-.622.621a.75.75 0 01-1.06 0l-.622-.621A2.25 2.25 0 005.258 13H.75a.75.75 0 01-.75-.75V1.75zm8.755 3a2.25 2.25 0 012.25-2.25H14.5v9h-3.757c-.71 0-1.4.201-1.992.572l.004-7.322zm-1.504 7.324l.004-5.073-.002-2.253A2.25 2.25 0 005.003 2.5H1.5v9h3.757a3.75 3.75 0 011.994.574z"></path></svg>
              <span data-content="Wiki">Wiki</span>
                <span title="Not available" class="Counter "></span>
</a>        </li>
        <li class="d-flex">
          <a class="js-selected-navigation-item UnderlineNav-item hx_underlinenav-item no-wrap js-responsive-underlinenav-item" data-tab-item="i6security-tab" data-hotkey="g s" data-ga-click="Repository, Navigation click, Security tab" data-selected-links="security overview alerts policy token_scanning code_scanning /MkTej/Applied-Data-Science-Capstone/security" href="/MkTej/Applied-Data-Science-Capstone/security">
                <svg class="octicon octicon-shield UnderlineNav-octicon d-none d-sm-inline" height="16" viewBox="0 0 16 16" version="1.1" width="16" aria-hidden="true"><path fill-rule="evenodd" d="M7.467.133a1.75 1.75 0 011.066 0l5.25 1.68A1.75 1.75 0 0115 3.48V7c0 1.566-.32 3.182-1.303 4.682-.983 1.498-2.585 2.813-5.032 3.855a1.7 1.7 0 01-1.33 0c-2.447-1.042-4.049-2.357-5.032-3.855C1.32 10.182 1 8.566 1 7V3.48a1.75 1.75 0 011.217-1.667l5.25-1.68zm.61 1.429a.25.25 0 00-.153 0l-5.25 1.68a.25.25 0 00-.174.238V7c0 1.358.275 2.666 1.057 3.86.784 1.194 2.121 2.34 4.366 3.297a.2.2 0 00.154 0c2.245-.956 3.582-2.104 4.366-3.298C13.225 9.666 13.5 8.36 13.5 7V3.48a.25.25 0 00-.174-.237l-5.25-1.68zM9 10.5a1 1 0 11-2 0 1 1 0 012 0zm-.25-5.75a.75.75 0 10-1.5 0v3a.75.75 0 001.5 0v-3z"></path></svg>
              <span data-content="Security">Security</span>
                <include-fragment src="/MkTej/Applied-Data-Science-Capstone/security/overall-count" accept="text/fragment+html"></include-fragment>
</a>        </li>
        <li class="d-flex">
          <a class="js-selected-navigation-item UnderlineNav-item hx_underlinenav-item no-wrap js-responsive-underlinenav-item" data-tab-item="i7insights-tab" data-ga-click="Repository, Navigation click, Insights tab" data-selected-links="repo_graphs repo_contributors dependency_graph dependabot_updates pulse people community /MkTej/Applied-Data-Science-Capstone/pulse" href="/MkTej/Applied-Data-Science-Capstone/pulse">
                <svg class="octicon octicon-graph UnderlineNav-octicon d-none d-sm-inline" height="16" viewBox="0 0 16 16" version="1.1" width="16" aria-hidden="true"><path fill-rule="evenodd" d="M1.5 1.75a.75.75 0 00-1.5 0v12.5c0 .414.336.75.75.75h14.5a.75.75 0 000-1.5H1.5V1.75zm14.28 2.53a.75.75 0 00-1.06-1.06L10 7.94 7.53 5.47a.75.75 0 00-1.06 0L3.22 8.72a.75.75 0 001.06 1.06L7 7.06l2.47 2.47a.75.75 0 001.06 0l5.25-5.25z"></path></svg>
              <span data-content="Insights">Insights</span>
                <span title="Not available" class="Counter "></span>
</a>        </li>
</ul>
    <div style="visibility:hidden;" class="UnderlineNav-actions  js-responsive-underlinenav-overflow position-absolute pr-3 pr-md-4 pr-lg-5 right-0">    <details class="details-overlay details-reset position-relative">
  <summary role="button">        <div class="UnderlineNav-item mr-0 border-0">
          <svg class="octicon octicon-kebab-horizontal" viewBox="0 0 16 16" version="1.1" width="16" height="16" aria-hidden="true"><path d="M8 9a1.5 1.5 0 100-3 1.5 1.5 0 000 3zM1.5 9a1.5 1.5 0 100-3 1.5 1.5 0 000 3zm13 0a1.5 1.5 0 100-3 1.5 1.5 0 000 3z"></path></svg>
          <span class="sr-only">More</span>
        </div>
</summary>
  <div>        <details-menu role="menu" class="dropdown-menu dropdown-menu-sw ">
  
          <ul>
              <li data-menu-item="i0code-tab" hidden>
                <a role="menuitem" class="js-selected-navigation-item dropdown-item" data-selected-links=" /MkTej/Applied-Data-Science-Capstone" href="/MkTej/Applied-Data-Science-Capstone">
                  Code
</a>              </li>
              <li data-menu-item="i1issues-tab" hidden>
                <a role="menuitem" class="js-selected-navigation-item dropdown-item" data-selected-links=" /MkTej/Applied-Data-Science-Capstone/issues" href="/MkTej/Applied-Data-Science-Capstone/issues">
                  Issues
</a>              </li>
              <li data-menu-item="i2pull-requests-tab" hidden>
                <a role="menuitem" class="js-selected-navigation-item dropdown-item" data-selected-links=" /MkTej/Applied-Data-Science-Capstone/pulls" href="/MkTej/Applied-Data-Science-Capstone/pulls">
                  Pull requests
</a>              </li>
              <li data-menu-item="i3actions-tab" hidden>
                <a role="menuitem" class="js-selected-navigation-item dropdown-item" data-selected-links=" /MkTej/Applied-Data-Science-Capstone/actions" href="/MkTej/Applied-Data-Science-Capstone/actions">
                  Actions
</a>              </li>
              <li data-menu-item="i4projects-tab" hidden>
                <a role="menuitem" class="js-selected-navigation-item dropdown-item" data-selected-links=" /MkTej/Applied-Data-Science-Capstone/projects" href="/MkTej/Applied-Data-Science-Capstone/projects">
                  Projects
</a>              </li>
              <li data-menu-item="i5wiki-tab" hidden>
                <a role="menuitem" class="js-selected-navigation-item dropdown-item" data-selected-links=" /MkTej/Applied-Data-Science-Capstone/wiki" href="/MkTej/Applied-Data-Science-Capstone/wiki">
                  Wiki
</a>              </li>
              <li data-menu-item="i6security-tab" hidden>
                <a role="menuitem" class="js-selected-navigation-item dropdown-item" data-selected-links=" /MkTej/Applied-Data-Science-Capstone/security" href="/MkTej/Applied-Data-Science-Capstone/security">
                  Security
</a>              </li>
              <li data-menu-item="i7insights-tab" hidden>
                <a role="menuitem" class="js-selected-navigation-item dropdown-item" data-selected-links=" /MkTej/Applied-Data-Science-Capstone/pulse" href="/MkTej/Applied-Data-Science-Capstone/pulse">
                  Insights
</a>              </li>
          </ul>

</details-menu></div>
</details></div>
</nav>
  </div>


<div class="container-xl clearfix new-discussion-timeline px-3 px-md-4 px-lg-5">
  <div id="repo-content-pjax-container" class="repository-content " >

    
      
  <a href="/MkTej/Applied-Data-Science-Capstone/commit/4e280d20bf32b70f9eb8ca801f9bde8f43c59b32" class="d-none js-permalink-shortcut" data-hotkey="y">Permalink</a>

  

  
<div id="spoof-warning" class="mt-0 pb-3" hidden aria-hidden>
  <div class="flash mt-0 flash-warn clearfix">
    <svg class="octicon octicon-alert float-left mt-1" height="16" viewBox="0 0 16 16" version="1.1" width="16" aria-hidden="true"><path fill-rule="evenodd" d="M8.22 1.754a.25.25 0 00-.44 0L1.698 13.132a.25.25 0 00.22.368h12.164a.25.25 0 00.22-.368L8.22 1.754zm-1.763-.707c.659-1.234 2.427-1.234 3.086 0l6.082 11.378A1.75 1.75 0 0114.082 15H1.918a1.75 1.75 0 01-1.543-2.575L6.457 1.047zM9 11a1 1 0 11-2 0 1 1 0 012 0zm-.25-5.25a.75.75 0 00-1.5 0v2.5a.75.75 0 001.5 0v-2.5z"></path></svg>

      <div class="overflow-hidden">This commit does not belong to any branch on this repository, and may belong to a fork outside of the repository.</div>
  </div>
</div>

<div class="commit full-commit mt-0 px-2 pt-2 ">
  <a href="/MkTej/Applied-Data-Science-Capstone/tree/4e280d20bf32b70f9eb8ca801f9bde8f43c59b32" class="btn btn-outline float-right" title="Browse the repository at this point in the history" rel="nofollow">Browse files</a>


    <p class="commit-title">
      This is a Notebook containing the solution to the problem.
    </p>


  <div class="commit-branches">
  <include-fragment src="/MkTej/Applied-Data-Science-Capstone/branch_commits/4e280d20bf32b70f9eb8ca801f9bde8f43c59b32" id="async-branches-list">
    <svg class="octicon octicon-git-branch" viewBox="0 0 16 16" version="1.1" width="16" height="16" aria-hidden="true"><path fill-rule="evenodd" d="M11.75 2.5a.75.75 0 100 1.5.75.75 0 000-1.5zm-2.25.75a2.25 2.25 0 113 2.122V6A2.5 2.5 0 0110 8.5H6a1 1 0 00-1 1v1.128a2.251 2.251 0 11-1.5 0V5.372a2.25 2.25 0 111.5 0v1.836A2.492 2.492 0 016 7h4a1 1 0 001-1v-.628A2.25 2.25 0 019.5 3.25zM4.25 12a.75.75 0 100 1.5.75.75 0 000-1.5zM3.5 3.25a.75.75 0 111.5 0 .75.75 0 01-1.5 0z"></path></svg>
    <ul class="branches-list">
      <li class="loading">Loading branch information<span class="AnimatedEllipsis"></span></li>
    </ul>
</include-fragment></div>


  <div class="commit-meta p-2 d-flex flex-wrap">
    <div class="AvatarStack flex-self-start  " >
  <div class="AvatarStack-body" aria-label="MkTej" >
      <a class="avatar avatar-user" style="width:20px;height:20px;" data-skip-pjax="true" data-test-selector="commits-avatar-stack-avatar-link" data-hovercard-type="user" data-hovercard-url="/users/MkTej/hovercard" data-octo-click="hovercard-link-click" data-octo-dimensions="link_type:self" href="/MkTej">
        <img data-test-selector="commits-avatar-stack-avatar-image" src="https://avatars.githubusercontent.com/u/58900107?s=40&amp;v=4" width="20" height="20" alt="@MkTej" class=" avatar-user" />
</a>  </div>
</div>

    <div class="flex-self-start no-wrap mr-md-4 mr-0">
      
      <a href="/MkTej/Applied-Data-Science-Capstone/commits?author=MkTej"
     class="commit-author user-mention"
     title="View all commits by MkTej">MkTej</a>


  committed
  <relative-time datetime="2020-01-05T07:20:22Z" class="no-wrap">Jan 5, 2020</relative-time>

      <div class="d-none d-md-inline-block">
        

      </div>
    </div>
    <div class="flex-auto no-wrap text-lg-right text-left overflow-x-auto">
      <span class="sha-block ml-0" data-pjax>
        1 parent
          
          <a class="sha" data-hotkey="p" href="/MkTej/Applied-Data-Science-Capstone/commit/56515c15f024fea8e55db9695ea7004b0f4a9f8a">56515c1</a>
      </span>
      <span class="sha-block">commit <span class="sha user-select-contain">4e280d20bf32b70f9eb8ca801f9bde8f43c59b32</span></span>
    </div>
  </div>
</div>



        <table style="display: none">
    <tbody id="js-inline-comments-single-container-template">
      <tr class="inline-comments js-inline-comments-container">
        <td class="line-comments js-line-comments js-quote-selection-container p-0 p-sm-2" data-quote-markdown=".js-comment-body" colspan="3">
          <div class="js-line-comments">
            <div class="comment-holder js-comments-holder">
</div>


<div class="inline-comment-form-container js-inline-comment-form-container review-comment-form-container">
    <div class="f6 pb-2 d-flex flex-justify-between js-multi-line-preview" hidden>
        <div class="f6 color-text-secondary">
      Commenting on lines

    <span class="js-multi-line-preview-start ">
      
    </span> to <span class="js-multi-line-preview-end ">
      
    </span>

  </div>

    </div>


  <div class="inline-comment-form border-md border-0 p-md-0 p-2 ">
      <!-- '"` --><!-- </textarea></xmp> --></option></form><form class="js-inline-comment-form" action="/MkTej/Applied-Data-Science-Capstone/commit_comment/create" accept-charset="UTF-8" method="post"><input type="hidden" name="authenticity_token" value="1L00g0Hj58HF2NseIPN+ZzeBL7c6SwZ/2G0u1My1OcKn2i6TCZ76+wOIKK2AYshcAbBlsxq+BSQgkRwisMrFVA==" />
        <input type="text" name="required_field_cd95" hidden="hidden" class="form-control" /><input type="hidden" name="timestamp" value="1617196302456" class="form-control" /><input type="hidden" name="timestamp_secret" value="649d29a0c651c15d83c61f40d0bbc2d27846a094b4d35d97a0c1f64933fe9df4" class="form-control" />
        <input type="hidden" name="comment_context" value="diff">

            <input type="hidden" name="commit_id" value="4e280d20bf32b70f9eb8ca801f9bde8f43c59b32">
          <input type="hidden" name="position" value="">



        <tab-container class="js-previewable-comment-form previewable-comment-form write-selected" data-preview-url="/preview?markdown_unsupported=false&amp;repository=228142454&amp;subject=4e280d20bf32b70f9eb8ca801f9bde8f43c59b32&amp;subject_type=Commit" >
  <input type="hidden" value="1wOiRFhFta9DIJ+T6lff/0R4vfrJbkzZFTx/ePzK2Xd+HIQ/SeQZ4RR2+6agcZ2+fsxvDO0xcvv5rs4bVpB1Zg==" data-csrf="true" class="js-data-preview-url-csrf" />
  <div
    class="comment-form-head tabnav d-flex flex-justify-between mb-2 p-0 tabnav--responsive flex-column border-bottom-0 mb-0 mb-lg-2 flex-items-stretch border-lg-bottom color-border-primary flex-lg-items-center flex-lg-row"
  >
      <div
        class="tabnav-tabs mx-0 mx-md-2 mt-0 mt-md-2 no-wrap d-flex flex-auto d-md-block"
        role="tablist"
      >
        <button
          type="button"
          class="btn-link tabnav-tab write-tab js-write-tab px-3 px-sm-6 px-md-3 flex-1 flex-md-auto"
          role="tab"
          aria-selected="true"
        >
          Write
        </button>
        <button
          type="button"
          class="btn-link tabnav-tab preview-tab js-preview-tab flex-1 flex-md-auto"
          role="tab"
        >
          Preview
        </button>
      </div>
    <markdown-toolbar
  role="toolbar"
  aria-label="Composition"
  for="r916336 new_inline_comment_diff_${anchor}_${position}"
  class="js-details-container Details toolbar-commenting d-flex no-wrap flex-items-start flex-wrap px-2 pt-2 pt-lg-0 border-md-top border-lg-top-0"
>
  <div class="d-block d-md-none flex-auto">
    <button data-md-button tabindex="-1" type="button" aria-label="Toggle text tools" aria-expanded="false" class="js-details-target btn-link toolbar-item no-underline py-2 mr-1">
      <svg class="octicon octicon-typography" viewBox="0 0 16 16" version="1.1" width="16" height="16" aria-hidden="true"><path fill-rule="evenodd" d="M6.21 8.5L4.574 3.594 2.857 8.5H6.21zm.5 1.5l.829 2.487a.75.75 0 001.423-.474L5.735 2.332a1.216 1.216 0 00-2.302-.018l-3.39 9.688a.75.75 0 001.415.496L2.332 10H6.71zm3.13-4.358C10.53 4.374 11.87 4 13 4c1.5 0 3 .939 3 2.601v5.649a.75.75 0 01-1.448.275C13.995 12.82 13.3 13 12.5 13c-.77 0-1.514-.231-2.078-.709-.577-.488-.922-1.199-.922-2.041 0-.694.265-1.411.887-1.944C11 7.78 11.88 7.5 13 7.5h1.5v-.899c0-.54-.5-1.101-1.5-1.101-.869 0-1.528.282-1.84.858a.75.75 0 11-1.32-.716zM14.5 9H13c-.881 0-1.375.22-1.637.444-.253.217-.363.5-.363.806 0 .408.155.697.39.896.249.21.63.354 1.11.354.732 0 1.26-.209 1.588-.449.35-.257.412-.495.412-.551V9z"></path></svg>
      <svg class="octicon octicon-chevron-up Details-content--shown" viewBox="0 0 16 16" version="1.1" width="16" height="16" aria-hidden="true"><path fill-rule="evenodd" d="M3.22 9.78a.75.75 0 010-1.06l4.25-4.25a.75.75 0 011.06 0l4.25 4.25a.75.75 0 01-1.06 1.06L8 6.06 4.28 9.78a.75.75 0 01-1.06 0z"></path></svg>
      <svg class="octicon octicon-chevron-down Details-content--hidden" viewBox="0 0 16 16" version="1.1" width="16" height="16" aria-hidden="true"><path fill-rule="evenodd" d="M12.78 6.22a.75.75 0 010 1.06l-4.25 4.25a.75.75 0 01-1.06 0L3.22 7.28a.75.75 0 011.06-1.06L8 9.94l3.72-3.72a.75.75 0 011.06 0z"></path></svg>
    </button>
  </div>

  

  <div class="flex-nowrap d-none d-md-inline-block mr-3">
    <md-header tabindex="-1" class="toolbar-item tooltipped tooltipped-sw mx-1" aria-label="Add header text" data-ga-click="Markdown Toolbar, click, header">
      <svg class="octicon octicon-heading" height="16" viewBox="0 0 16 16" version="1.1" width="16" aria-hidden="true"><path fill-rule="evenodd" d="M3.75 2a.75.75 0 01.75.75V7h7V2.75a.75.75 0 011.5 0v10.5a.75.75 0 01-1.5 0V8.5h-7v4.75a.75.75 0 01-1.5 0V2.75A.75.75 0 013.75 2z"></path></svg>
    </md-header>

    <md-bold tabindex="-1" class="toolbar-item tooltipped tooltipped-sw mx-1 js-modifier-label-key" aria-label="Add bold text <ctrl+b>" data-ga-click="Markdown Toolbar, click, bold">
      <svg class="octicon octicon-bold" height="16" viewBox="0 0 16 16" version="1.1" width="16" aria-hidden="true"><path fill-rule="evenodd" d="M4 2a1 1 0 00-1 1v10a1 1 0 001 1h5.5a3.5 3.5 0 001.852-6.47A3.5 3.5 0 008.5 2H4zm4.5 5a1.5 1.5 0 100-3H5v3h3.5zM5 9v3h4.5a1.5 1.5 0 000-3H5z"></path></svg>
    </md-bold>

    <md-italic tabindex="-1" class="toolbar-item tooltipped tooltipped-sw mx-1 js-modifier-label-key" aria-label="Add italic text <ctrl+i>" data-ga-click="Markdown Toolbar, click, italic">
      <svg class="octicon octicon-italic" height="16" viewBox="0 0 16 16" version="1.1" width="16" aria-hidden="true"><path fill-rule="evenodd" d="M6 2.75A.75.75 0 016.75 2h6.5a.75.75 0 010 1.5h-2.505l-3.858 9H9.25a.75.75 0 010 1.5h-6.5a.75.75 0 010-1.5h2.505l3.858-9H6.75A.75.75 0 016 2.75z"></path></svg>
    </md-italic>
  </div>

  <div class="d-flex d-md-inline-block mr-0 mr-md-3">
    <md-quote tabindex="-1" class="toolbar-item tooltipped tooltipped-sw p-2 p-md-1 mx-1" aria-label="Insert a quote" data-ga-click="Markdown Toolbar, click, quote">
      <svg class="octicon octicon-quote" height="16" viewBox="0 0 16 16" version="1.1" width="16" aria-hidden="true"><path fill-rule="evenodd" d="M1.75 2.5a.75.75 0 000 1.5h10.5a.75.75 0 000-1.5H1.75zm4 5a.75.75 0 000 1.5h8.5a.75.75 0 000-1.5h-8.5zm0 5a.75.75 0 000 1.5h8.5a.75.75 0 000-1.5h-8.5zM2.5 7.75a.75.75 0 00-1.5 0v6a.75.75 0 001.5 0v-6z"></path></svg>
    </md-quote>

    <md-code tabindex="-1" class="toolbar-item tooltipped tooltipped-sw js-modifier-label-key p-2 p-md-1 mx-1" aria-label="Insert code <ctrl+e>" data-ga-click="Markdown Toolbar, click, code">
      <svg class="octicon octicon-code" height="16" viewBox="0 0 16 16" version="1.1" width="16" aria-hidden="true"><path fill-rule="evenodd" d="M4.72 3.22a.75.75 0 011.06 1.06L2.06 8l3.72 3.72a.75.75 0 11-1.06 1.06L.47 8.53a.75.75 0 010-1.06l4.25-4.25zm6.56 0a.75.75 0 10-1.06 1.06L13.94 8l-3.72 3.72a.75.75 0 101.06 1.06l4.25-4.25a.75.75 0 000-1.06l-4.25-4.25z"></path></svg>
    </md-code>

    <button type="button" data-md-button tabindex="-1" class="toolbar-item text-center menu-target p-2 mx-1 d-md-none js-markdown-link-button" aria-label="Add a link" data-ga-click="Markdown Toolbar, click, saved reply">
      <svg class="octicon octicon-link" height="16" viewBox="0 0 16 16" version="1.1" width="16" aria-hidden="true"><path fill-rule="evenodd" d="M7.775 3.275a.75.75 0 001.06 1.06l1.25-1.25a2 2 0 112.83 2.83l-2.5 2.5a2 2 0 01-2.83 0 .75.75 0 00-1.06 1.06 3.5 3.5 0 004.95 0l2.5-2.5a3.5 3.5 0 00-4.95-4.95l-1.25 1.25zm-4.69 9.64a2 2 0 010-2.83l2.5-2.5a2 2 0 012.83 0 .75.75 0 001.06-1.06 3.5 3.5 0 00-4.95 0l-2.5 2.5a3.5 3.5 0 004.95 4.95l1.25-1.25a.75.75 0 00-1.06-1.06l-1.25 1.25a2 2 0 01-2.83 0z"></path></svg>
    </button>

    <template class="js-markdown-link-dialog">
      <div class="Box-header">
        <h3 class="Box-title">Insert Link</h3>
      </div>
      <div class="Box-body overflow-auto">
        <div>
          <label class="d-block mb-1" for="js-dialog-link-text">Link Text</label>
          <input type="text" class="mb-3 form-control input-block" id="js-dialog-link-text" autofocus>
        </div>
        <div>
          <label class="d-block mb-1" for="js-dialog-link-href">URL</label>
          <input type="url" class="mb-3 form-control input-block" id="js-dialog-link-href">
        </div>
        <div class="pt-3 border-top">
          <button
            type="button"
            class="btn btn-primary btn-block js-markdown-link-insert"
            data-close-dialog
            data-for-textarea="r916336 new_inline_comment_diff_${anchor}_${position}"
          >
            Add
          </button>
        </div>
      </div>
    </template>

    <md-link tabindex="-1" class="toolbar-item tooltipped tooltipped-sw p-2 p-md-1 d-none d-md-block mx-1 js-modifier-label-key" aria-label="Add a link <ctrl+k>" data-ga-click="Markdown Toolbar, click, link">
      <svg class="octicon octicon-link" height="16" viewBox="0 0 16 16" version="1.1" width="16" aria-hidden="true"><path fill-rule="evenodd" d="M7.775 3.275a.75.75 0 001.06 1.06l1.25-1.25a2 2 0 112.83 2.83l-2.5 2.5a2 2 0 01-2.83 0 .75.75 0 00-1.06 1.06 3.5 3.5 0 004.95 0l2.5-2.5a3.5 3.5 0 00-4.95-4.95l-1.25 1.25zm-4.69 9.64a2 2 0 010-2.83l2.5-2.5a2 2 0 012.83 0 .75.75 0 001.06-1.06 3.5 3.5 0 00-4.95 0l-2.5 2.5a3.5 3.5 0 004.95 4.95l1.25-1.25a.75.75 0 00-1.06-1.06l-1.25 1.25a2 2 0 01-2.83 0z"></path></svg>
    </md-link>
  </div>

  <div class="d-none d-md-inline-block mr-3">
    <md-unordered-list tabindex="-1" class="toolbar-item tooltipped tooltipped-sw mx-1" aria-label="Add a bulleted list" data-ga-click="Markdown Toolbar, click, unordered list">
      <svg class="octicon octicon-list-unordered" height="16" viewBox="0 0 16 16" version="1.1" width="16" aria-hidden="true"><path fill-rule="evenodd" d="M2 4a1 1 0 100-2 1 1 0 000 2zm3.75-1.5a.75.75 0 000 1.5h8.5a.75.75 0 000-1.5h-8.5zm0 5a.75.75 0 000 1.5h8.5a.75.75 0 000-1.5h-8.5zm0 5a.75.75 0 000 1.5h8.5a.75.75 0 000-1.5h-8.5zM3 8a1 1 0 11-2 0 1 1 0 012 0zm-1 6a1 1 0 100-2 1 1 0 000 2z"></path></svg>
    </md-unordered-list>

    <md-ordered-list tabindex="-1" class="toolbar-item tooltipped tooltipped-sw mx-1" aria-label="Add a numbered list" data-ga-click="Markdown Toolbar, click, ordered list">
      <svg class="octicon octicon-list-ordered" height="16" viewBox="0 0 16 16" version="1.1" width="16" aria-hidden="true"><path fill-rule="evenodd" d="M2.003 2.5a.5.5 0 00-.723-.447l-1.003.5a.5.5 0 00.446.895l.28-.14V6H.5a.5.5 0 000 1h2.006a.5.5 0 100-1h-.503V2.5zM5 3.25a.75.75 0 01.75-.75h8.5a.75.75 0 010 1.5h-8.5A.75.75 0 015 3.25zm0 5a.75.75 0 01.75-.75h8.5a.75.75 0 010 1.5h-8.5A.75.75 0 015 8.25zm0 5a.75.75 0 01.75-.75h8.5a.75.75 0 010 1.5h-8.5a.75.75 0 01-.75-.75zM.924 10.32l.003-.004a.851.851 0 01.144-.153A.66.66 0 011.5 10c.195 0 .306.068.374.146a.57.57 0 01.128.376c0 .453-.269.682-.8 1.078l-.035.025C.692 11.98 0 12.495 0 13.5a.5.5 0 00.5.5h2.003a.5.5 0 000-1H1.146c.132-.197.351-.372.654-.597l.047-.035c.47-.35 1.156-.858 1.156-1.845 0-.365-.118-.744-.377-1.038-.268-.303-.658-.484-1.126-.484-.48 0-.84.202-1.068.392a1.858 1.858 0 00-.348.384l-.007.011-.002.004-.001.002-.001.001a.5.5 0 00.851.525zM.5 10.055l-.427-.26.427.26z"></path></svg>
    </md-ordered-list>

    <md-task-list tabindex="-1" class="toolbar-item tooltipped tooltipped-sw mx-1" aria-label="Add a task list" data-ga-click="Markdown Toolbar, click, task list">
      <svg class="octicon octicon-tasklist" height="16" viewBox="0 0 16 16" version="1.1" width="16" aria-hidden="true"><path fill-rule="evenodd" d="M2.5 2.75a.25.25 0 01.25-.25h10.5a.25.25 0 01.25.25v10.5a.25.25 0 01-.25.25H2.75a.25.25 0 01-.25-.25V2.75zM2.75 1A1.75 1.75 0 001 2.75v10.5c0 .966.784 1.75 1.75 1.75h10.5A1.75 1.75 0 0015 13.25V2.75A1.75 1.75 0 0013.25 1H2.75zm9.03 5.28a.75.75 0 00-1.06-1.06L6.75 9.19 5.28 7.72a.75.75 0 00-1.06 1.06l2 2a.75.75 0 001.06 0l4.5-4.5z"></path></svg>
    </md-task-list>
  </div>

      <div  class="d-flex d-xs-inline-block">
      <md-mention tabindex="-1" class="flex-auto text-center toolbar-item tooltipped tooltipped-sw p-2 p-md-1 mx-1" aria-label="Directly mention a user or team" data-ga-click="Markdown Toolbar, click, mention">
        <svg class="octicon octicon-mention" height="16" viewBox="0 0 16 16" version="1.1" width="16" aria-hidden="true"><path fill-rule="evenodd" d="M4.75 2.37a6.5 6.5 0 006.5 11.26.75.75 0 01.75 1.298 8 8 0 113.994-7.273.754.754 0 01.006.095v1.5a2.75 2.75 0 01-5.072 1.475A4 4 0 1112 8v1.25a1.25 1.25 0 002.5 0V7.867a6.5 6.5 0 00-9.75-5.496V2.37zM10.5 8a2.5 2.5 0 10-5 0 2.5 2.5 0 005 0z"></path></svg>
      </md-mention>

      <label for="fc-r916336 new_inline_comment_diff_${anchor}_${position}" data-md-button tabindex="-1"  class="d-block d-md-none btn-link flex-auto text-center toolbar-item tooltipped tooltipped-sw p-2 mx-1" aria-label="Attach an image or video">
        <svg class="octicon octicon-image" viewBox="0 0 16 16" version="1.1" width="16" height="16" aria-hidden="true"><path fill-rule="evenodd" d="M1.75 2.5a.25.25 0 00-.25.25v10.5c0 .138.112.25.25.25h.94a.76.76 0 01.03-.03l6.077-6.078a1.75 1.75 0 012.412-.06L14.5 10.31V2.75a.25.25 0 00-.25-.25H1.75zm12.5 11H4.81l5.048-5.047a.25.25 0 01.344-.009l4.298 3.889v.917a.25.25 0 01-.25.25zm1.75-.25V2.75A1.75 1.75 0 0014.25 1H1.75A1.75 1.75 0 000 2.75v10.5C0 14.216.784 15 1.75 15h12.5A1.75 1.75 0 0016 13.25zM5.5 6a.5.5 0 11-1 0 .5.5 0 011 0zM7 6a2 2 0 11-4 0 2 2 0 014 0z"></path></svg>
      </label>

      <md-ref tabindex="-1" class="flex-auto text-center toolbar-item tooltipped tooltipped-sw p-2 p-md-1 mx-1" aria-label="Reference an issue, pull request, or discussion" data-ga-click="Markdown Toolbar, click, reference">
        <svg class="octicon octicon-cross-reference" height="16" viewBox="0 0 16 16" version="1.1" width="16" aria-hidden="true"><path fill-rule="evenodd" d="M16 1.25v4.146a.25.25 0 01-.427.177L14.03 4.03l-3.75 3.75a.75.75 0 11-1.06-1.06l3.75-3.75-1.543-1.543A.25.25 0 0111.604 1h4.146a.25.25 0 01.25.25zM2.75 3.5a.25.25 0 00-.25.25v7.5c0 .138.112.25.25.25h2a.75.75 0 01.75.75v2.19l2.72-2.72a.75.75 0 01.53-.22h4.5a.25.25 0 00.25-.25v-2.5a.75.75 0 111.5 0v2.5A1.75 1.75 0 0113.25 13H9.06l-2.573 2.573A1.457 1.457 0 014 14.543V13H2.75A1.75 1.75 0 011 11.25v-7.5C1 2.784 1.784 2 2.75 2h5.5a.75.75 0 010 1.5h-5.5z"></path></svg>
      </md-ref>

        <details class="details-reset details-overlay flex-auto toolbar-item select-menu select-menu-modal-right js-saved-reply-container hx_rsm" tabindex="-1">
  <summary data-md-button tabindex="-1" class="text-center menu-target py-2 p-md-1 hx_rsm-trigger ml-1" aria-label="Insert a reply" data-ga-click="Markdown Toolbar, click, saved reply">
    <svg class="octicon octicon-reply" height="16" viewBox="0 0 16 16" version="1.1" width="16" aria-hidden="true"><path fill-rule="evenodd" d="M6.78 1.97a.75.75 0 010 1.06L3.81 6h6.44A4.75 4.75 0 0115 10.75v2.5a.75.75 0 01-1.5 0v-2.5a3.25 3.25 0 00-3.25-3.25H3.81l2.97 2.97a.75.75 0 11-1.06 1.06L1.47 7.28a.75.75 0 010-1.06l4.25-4.25a.75.75 0 011.06 0z"></path></svg>
    <span class="dropdown-caret hide-sm"></span>
  </summary>

  <details-menu
    style="z-index: 99;"
    class="select-menu-modal position-absolute right-0 js-saved-reply-menu hx_rsm-modal"
    data-menu-input="r916336 new_inline_comment_diff_${anchor}_${position}_saved_reply_id"
    src="/settings/replies?context=none" preload>
    <div class="select-menu-header d-flex">
      <span class="select-menu-title flex-auto">Select a reply</span>
      <code><span class="border rounded p-1 mr-2">ctrl .</span></code>
    </div>

    <include-fragment role="menuitem" aria-label="Loading">
      <svg style="box-sizing: content-box; color: var(--color-icon-primary);" viewBox="0 0 16 16" fill="none" width="32" height="32" class="my-6 mx-auto d-block anim-rotate">
  <circle cx="8" cy="8" r="7" stroke="currentColor" stroke-opacity="0.25" stroke-width="2" vector-effect="non-scaling-stroke" />
  <path d="M15 8a7.002 7.002 0 00-7-7" stroke="currentColor" stroke-width="2" stroke-linecap="round" vector-effect="non-scaling-stroke" />
</svg>
    </include-fragment>

  </details-menu>
</details>

    </div>


  <div class="Details-content--hidden d-block d-md-none width-full">
    <md-header tabindex="-1" class="toolbar-item tooltipped tooltipped-sw py-2 pr-2 pl-1 mr-1" aria-label="Add header text" data-ga-click="Markdown Toolbar, click, header">
      <svg class="octicon octicon-heading" height="16" viewBox="0 0 16 16" version="1.1" width="16" aria-hidden="true"><path fill-rule="evenodd" d="M3.75 2a.75.75 0 01.75.75V7h7V2.75a.75.75 0 011.5 0v10.5a.75.75 0 01-1.5 0V8.5h-7v4.75a.75.75 0 01-1.5 0V2.75A.75.75 0 013.75 2z"></path></svg>
    </md-header>

    <md-bold tabindex="-1" class="toolbar-item tooltipped tooltipped-sw p-2 mx-1 js-modifier-label-key" aria-label="Add bold text <ctrl+b>" data-ga-click="Markdown Toolbar, click, bold">
      <svg class="octicon octicon-bold" height="16" viewBox="0 0 16 16" version="1.1" width="16" aria-hidden="true"><path fill-rule="evenodd" d="M4 2a1 1 0 00-1 1v10a1 1 0 001 1h5.5a3.5 3.5 0 001.852-6.47A3.5 3.5 0 008.5 2H4zm4.5 5a1.5 1.5 0 100-3H5v3h3.5zM5 9v3h4.5a1.5 1.5 0 000-3H5z"></path></svg>
    </md-bold>

    <md-italic tabindex="-1" class="toolbar-item tooltipped tooltipped-sw p-2 mx-1 js-modifier-label-key" aria-label="Add italic text <ctrl+i>" data-ga-click="Markdown Toolbar, click, italic">
      <svg class="octicon octicon-italic" height="16" viewBox="0 0 16 16" version="1.1" width="16" aria-hidden="true"><path fill-rule="evenodd" d="M6 2.75A.75.75 0 016.75 2h6.5a.75.75 0 010 1.5h-2.505l-3.858 9H9.25a.75.75 0 010 1.5h-6.5a.75.75 0 010-1.5h2.505l3.858-9H6.75A.75.75 0 016 2.75z"></path></svg>
    </md-italic>

    <md-unordered-list tabindex="-1" class="toolbar-item tooltipped tooltipped-sw p-2 mx-1" aria-label="Add a bulleted list" data-ga-click="Markdown Toolbar, click, unordered list">
      <svg class="octicon octicon-list-unordered" height="16" viewBox="0 0 16 16" version="1.1" width="16" aria-hidden="true"><path fill-rule="evenodd" d="M2 4a1 1 0 100-2 1 1 0 000 2zm3.75-1.5a.75.75 0 000 1.5h8.5a.75.75 0 000-1.5h-8.5zm0 5a.75.75 0 000 1.5h8.5a.75.75 0 000-1.5h-8.5zm0 5a.75.75 0 000 1.5h8.5a.75.75 0 000-1.5h-8.5zM3 8a1 1 0 11-2 0 1 1 0 012 0zm-1 6a1 1 0 100-2 1 1 0 000 2z"></path></svg>
    </md-unordered-list>

    <md-ordered-list tabindex="-1" class="toolbar-item tooltipped tooltipped-sw p-2 mx-1" aria-label="Add a numbered list" data-ga-click="Markdown Toolbar, click, ordered list">
      <svg class="octicon octicon-list-ordered" height="16" viewBox="0 0 16 16" version="1.1" width="16" aria-hidden="true"><path fill-rule="evenodd" d="M2.003 2.5a.5.5 0 00-.723-.447l-1.003.5a.5.5 0 00.446.895l.28-.14V6H.5a.5.5 0 000 1h2.006a.5.5 0 100-1h-.503V2.5zM5 3.25a.75.75 0 01.75-.75h8.5a.75.75 0 010 1.5h-8.5A.75.75 0 015 3.25zm0 5a.75.75 0 01.75-.75h8.5a.75.75 0 010 1.5h-8.5A.75.75 0 015 8.25zm0 5a.75.75 0 01.75-.75h8.5a.75.75 0 010 1.5h-8.5a.75.75 0 01-.75-.75zM.924 10.32l.003-.004a.851.851 0 01.144-.153A.66.66 0 011.5 10c.195 0 .306.068.374.146a.57.57 0 01.128.376c0 .453-.269.682-.8 1.078l-.035.025C.692 11.98 0 12.495 0 13.5a.5.5 0 00.5.5h2.003a.5.5 0 000-1H1.146c.132-.197.351-.372.654-.597l.047-.035c.47-.35 1.156-.858 1.156-1.845 0-.365-.118-.744-.377-1.038-.268-.303-.658-.484-1.126-.484-.48 0-.84.202-1.068.392a1.858 1.858 0 00-.348.384l-.007.011-.002.004-.001.002-.001.001a.5.5 0 00.851.525zM.5 10.055l-.427-.26.427.26z"></path></svg>
    </md-ordered-list>

    <md-task-list tabindex="-1" class="toolbar-item tooltipped tooltipped-sw p-2 mx-1" aria-label="Add a task list" data-ga-click="Markdown Toolbar, click, task list">
      <svg class="octicon octicon-tasklist" height="16" viewBox="0 0 16 16" version="1.1" width="16" aria-hidden="true"><path fill-rule="evenodd" d="M2.5 2.75a.25.25 0 01.25-.25h10.5a.25.25 0 01.25.25v10.5a.25.25 0 01-.25.25H2.75a.25.25 0 01-.25-.25V2.75zM2.75 1A1.75 1.75 0 001 2.75v10.5c0 .966.784 1.75 1.75 1.75h10.5A1.75 1.75 0 0015 13.25V2.75A1.75 1.75 0 0013.25 1H2.75zm9.03 5.28a.75.75 0 00-1.06-1.06L6.75 9.19 5.28 7.72a.75.75 0 00-1.06 1.06l2 2a.75.75 0 001.06 0l4.5-4.5z"></path></svg>
    </md-task-list>
  </div>
</markdown-toolbar>

  </div>

  <div class="comment-form-error js-comment-form-error" role="alert" hidden>
    There was an error creating your Commit.
  </div>


  <file-attachment class="js-upload-markdown-image is-default" input="fc-r916336 new_inline_comment_diff_${anchor}_${position}" role="tabpanel" data-tab-container-no-tabstop="true" data-upload-repository-id="228142454" data-upload-policy-url="/upload/policies/assets"><input type="hidden" value="Iw2TBm2tsnI0nUOtd6Aoj+w2t4Ga+A9vylLaGBhA0CsfZHVJZHlYbIyetNsCrboXIBvVmaw6UGr2BGdoU/+/Tw==" data-csrf="true" class="js-data-upload-policy-url-csrf" />
    <div class="write-content js-write-bucket tooltipped tooltipped-ne tooltipped-no-delay tooltipped-align-left-1 hide-reaction-suggestion upload-enabled mx-0 mt-2 mb-2 mx-md-2 hx_sm-hide-drag-drop js-reaction-suggestion" data-reaction-markup="Would you like to leave a reaction instead?">
        <input
          type="hidden"
          name="saved_reply_id"
          id="r916336 new_inline_comment_diff_${anchor}_${position}_saved_reply_id"
          class="js-resettable-field"
          value=""
          data-reset-value=""
        >

      <text-expander
        keys=": @ #"
          data-issue-url="/suggestions/commit/4e280d20bf32b70f9eb8ca801f9bde8f43c59b32?issue_suggester=1&amp;repository=Applied-Data-Science-Capstone&amp;user_id=MkTej"
          data-mention-url="/suggestions/commit/4e280d20bf32b70f9eb8ca801f9bde8f43c59b32?mention_suggester=1&amp;repository=Applied-Data-Science-Capstone&amp;user_id=MkTej"
          multiword="#"
        data-emoji-url="/autocomplete/emoji"
      >
          
          <textarea name="comment[body]"
                    id="r916336 new_inline_comment_diff_${anchor}_${position}"
                    
                    placeholder="Leave a comment"
                      aria-label="Comment body"
                    data-required-trimmed="Text field is empty"
                    class="form-control input-contrast comment-form-textarea js-comment-field js-paste-markdown js-task-list-field js-quick-submit js-session-resumable js-saved-reply-shortcut-comment-field"
                    required></textarea>

      </text-expander>
        
  <label class="text-normal drag-and-drop hx_drag-and-drop position-relative d-flex flex-justify-between">
    <input accept=".gif,.jpeg,.jpg,.mov,.mp4,.png,.docx,.gz,.log,.pdf,.pptx,.txt,.xlsx,.zip" type="file"
      multiple
      class="manual-file-chooser manual-file-chooser-transparent top-0 right-0 bottom-0 left-0 width-full ml-0 form-control"
        id="fc-r916336 new_inline_comment_diff_${anchor}_${position}"
      >
    <span class="color-bg-secondary position-absolute top-0 left-0 width-full height-full rounded-1" style="pointer-events: none;"></span>
    <span class="position-relative pr-2" style="pointer-events: none;">
      <span class="default">
        
        Attach files by dragging &amp; dropping, selecting or pasting them.
      </span>
      <span class="loading">
        <svg style="box-sizing: content-box; color: var(--color-icon-primary);" viewBox="0 0 16 16" fill="none" width="16" height="16" class="v-align-text-bottom mr-1 anim-rotate">
  <circle cx="8" cy="8" r="7" stroke="currentColor" stroke-opacity="0.25" stroke-width="2" vector-effect="non-scaling-stroke" />
  <path d="M15 8a7.002 7.002 0 00-7-7" stroke="currentColor" stroke-width="2" stroke-linecap="round" vector-effect="non-scaling-stroke" />
</svg> Uploading your files…
      </span>
      <span class="error bad-file">
        We don’t support that file type.
        <span class="drag-and-drop-error-info">
          <span class="btn-link">Try again</span> with a
          GIF, JPEG, JPG, MOV, MP4, PNG, DOCX, GZ, LOG, PDF, PPTX, TXT, XLSX or ZIP.
        </span>
      </span>
      <span class="error bad-permissions">
        Attaching documents requires write permission to this repository.
        <span class="drag-and-drop-error-info">
          <span class="btn-link">Try again</span> with a GIF, JPEG, JPG, MOV, MP4, PNG, DOCX, GZ, LOG, PDF, PPTX, TXT, XLSX or ZIP.
        </span>
      </span>
      <span class="error repository-required">
        We don’t support that file type.
        <span class="drag-and-drop-error-info">
          <span class="btn-link">Try again</span> with a GIF, JPEG, JPG, MOV, MP4, PNG, DOCX, GZ, LOG, PDF, PPTX, TXT, XLSX or ZIP.
        </span>
      </span>
      <span class="error too-big">
        Yowza, that’s a big file.
        <span class="drag-and-drop-error-info">
          <span class="btn-link">Try again</span> with a file smaller than 10MB.
        </span>
      </span>
      <span class="error empty">
        This file is empty.
        <span class="drag-and-drop-error-info">
          <span class="btn-link">Try again</span> with a file that’s not empty.
        </span>
      </span>
      <span class="error hidden-file">
        This file is hidden.
        <span class="drag-and-drop-error-info">
          <span class="btn-link">Try again</span> with another file.
        </span>
      </span>
      <span class="error failed-request">
        Something went really wrong, and we can’t process that file.
        <span class="drag-and-drop-error-info">
          <span class="btn-link">Try again.</span>
        </span>
      </span>
    </span>
    <span class="tooltipped tooltipped-nw" aria-label="Styling with Markdown is supported">
      <a
        class="Link--muted position-relative d-inline"
        href="https://guides.github.com/features/mastering-markdown/"
        target="_blank"
        data-ga-click="Markdown Toolbar, click, help"
        aria-label="Learn about styling with Markdown"
        
      >
        <svg class="octicon octicon-markdown v-align-bottom" viewBox="0 0 16 16" version="1.1" width="16" height="16" aria-hidden="true"><path fill-rule="evenodd" d="M14.85 3H1.15C.52 3 0 3.52 0 4.15v7.69C0 12.48.52 13 1.15 13h13.69c.64 0 1.15-.52 1.15-1.15v-7.7C16 3.52 15.48 3 14.85 3zM9 11H7V8L5.5 9.92 4 8v3H2V5h2l1.5 2L7 5h2v6zm2.99.5L9.5 8H11V5h2v3h1.5l-2.51 3.5z"></path></svg>
      </a>
    </span>
  </label>

      <span hidden class="js-sparkles-remaining-container"></span>
    </div>
</file-attachment>
  <div
    role="tabpanel"
    class="js-preview-panel overflow-auto border-bottom mx-0 my-3 mx-md-2 mb-md-2"
    hidden
  >
    <input type="hidden" name="path" value="" class="js-path">
    <input type="hidden" name="line" value="" class="js-line-number">
    <input type="hidden" name="start_line" value="" class="js-start-line-number">
    <input type="hidden" name="preview_side" value="" class="js-side">
    <input type="hidden" name="preview_start_side" value="" class="js-start-side">
    <input type="hidden" name="start_commit_oid" value="false" class="js-start-commit-oid">
    <input type="hidden" name="end_commit_oid" value="false" class="js-end-commit-oid">
    <input type="hidden" name="base_commit_oid" value="false" class="js-base-commit-oid">
    <input type="hidden" name="comment_id" value="" class="js-comment-id">
    <div class="comment js-suggested-changes-container" data-thread-side="">
  <div class="comment-body markdown-body js-preview-body" data-skip-sizing style="max-height:50vh;">
    <p>Nothing to preview</p>
  </div>
</div>

  </div>


  <div class="comment-form-error mb-2 js-comment-update-error" hidden></div>
</tab-container>


        <div class="form-actions float-md-right float-none px-md-2 px-0">
          <div class="position-relative float-md-right float-none ml-md-1 ml-0">


            <button name="single_comment" type="submit" value="1" class="btn review-simple-reply-button js-quick-submit-alternative mr-md-1 mr-0 width-full width-md-auto mb-md-0 mb-2 " data-disable-invalid data-disable-with>
                Add single comment
            </button>
          </div>

          <button class="btn js-hide-inline-comment-form float-md-right float-none width-full width-md-auto" data-confirm-cancel-text="Are you sure you want to discard your unsaved changes?" type="button">Cancel</button>
        </div>
</form>  </div>
</div>


          </div>
        </td>
      </tr>
    </tbody>
  </table>


      <a name="diff-stat"></a>
      <div id="toc" class="details-collapse table-of-contents js-details-container Details">
  <div class="BtnGroup float-right ml-2" data-ga-load="Diff, view, Viewed Unified Diff">
  <a class="btn btn-sm BtnGroup-item selected"
    aria-current="true"
    href="https://github.com/MkTej/Applied-Data-Science-Capstone/commit/4e280d20bf32b70f9eb8ca801f9bde8f43c59b32?branch=4e280d20bf32b70f9eb8ca801f9bde8f43c59b32&amp;diff=unified">
    Unified
  </a>
  <a class="btn btn-sm BtnGroup-item"
    
    href="https://github.com/MkTej/Applied-Data-Science-Capstone/commit/4e280d20bf32b70f9eb8ca801f9bde8f43c59b32?branch=4e280d20bf32b70f9eb8ca801f9bde8f43c59b32&amp;diff=split">
    Split
  </a>
</div>


  <div class="toc-diff-stats">
    <svg class="octicon octicon-file-diff" viewBox="0 0 16 16" version="1.1" width="16" height="16" aria-hidden="true"><path fill-rule="evenodd" d="M2.75 1.5a.25.25 0 00-.25.25v12.5c0 .138.112.25.25.25h10.5a.25.25 0 00.25-.25V4.664a.25.25 0 00-.073-.177l-2.914-2.914a.25.25 0 00-.177-.073H2.75zM1 1.75C1 .784 1.784 0 2.75 0h7.586c.464 0 .909.184 1.237.513l2.914 2.914c.329.328.513.773.513 1.237v9.586A1.75 1.75 0 0113.25 16H2.75A1.75 1.75 0 011 14.25V1.75zm7 1.5a.75.75 0 01.75.75v1.5h1.5a.75.75 0 010 1.5h-1.5v1.5a.75.75 0 01-1.5 0V7h-1.5a.75.75 0 010-1.5h1.5V4A.75.75 0 018 3.25zm-3 8a.75.75 0 01.75-.75h4.5a.75.75 0 010 1.5h-4.5a.75.75 0 01-.75-.75z"></path></svg>
    Showing
    <button type="button" class="btn-link js-details-target" aria-expanded="false">
      1 changed file
    </button>
    with
    <strong>5 additions</strong>
    and <strong>29 deletions</strong>.
  </div>

  <ol class="content collapse js-transitionable">
    <li>
      <span class="diffstat float-right">
          <span class="color-text-success">
            +5
          </span>
          <span class="color-text-danger">
            −29
          </span>
          <a href="#diff-fa813b117ce2d012f47a2f3389844083759d6016b1d7c8c9704c81cd3c034b13" class="tooltipped tooltipped-s" aria-label="34 lines changed">
            <span class="diffstat-block-deleted"></span><span class="diffstat-block-deleted"></span><span class="diffstat-block-deleted"></span><span class="diffstat-block-deleted"></span><span class="diffstat-block-neutral"></span>
          </a>
      </span>
      <svg title="modified" class="octicon octicon-diff-modified" viewBox="0 0 16 16" version="1.1" width="16" height="16" aria-hidden="true"><path fill-rule="evenodd" d="M2.75 2.5h10.5a.25.25 0 01.25.25v10.5a.25.25 0 01-.25.25H2.75a.25.25 0 01-.25-.25V2.75a.25.25 0 01.25-.25zM13.25 1H2.75A1.75 1.75 0 001 2.75v10.5c0 .966.784 1.75 1.75 1.75h10.5A1.75 1.75 0 0015 13.25V2.75A1.75 1.75 0 0013.25 1zM8 10a2 2 0 100-4 2 2 0 000 4z"></path></svg>
      <a href="#diff-fa813b117ce2d012f47a2f3389844083759d6016b1d7c8c9704c81cd3c034b13">Capstone - The Battle of Neighborhoods - Part 2/The Battle of Neighborhoods - Part 2.ipynb</a>
    </li>
  </ol>
</div>

    
<div id="files" class="diff-view commentable js-diff-container">

  <div class="js-diff-progressive-container">
    
<div id="diff-fa813b117ce2d012f47a2f3389844083759d6016b1d7c8c9704c81cd3c034b13"
     data-details-container-group="file"
     class="file js-file js-details-container js-targetable-element Details
              Details--on open
             
             
             
             
             
              show-inline-notes
             
           "
          data-file-type=".ipynb"
          data-file-deleted="false"
      >
  <div class="file-header d-flex flex-md-row flex-column flex-md-items-center file-header--expandable js-file-header "
    data-path="Capstone - The Battle of Neighborhoods - Part 2/The Battle of Neighborhoods - Part 2.ipynb"
    data-short-path="fa813b1"
    data-anchor="diff-fa813b117ce2d012f47a2f3389844083759d6016b1d7c8c9704c81cd3c034b13"
    data-file-type=".ipynb"
    data-file-deleted="false"
    >
    <div class="file-info flex-auto min-width-0 mb-md-0 mb-2">
      <button type="button" class="btn-octicon js-details-target" aria-label="Toggle diff contents" aria-expanded="true" style="width: 22px;">
  <svg class="octicon octicon-chevron-down Details-content--hidden" viewBox="0 0 16 16" version="1.1" width="16" height="16" aria-hidden="true"><path fill-rule="evenodd" d="M12.78 6.22a.75.75 0 010 1.06l-4.25 4.25a.75.75 0 01-1.06 0L3.22 7.28a.75.75 0 011.06-1.06L8 9.94l3.72-3.72a.75.75 0 011.06 0z"></path></svg>
  <svg class="octicon octicon-chevron-right Details-content--shown" viewBox="0 0 16 16" version="1.1" width="16" height="16" aria-hidden="true"><path fill-rule="evenodd" d="M6.22 3.22a.75.75 0 011.06 0l4.25 4.25a.75.75 0 010 1.06l-4.25 4.25a.75.75 0 01-1.06-1.06L9.94 8 6.22 4.28a.75.75 0 010-1.06z"></path></svg>
</button>


        <div class="js-expand-full-wrapper d-inline">
          <button
            type="button"
            class="btn-link color-text-tertiary no-underline js-expand-full directional-expander tooltipped tooltipped-se"
            aria-label="Expand all"
            data-url="/MkTej/Applied-Data-Science-Capstone/blob_expand/a869612c82bd1f86dbeaf1bb653425112934e3d2?diff=unified&amp;direction=full&amp;mode=100644&amp;path=Capstone+-+The+Battle+of+Neighborhoods+-+Part+2%2FThe+Battle+of+Neighborhoods+-+Part+2.ipynb"
          >
            <svg aria-label="Expand all" aria-hidden="false" class="octicon octicon-unfold" height="16" viewBox="0 0 16 16" version="1.1" width="16" aria-hidden="true"><path d="M8.177.677l2.896 2.896a.25.25 0 01-.177.427H8.75v1.25a.75.75 0 01-1.5 0V4H5.104a.25.25 0 01-.177-.427L7.823.677a.25.25 0 01.354 0zM7.25 10.75a.75.75 0 011.5 0V12h2.146a.25.25 0 01.177.427l-2.896 2.896a.25.25 0 01-.354 0l-2.896-2.896A.25.25 0 015.104 12H7.25v-1.25zm-5-2a.75.75 0 000-1.5h-.5a.75.75 0 000 1.5h.5zM6 8a.75.75 0 01-.75.75h-.5a.75.75 0 010-1.5h.5A.75.75 0 016 8zm2.25.75a.75.75 0 000-1.5h-.5a.75.75 0 000 1.5h.5zM12 8a.75.75 0 01-.75.75h-.5a.75.75 0 010-1.5h.5A.75.75 0 0112 8zm2.25.75a.75.75 0 000-1.5h-.5a.75.75 0 000 1.5h.5z"></path></svg>
          </button>
          <button
            type="button"
            class="btn-link color-text-tertiary no-underline js-collapse-diff tooltipped tooltipped-se"
            aria-label="Collapse expanded lines"
            hidden
          >
            <svg aria-label="Collapse added diff lines" aria-hidden="false" class="octicon octicon-fold" height="16" viewBox="0 0 16 16" version="1.1" width="16" aria-hidden="true"><path d="M10.896 2H8.75V.75a.75.75 0 00-1.5 0V2H5.104a.25.25 0 00-.177.427l2.896 2.896a.25.25 0 00.354 0l2.896-2.896A.25.25 0 0010.896 2zM8.75 15.25a.75.75 0 01-1.5 0V14H5.104a.25.25 0 01-.177-.427l2.896-2.896a.25.25 0 01.354 0l2.896 2.896a.25.25 0 01-.177.427H8.75v1.25zm-6.5-6.5a.75.75 0 000-1.5h-.5a.75.75 0 000 1.5h.5zM6 8a.75.75 0 01-.75.75h-.5a.75.75 0 010-1.5h.5A.75.75 0 016 8zm2.25.75a.75.75 0 000-1.5h-.5a.75.75 0 000 1.5h.5zM12 8a.75.75 0 01-.75.75h-.5a.75.75 0 010-1.5h.5A.75.75 0 0112 8zm2.25.75a.75.75 0 000-1.5h-.5a.75.75 0 000 1.5h.5z"></path></svg>
          </button>
        </div>


        <span class="diffstat tooltipped tooltipped-e" aria-label="34 changes: 5 additions &amp; 29 deletions">34 <span class="diffstat-block-deleted"></span><span class="diffstat-block-deleted"></span><span class="diffstat-block-deleted"></span><span class="diffstat-block-deleted"></span><span class="diffstat-block-neutral"></span></span>

      
<a title="Capstone - The Battle of Neighborhoods - Part 2/The Battle of Neighborhoods - Part 2.ipynb" class="Link--primary" href="#diff-fa813b117ce2d012f47a2f3389844083759d6016b1d7c8c9704c81cd3c034b13">Capstone - The Battle of Neighborhoods - Part 2/The Battle of Neighborhoods - Part 2.ipynb</a>

<clipboard-copy
  value="Capstone - The Battle of Neighborhoods - Part 2/The Battle of Neighborhoods - Part 2.ipynb"
  data-copy-feedback="Copied!"
  aria-label="Copy"
  class="js-clipboard-copy zeroclipboard-link color-text-secondary Link--onHover"
  >
  <svg class="octicon octicon-clippy d-inline-block mx-1 js-clipboard-clippy-icon" viewBox="0 0 16 16" version="1.1" width="16" height="16" aria-hidden="true"><path fill-rule="evenodd" d="M5.75 1a.75.75 0 00-.75.75v3c0 .414.336.75.75.75h4.5a.75.75 0 00.75-.75v-3a.75.75 0 00-.75-.75h-4.5zm.75 3V2.5h3V4h-3zm-2.874-.467a.75.75 0 00-.752-1.298A1.75 1.75 0 002 3.75v9.5c0 .966.784 1.75 1.75 1.75h8.5A1.75 1.75 0 0014 13.25v-9.5a1.75 1.75 0 00-.874-1.515.75.75 0 10-.752 1.298.25.25 0 01.126.217v9.5a.25.25 0 01-.25.25h-8.5a.25.25 0 01-.25-.25v-9.5a.25.25 0 01.126-.217z"></path></svg>
  <svg class="octicon octicon-check js-clipboard-check-icon mx-1 d-inline-block d-none color-text-success" viewBox="0 0 16 16" version="1.1" width="16" height="16" aria-hidden="true"><path fill-rule="evenodd" d="M13.78 4.22a.75.75 0 010 1.06l-7.25 7.25a.75.75 0 01-1.06 0L2.22 9.28a.75.75 0 011.06-1.06L6 10.94l6.72-6.72a.75.75 0 011.06 0z"></path></svg>
</clipboard-copy>


      
    </div>

    <div class="file-actions pt-0 mb-md-0 mb-2 ml-md-2 flex-shrink-0 flex-md-justify-end">
      <div class="d-flex flex-justify-end">










        <details class="js-file-header-dropdown dropdown details-overlay details-reset pr-2 pl-2">
          <summary class="height-full">
            <div class="height-full d-flex flex-items-center Link--secondary">
              <svg aria-label="Show options" class="octicon octicon-kebab-horizontal" viewBox="0 0 16 16" version="1.1" width="16" height="16" role="img"><path d="M8 9a1.5 1.5 0 100-3 1.5 1.5 0 000 3zM1.5 9a1.5 1.5 0 100-3 1.5 1.5 0 000 3zm13 0a1.5 1.5 0 100-3 1.5 1.5 0 000 3z"></path></svg>
            </div>
          </summary>
          <details-menu class="dropdown-menu dropdown-menu-sw show-more-popover color-text-primary position-absolute f5" style="width:185px; z-index:99; right: -4px;">
                          <label role="menuitemradio" class="dropdown-item btn-link text-normal d-block pl-5" tabindex="0" aria-checked="true">
              <span class="position-absolute ml-n4"><svg class="octicon octicon-check" height="16" viewBox="0 0 16 16" version="1.1" width="16" aria-hidden="true"><path fill-rule="evenodd" d="M13.78 4.22a.75.75 0 010 1.06l-7.25 7.25a.75.75 0 01-1.06 0L2.22 9.28a.75.75 0 011.06-1.06L6 10.94l6.72-6.72a.75.75 0 011.06 0z"></path></svg></span>
              <input type="checkbox" checked class="d-none js-toggle-file-notes">
              Show comments
            </label>

                        <div role="none" class="dropdown-divider"></div>

                          <a href="/MkTej/Applied-Data-Science-Capstone/blob/4e280d20bf32b70f9eb8ca801f9bde8f43c59b32/Capstone%20-%20The%20Battle%20of%20Neighborhoods%20-%20Part%202/The%20Battle%20of%20Neighborhoods%20-%20Part%202.ipynb"
   class="pl-5 dropdown-item btn-link"
   rel="nofollow"
   role="menuitem"
   data-ga-click="View file, click, location:files_changed_dropdown"
   >
   View file
</a>


                                <button type="button" disabled role="menuitem" class="pl-5 dropdown-item btn-link" aria-label="You must be signed in and have push access to make changes.">
      Edit file
    </button>


                              <button type="button" disabled role="menuitem" class="pl-5 dropdown-item btn-link" aria-label="You must be signed in and have push access to delete this file.">
    Delete file
  </button>


                        <div role="none" class="dropdown-divider"></div>

              

              
          </details-menu>
        </details>
      </div>
    </div>
  </div>
  <div class="js-file-content Details-content--hidden"
    data-hydro-view="{&quot;event_type&quot;:&quot;pull_request.select_diff_range&quot;,&quot;payload&quot;:{&quot;actor_id&quot;:70435676,&quot;pull_request_id&quot;:null,&quot;repository_id&quot;:null,&quot;diff_type&quot;:&quot;UNIFIED&quot;,&quot;whitespace_ignored&quot;:false,&quot;originating_url&quot;:&quot;https://github.com/MkTej/Applied-Data-Science-Capstone/commit/4e280d20bf32b70f9eb8ca801f9bde8f43c59b32&quot;,&quot;user_id&quot;:70435676}}" data-hydro-view-hmac="7e2d32161525cf72ccd032f67be80cc28d5f60b924e75a1749a6476114c51743">
        <div class="data highlight js-blob-wrapper " style="overflow-x: auto">
          <table class="diff-table js-diff-table tab-size  " data-tab-size="8" data-diff-anchor="diff-fa813b117ce2d012f47a2f3389844083759d6016b1d7c8c9704c81cd3c034b13" data-paste-markdown-skip>

                
      <tr class="js-expandable-line" data-position="0">
    <td class="blob-num blob-num-expandable" colspan="2">
          <a href="#diff-fa813b117ce2d012f47a2f3389844083759d6016b1d7c8c9704c81cd3c034b13"
              class="js-expand directional-expander single-expander" title="Expand Up" aria-label="Expand Up"
              data-url="/MkTej/Applied-Data-Science-Capstone/blob_excerpt/a869612c82bd1f86dbeaf1bb653425112934e3d2?diff=unified&amp;direction=up&amp;in_wiki_context=&amp;last_left=&amp;last_right=&amp;left=616&amp;left_hunk_size=13&amp;mode=100644&amp;path=Capstone+-+The+Battle+of+Neighborhoods+-+Part+2%2FThe+Battle+of+Neighborhoods+-+Part+2.ipynb&amp;right=616&amp;right_hunk_size=7"
              data-left-range="1-615" data-right-range="1-615">
            <svg class="octicon octicon-fold-up" viewBox="0 0 16 16" version="1.1" width="16" height="16" aria-hidden="true"><path d="M7.823 1.677L4.927 4.573A.25.25 0 005.104 5H7.25v3.236a.75.75 0 101.5 0V5h2.146a.25.25 0 00.177-.427L8.177 1.677a.25.25 0 00-.354 0zM13.75 11a.75.75 0 000 1.5h.5a.75.75 0 000-1.5h-.5zm-3.75.75a.75.75 0 01.75-.75h.5a.75.75 0 010 1.5h-.5a.75.75 0 01-.75-.75zM7.75 11a.75.75 0 000 1.5h.5a.75.75 0 000-1.5h-.5zM4 11.75a.75.75 0 01.75-.75h.5a.75.75 0 010 1.5h-.5a.75.75 0 01-.75-.75zM1.75 11a.75.75 0 000 1.5h.5a.75.75 0 000-1.5h-.5z"></path></svg>
          </a>
    </td>
    <td class="blob-code blob-code-inner blob-code-hunk">@@ -616,13 +616,7 @@</td>
  </tr>

    <tr data-hunk="e3920eca0159bf07bf0772877c2b3d891b4227265d1c7f3e3b5645a7627767ca">
    <td id="diff-fa813b117ce2d012f47a2f3389844083759d6016b1d7c8c9704c81cd3c034b13L616" data-line-number="616"
        class="blob-num blob-num-context js-linkable-line-number"></td>

    <td id="diff-fa813b117ce2d012f47a2f3389844083759d6016b1d7c8c9704c81cd3c034b13R616" data-line-number="616"
        class="blob-num blob-num-context js-linkable-line-number"></td>

  <td class="blob-code blob-code-context">
      <button class="btn-link add-line-comment js-add-line-comment js-add-single-line-comment"
        data-path="Capstone - The Battle of Neighborhoods - Part 2/The Battle of Neighborhoods - Part 2.ipynb"
        data-anchor="diff-fa813b117ce2d012f47a2f3389844083759d6016b1d7c8c9704c81cd3c034b13"
        data-position="1"
        data-side="right"
        data-line="616"
        data-original-line="       &quot;( 139 / 306 ) Indian Resturants in Flushing, Queens:0\n&quot;,"
        type="button"
        aria-label="Add line comment">
        <svg class="octicon octicon-plus" viewBox="0 0 16 16" version="1.1" width="16" height="16" aria-hidden="true"><path fill-rule="evenodd" d="M7.75 2a.75.75 0 01.75.75V7h4.25a.75.75 0 110 1.5H8.5v4.25a.75.75 0 11-1.5 0V8.5H2.75a.75.75 0 010-1.5H7V2.75A.75.75 0 017.75 2z"></path></svg>
      </button>
    <span class='blob-code-inner blob-code-marker' data-code-marker=" ">      <span class="pl-s"><span class="pl-pds">&quot;</span>( 139 / 306 ) Indian Resturants in Flushing, Queens:0<span class="pl-cce">\n</span><span class="pl-pds">&quot;</span></span>,</span></td>
</tr>



    <tr data-hunk="e3920eca0159bf07bf0772877c2b3d891b4227265d1c7f3e3b5645a7627767ca">
    <td id="diff-fa813b117ce2d012f47a2f3389844083759d6016b1d7c8c9704c81cd3c034b13L617" data-line-number="617"
        class="blob-num blob-num-context js-linkable-line-number"></td>

    <td id="diff-fa813b117ce2d012f47a2f3389844083759d6016b1d7c8c9704c81cd3c034b13R617" data-line-number="617"
        class="blob-num blob-num-context js-linkable-line-number"></td>

  <td class="blob-code blob-code-context">
      <button class="btn-link add-line-comment js-add-line-comment js-add-single-line-comment"
        data-path="Capstone - The Battle of Neighborhoods - Part 2/The Battle of Neighborhoods - Part 2.ipynb"
        data-anchor="diff-fa813b117ce2d012f47a2f3389844083759d6016b1d7c8c9704c81cd3c034b13"
        data-position="2"
        data-side="right"
        data-line="617"
        data-original-line="       &quot;( 140 / 306 ) Indian Resturants in Long Island City, Queens:2\n&quot;,"
        type="button"
        aria-label="Add line comment">
        <svg class="octicon octicon-plus" viewBox="0 0 16 16" version="1.1" width="16" height="16" aria-hidden="true"><path fill-rule="evenodd" d="M7.75 2a.75.75 0 01.75.75V7h4.25a.75.75 0 110 1.5H8.5v4.25a.75.75 0 11-1.5 0V8.5H2.75a.75.75 0 010-1.5H7V2.75A.75.75 0 017.75 2z"></path></svg>
      </button>
    <span class='blob-code-inner blob-code-marker' data-code-marker=" ">      <span class="pl-s"><span class="pl-pds">&quot;</span>( 140 / 306 ) Indian Resturants in Long Island City, Queens:2<span class="pl-cce">\n</span><span class="pl-pds">&quot;</span></span>,</span></td>
</tr>



    <tr data-hunk="e3920eca0159bf07bf0772877c2b3d891b4227265d1c7f3e3b5645a7627767ca">
    <td id="diff-fa813b117ce2d012f47a2f3389844083759d6016b1d7c8c9704c81cd3c034b13L618" data-line-number="618"
        class="blob-num blob-num-context js-linkable-line-number"></td>

    <td id="diff-fa813b117ce2d012f47a2f3389844083759d6016b1d7c8c9704c81cd3c034b13R618" data-line-number="618"
        class="blob-num blob-num-context js-linkable-line-number"></td>

  <td class="blob-code blob-code-context">
      <button class="btn-link add-line-comment js-add-line-comment js-add-single-line-comment"
        data-path="Capstone - The Battle of Neighborhoods - Part 2/The Battle of Neighborhoods - Part 2.ipynb"
        data-anchor="diff-fa813b117ce2d012f47a2f3389844083759d6016b1d7c8c9704c81cd3c034b13"
        data-position="3"
        data-side="right"
        data-line="618"
        data-original-line="       &quot;( 141 / 306 ) Indian Resturants in Sunnyside, Queens:1\n&quot;,"
        type="button"
        aria-label="Add line comment">
        <svg class="octicon octicon-plus" viewBox="0 0 16 16" version="1.1" width="16" height="16" aria-hidden="true"><path fill-rule="evenodd" d="M7.75 2a.75.75 0 01.75.75V7h4.25a.75.75 0 110 1.5H8.5v4.25a.75.75 0 11-1.5 0V8.5H2.75a.75.75 0 010-1.5H7V2.75A.75.75 0 017.75 2z"></path></svg>
      </button>
    <span class='blob-code-inner blob-code-marker' data-code-marker=" ">      <span class="pl-s"><span class="pl-pds">&quot;</span>( 141 / 306 ) Indian Resturants in Sunnyside, Queens:1<span class="pl-cce">\n</span><span class="pl-pds">&quot;</span></span>,</span></td>
</tr>



    <tr data-hunk="e3920eca0159bf07bf0772877c2b3d891b4227265d1c7f3e3b5645a7627767ca">
    <td id="diff-fa813b117ce2d012f47a2f3389844083759d6016b1d7c8c9704c81cd3c034b13L619" data-line-number="619"
        class="blob-num blob-num-deletion js-linkable-line-number"></td>

    <td class="blob-num blob-num-deletion empty-cell"></td>

  <td class="blob-code blob-code-deletion">
      <button class="btn-link add-line-comment js-add-line-comment js-add-single-line-comment"
        data-path="Capstone - The Battle of Neighborhoods - Part 2/The Battle of Neighborhoods - Part 2.ipynb"
        data-anchor="diff-fa813b117ce2d012f47a2f3389844083759d6016b1d7c8c9704c81cd3c034b13"
        data-position="4"
        data-side="left"
        data-line="619"
        data-original-line="-      &quot;( 142 / 306 ) Indian Resturants in East Elmhurst, Queens:0\n&quot;"
        type="button"
        aria-label="Add line comment">
        <svg class="octicon octicon-plus" viewBox="0 0 16 16" version="1.1" width="16" height="16" aria-hidden="true"><path fill-rule="evenodd" d="M7.75 2a.75.75 0 01.75.75V7h4.25a.75.75 0 110 1.5H8.5v4.25a.75.75 0 11-1.5 0V8.5H2.75a.75.75 0 010-1.5H7V2.75A.75.75 0 017.75 2z"></path></svg>
      </button>
    <span class='blob-code-inner blob-code-marker' data-code-marker="-">      <span class="pl-s"><span class="pl-pds">&quot;</span>( 142 / 306 ) Indian Resturants in East Elmhurst, Queens:0<span class="pl-cce">\n</span><span class="pl-pds">&quot;</span></span></span></td>
</tr>



    <tr data-hunk="e3920eca0159bf07bf0772877c2b3d891b4227265d1c7f3e3b5645a7627767ca">
    <td id="diff-fa813b117ce2d012f47a2f3389844083759d6016b1d7c8c9704c81cd3c034b13L620" data-line-number="620"
        class="blob-num blob-num-deletion js-linkable-line-number"></td>

    <td class="blob-num blob-num-deletion empty-cell"></td>

  <td class="blob-code blob-code-deletion">
      <button class="btn-link add-line-comment js-add-line-comment js-add-single-line-comment"
        data-path="Capstone - The Battle of Neighborhoods - Part 2/The Battle of Neighborhoods - Part 2.ipynb"
        data-anchor="diff-fa813b117ce2d012f47a2f3389844083759d6016b1d7c8c9704c81cd3c034b13"
        data-position="5"
        data-side="left"
        data-line="620"
        data-original-line="-     ]"
        type="button"
        aria-label="Add line comment">
        <svg class="octicon octicon-plus" viewBox="0 0 16 16" version="1.1" width="16" height="16" aria-hidden="true"><path fill-rule="evenodd" d="M7.75 2a.75.75 0 01.75.75V7h4.25a.75.75 0 110 1.5H8.5v4.25a.75.75 0 11-1.5 0V8.5H2.75a.75.75 0 010-1.5H7V2.75A.75.75 0 017.75 2z"></path></svg>
      </button>
    <span class='blob-code-inner blob-code-marker' data-code-marker="-">     ]</span></td>
</tr>



    <tr data-hunk="e3920eca0159bf07bf0772877c2b3d891b4227265d1c7f3e3b5645a7627767ca">
    <td id="diff-fa813b117ce2d012f47a2f3389844083759d6016b1d7c8c9704c81cd3c034b13L621" data-line-number="621"
        class="blob-num blob-num-deletion js-linkable-line-number"></td>

    <td class="blob-num blob-num-deletion empty-cell"></td>

  <td class="blob-code blob-code-deletion">
      <button class="btn-link add-line-comment js-add-line-comment js-add-single-line-comment"
        data-path="Capstone - The Battle of Neighborhoods - Part 2/The Battle of Neighborhoods - Part 2.ipynb"
        data-anchor="diff-fa813b117ce2d012f47a2f3389844083759d6016b1d7c8c9704c81cd3c034b13"
        data-position="6"
        data-side="left"
        data-line="621"
        data-original-line="-    },"
        type="button"
        aria-label="Add line comment">
        <svg class="octicon octicon-plus" viewBox="0 0 16 16" version="1.1" width="16" height="16" aria-hidden="true"><path fill-rule="evenodd" d="M7.75 2a.75.75 0 01.75.75V7h4.25a.75.75 0 110 1.5H8.5v4.25a.75.75 0 11-1.5 0V8.5H2.75a.75.75 0 010-1.5H7V2.75A.75.75 0 017.75 2z"></path></svg>
      </button>
    <span class='blob-code-inner blob-code-marker' data-code-marker="-">    },</span></td>
</tr>



    <tr data-hunk="e3920eca0159bf07bf0772877c2b3d891b4227265d1c7f3e3b5645a7627767ca">
    <td id="diff-fa813b117ce2d012f47a2f3389844083759d6016b1d7c8c9704c81cd3c034b13L622" data-line-number="622"
        class="blob-num blob-num-deletion js-linkable-line-number"></td>

    <td class="blob-num blob-num-deletion empty-cell"></td>

  <td class="blob-code blob-code-deletion">
      <button class="btn-link add-line-comment js-add-line-comment js-add-single-line-comment"
        data-path="Capstone - The Battle of Neighborhoods - Part 2/The Battle of Neighborhoods - Part 2.ipynb"
        data-anchor="diff-fa813b117ce2d012f47a2f3389844083759d6016b1d7c8c9704c81cd3c034b13"
        data-position="7"
        data-side="left"
        data-line="622"
        data-original-line="-    {"
        type="button"
        aria-label="Add line comment">
        <svg class="octicon octicon-plus" viewBox="0 0 16 16" version="1.1" width="16" height="16" aria-hidden="true"><path fill-rule="evenodd" d="M7.75 2a.75.75 0 01.75.75V7h4.25a.75.75 0 110 1.5H8.5v4.25a.75.75 0 11-1.5 0V8.5H2.75a.75.75 0 010-1.5H7V2.75A.75.75 0 017.75 2z"></path></svg>
      </button>
    <span class='blob-code-inner blob-code-marker' data-code-marker="-">    {</span></td>
</tr>



    <tr data-hunk="e3920eca0159bf07bf0772877c2b3d891b4227265d1c7f3e3b5645a7627767ca">
    <td id="diff-fa813b117ce2d012f47a2f3389844083759d6016b1d7c8c9704c81cd3c034b13L623" data-line-number="623"
        class="blob-num blob-num-deletion js-linkable-line-number"></td>

    <td class="blob-num blob-num-deletion empty-cell"></td>

  <td class="blob-code blob-code-deletion">
      <button class="btn-link add-line-comment js-add-line-comment js-add-single-line-comment"
        data-path="Capstone - The Battle of Neighborhoods - Part 2/The Battle of Neighborhoods - Part 2.ipynb"
        data-anchor="diff-fa813b117ce2d012f47a2f3389844083759d6016b1d7c8c9704c81cd3c034b13"
        data-position="8"
        data-side="left"
        data-line="623"
        data-original-line="-     &quot;name&quot;: &quot;stdout&quot;,"
        type="button"
        aria-label="Add line comment">
        <svg class="octicon octicon-plus" viewBox="0 0 16 16" version="1.1" width="16" height="16" aria-hidden="true"><path fill-rule="evenodd" d="M7.75 2a.75.75 0 01.75.75V7h4.25a.75.75 0 110 1.5H8.5v4.25a.75.75 0 11-1.5 0V8.5H2.75a.75.75 0 010-1.5H7V2.75A.75.75 0 017.75 2z"></path></svg>
      </button>
    <span class='blob-code-inner blob-code-marker' data-code-marker="-">     <span class="pl-s"><span class="pl-pds">&quot;</span>name<span class="pl-pds">&quot;</span></span>: <span class="pl-s"><span class="pl-pds">&quot;</span>stdout<span class="pl-pds">&quot;</span></span>,</span></td>
</tr>



    <tr data-hunk="e3920eca0159bf07bf0772877c2b3d891b4227265d1c7f3e3b5645a7627767ca">
    <td id="diff-fa813b117ce2d012f47a2f3389844083759d6016b1d7c8c9704c81cd3c034b13L624" data-line-number="624"
        class="blob-num blob-num-deletion js-linkable-line-number"></td>

    <td class="blob-num blob-num-deletion empty-cell"></td>

  <td class="blob-code blob-code-deletion">
      <button class="btn-link add-line-comment js-add-line-comment js-add-single-line-comment"
        data-path="Capstone - The Battle of Neighborhoods - Part 2/The Battle of Neighborhoods - Part 2.ipynb"
        data-anchor="diff-fa813b117ce2d012f47a2f3389844083759d6016b1d7c8c9704c81cd3c034b13"
        data-position="9"
        data-side="left"
        data-line="624"
        data-original-line="-     &quot;output_type&quot;: &quot;stream&quot;,"
        type="button"
        aria-label="Add line comment">
        <svg class="octicon octicon-plus" viewBox="0 0 16 16" version="1.1" width="16" height="16" aria-hidden="true"><path fill-rule="evenodd" d="M7.75 2a.75.75 0 01.75.75V7h4.25a.75.75 0 110 1.5H8.5v4.25a.75.75 0 11-1.5 0V8.5H2.75a.75.75 0 010-1.5H7V2.75A.75.75 0 017.75 2z"></path></svg>
      </button>
    <span class='blob-code-inner blob-code-marker' data-code-marker="-">     <span class="pl-s"><span class="pl-pds">&quot;</span>output_type<span class="pl-pds">&quot;</span></span>: <span class="pl-s"><span class="pl-pds">&quot;</span>stream<span class="pl-pds">&quot;</span></span>,</span></td>
</tr>



    <tr data-hunk="e3920eca0159bf07bf0772877c2b3d891b4227265d1c7f3e3b5645a7627767ca">
    <td id="diff-fa813b117ce2d012f47a2f3389844083759d6016b1d7c8c9704c81cd3c034b13L625" data-line-number="625"
        class="blob-num blob-num-deletion js-linkable-line-number"></td>

    <td class="blob-num blob-num-deletion empty-cell"></td>

  <td class="blob-code blob-code-deletion">
      <button class="btn-link add-line-comment js-add-line-comment js-add-single-line-comment"
        data-path="Capstone - The Battle of Neighborhoods - Part 2/The Battle of Neighborhoods - Part 2.ipynb"
        data-anchor="diff-fa813b117ce2d012f47a2f3389844083759d6016b1d7c8c9704c81cd3c034b13"
        data-position="10"
        data-side="left"
        data-line="625"
        data-original-line="-     &quot;text&quot;: ["
        type="button"
        aria-label="Add line comment">
        <svg class="octicon octicon-plus" viewBox="0 0 16 16" version="1.1" width="16" height="16" aria-hidden="true"><path fill-rule="evenodd" d="M7.75 2a.75.75 0 01.75.75V7h4.25a.75.75 0 110 1.5H8.5v4.25a.75.75 0 11-1.5 0V8.5H2.75a.75.75 0 010-1.5H7V2.75A.75.75 0 017.75 2z"></path></svg>
      </button>
    <span class='blob-code-inner blob-code-marker' data-code-marker="-">     <span class="pl-s"><span class="pl-pds">&quot;</span>text<span class="pl-pds">&quot;</span></span>: [</span></td>
</tr>



    <tr data-hunk="e3920eca0159bf07bf0772877c2b3d891b4227265d1c7f3e3b5645a7627767ca">
    <td class="blob-num blob-num-addition empty-cell"></td>

    <td id="diff-fa813b117ce2d012f47a2f3389844083759d6016b1d7c8c9704c81cd3c034b13R619" data-line-number="619"
        class="blob-num blob-num-addition js-linkable-line-number"></td>

  <td class="blob-code blob-code-addition">
      <button class="btn-link add-line-comment js-add-line-comment js-add-single-line-comment"
        data-path="Capstone - The Battle of Neighborhoods - Part 2/The Battle of Neighborhoods - Part 2.ipynb"
        data-anchor="diff-fa813b117ce2d012f47a2f3389844083759d6016b1d7c8c9704c81cd3c034b13"
        data-position="11"
        data-side="right"
        data-line="619"
        data-original-line="+      &quot;( 142 / 306 ) Indian Resturants in East Elmhurst, Queens:0\n&quot;,"
        type="button"
        aria-label="Add line comment">
        <svg class="octicon octicon-plus" viewBox="0 0 16 16" version="1.1" width="16" height="16" aria-hidden="true"><path fill-rule="evenodd" d="M7.75 2a.75.75 0 01.75.75V7h4.25a.75.75 0 110 1.5H8.5v4.25a.75.75 0 11-1.5 0V8.5H2.75a.75.75 0 010-1.5H7V2.75A.75.75 0 017.75 2z"></path></svg>
      </button>
    <span class='blob-code-inner blob-code-marker' data-code-marker="+">      <span class="pl-s"><span class="pl-pds">&quot;</span>( 142 / 306 ) Indian Resturants in East Elmhurst, Queens:0<span class="pl-cce">\n</span><span class="pl-pds">&quot;</span></span>,</span></td>
</tr>



    <tr data-hunk="e3920eca0159bf07bf0772877c2b3d891b4227265d1c7f3e3b5645a7627767ca">
    <td id="diff-fa813b117ce2d012f47a2f3389844083759d6016b1d7c8c9704c81cd3c034b13L626" data-line-number="626"
        class="blob-num blob-num-context js-linkable-line-number"></td>

    <td id="diff-fa813b117ce2d012f47a2f3389844083759d6016b1d7c8c9704c81cd3c034b13R620" data-line-number="620"
        class="blob-num blob-num-context js-linkable-line-number"></td>

  <td class="blob-code blob-code-context">
      <button class="btn-link add-line-comment js-add-line-comment js-add-single-line-comment"
        data-path="Capstone - The Battle of Neighborhoods - Part 2/The Battle of Neighborhoods - Part 2.ipynb"
        data-anchor="diff-fa813b117ce2d012f47a2f3389844083759d6016b1d7c8c9704c81cd3c034b13"
        data-position="12"
        data-side="right"
        data-line="620"
        data-original-line="       &quot;( 143 / 306 ) Indian Resturants in Maspeth, Queens:0\n&quot;,"
        type="button"
        aria-label="Add line comment">
        <svg class="octicon octicon-plus" viewBox="0 0 16 16" version="1.1" width="16" height="16" aria-hidden="true"><path fill-rule="evenodd" d="M7.75 2a.75.75 0 01.75.75V7h4.25a.75.75 0 110 1.5H8.5v4.25a.75.75 0 11-1.5 0V8.5H2.75a.75.75 0 010-1.5H7V2.75A.75.75 0 017.75 2z"></path></svg>
      </button>
    <span class='blob-code-inner blob-code-marker' data-code-marker=" ">      <span class="pl-s"><span class="pl-pds">&quot;</span>( 143 / 306 ) Indian Resturants in Maspeth, Queens:0<span class="pl-cce">\n</span><span class="pl-pds">&quot;</span></span>,</span></td>
</tr>



    <tr data-hunk="e3920eca0159bf07bf0772877c2b3d891b4227265d1c7f3e3b5645a7627767ca">
    <td id="diff-fa813b117ce2d012f47a2f3389844083759d6016b1d7c8c9704c81cd3c034b13L627" data-line-number="627"
        class="blob-num blob-num-context js-linkable-line-number"></td>

    <td id="diff-fa813b117ce2d012f47a2f3389844083759d6016b1d7c8c9704c81cd3c034b13R621" data-line-number="621"
        class="blob-num blob-num-context js-linkable-line-number"></td>

  <td class="blob-code blob-code-context">
      <button class="btn-link add-line-comment js-add-line-comment js-add-single-line-comment"
        data-path="Capstone - The Battle of Neighborhoods - Part 2/The Battle of Neighborhoods - Part 2.ipynb"
        data-anchor="diff-fa813b117ce2d012f47a2f3389844083759d6016b1d7c8c9704c81cd3c034b13"
        data-position="13"
        data-side="right"
        data-line="621"
        data-original-line="       &quot;( 144 / 306 ) Indian Resturants in Ridgewood, Queens:1\n&quot;,"
        type="button"
        aria-label="Add line comment">
        <svg class="octicon octicon-plus" viewBox="0 0 16 16" version="1.1" width="16" height="16" aria-hidden="true"><path fill-rule="evenodd" d="M7.75 2a.75.75 0 01.75.75V7h4.25a.75.75 0 110 1.5H8.5v4.25a.75.75 0 11-1.5 0V8.5H2.75a.75.75 0 010-1.5H7V2.75A.75.75 0 017.75 2z"></path></svg>
      </button>
    <span class='blob-code-inner blob-code-marker' data-code-marker=" ">      <span class="pl-s"><span class="pl-pds">&quot;</span>( 144 / 306 ) Indian Resturants in Ridgewood, Queens:1<span class="pl-cce">\n</span><span class="pl-pds">&quot;</span></span>,</span></td>
</tr>



    <tr data-hunk="e3920eca0159bf07bf0772877c2b3d891b4227265d1c7f3e3b5645a7627767ca">
    <td id="diff-fa813b117ce2d012f47a2f3389844083759d6016b1d7c8c9704c81cd3c034b13L628" data-line-number="628"
        class="blob-num blob-num-context js-linkable-line-number"></td>

    <td id="diff-fa813b117ce2d012f47a2f3389844083759d6016b1d7c8c9704c81cd3c034b13R622" data-line-number="622"
        class="blob-num blob-num-context js-linkable-line-number"></td>

  <td class="blob-code blob-code-context">
      <button class="btn-link add-line-comment js-add-line-comment js-add-single-line-comment"
        data-path="Capstone - The Battle of Neighborhoods - Part 2/The Battle of Neighborhoods - Part 2.ipynb"
        data-anchor="diff-fa813b117ce2d012f47a2f3389844083759d6016b1d7c8c9704c81cd3c034b13"
        data-position="14"
        data-side="right"
        data-line="622"
        data-original-line="       &quot;( 145 / 306 ) Indian Resturants in Glendale, Queens:0\n&quot;,"
        type="button"
        aria-label="Add line comment">
        <svg class="octicon octicon-plus" viewBox="0 0 16 16" version="1.1" width="16" height="16" aria-hidden="true"><path fill-rule="evenodd" d="M7.75 2a.75.75 0 01.75.75V7h4.25a.75.75 0 110 1.5H8.5v4.25a.75.75 0 11-1.5 0V8.5H2.75a.75.75 0 010-1.5H7V2.75A.75.75 0 017.75 2z"></path></svg>
      </button>
    <span class='blob-code-inner blob-code-marker' data-code-marker=" ">      <span class="pl-s"><span class="pl-pds">&quot;</span>( 145 / 306 ) Indian Resturants in Glendale, Queens:0<span class="pl-cce">\n</span><span class="pl-pds">&quot;</span></span>,</span></td>
</tr>



      <tr class="js-expandable-line" data-position="15">
    <td class="blob-num blob-num-expandable" colspan="2">
          <a href="#diff-fa813b117ce2d012f47a2f3389844083759d6016b1d7c8c9704c81cd3c034b13"
                class="js-expand directional-expander" title="Expand Down" aria-label="Expand Down"
                data-url="/MkTej/Applied-Data-Science-Capstone/blob_excerpt/a869612c82bd1f86dbeaf1bb653425112934e3d2?diff=unified&amp;direction=down&amp;in_wiki_context=&amp;last_left=628&amp;last_right=622&amp;left=759&amp;left_hunk_size=13&amp;mode=100644&amp;path=Capstone+-+The+Battle+of+Neighborhoods+-+Part+2%2FThe+Battle+of+Neighborhoods+-+Part+2.ipynb&amp;right=753&amp;right_hunk_size=7"
                data-left-range="629-692" data-right-range="623-686">
            <svg class="octicon octicon-fold-down" viewBox="0 0 16 16" version="1.1" width="16" height="16" aria-hidden="true"><path d="M8.177 14.323l2.896-2.896a.25.25 0 00-.177-.427H8.75V7.764a.75.75 0 10-1.5 0V11H5.104a.25.25 0 00-.177.427l2.896 2.896a.25.25 0 00.354 0zM2.25 5a.75.75 0 000-1.5h-.5a.75.75 0 000 1.5h.5zM6 4.25a.75.75 0 01-.75.75h-.5a.75.75 0 010-1.5h.5a.75.75 0 01.75.75zM8.25 5a.75.75 0 000-1.5h-.5a.75.75 0 000 1.5h.5zM12 4.25a.75.75 0 01-.75.75h-.5a.75.75 0 010-1.5h.5a.75.75 0 01.75.75zm2.25.75a.75.75 0 000-1.5h-.5a.75.75 0 000 1.5h.5z"></path></svg>
          </a>
          <a href="#diff-fa813b117ce2d012f47a2f3389844083759d6016b1d7c8c9704c81cd3c034b13"
              class="js-expand directional-expander" title="Expand Up" aria-label="Expand Up"
              data-url="/MkTej/Applied-Data-Science-Capstone/blob_excerpt/a869612c82bd1f86dbeaf1bb653425112934e3d2?diff=unified&amp;direction=up&amp;in_wiki_context=&amp;last_left=628&amp;last_right=622&amp;left=759&amp;left_hunk_size=13&amp;mode=100644&amp;path=Capstone+-+The+Battle+of+Neighborhoods+-+Part+2%2FThe+Battle+of+Neighborhoods+-+Part+2.ipynb&amp;right=753&amp;right_hunk_size=7"
              data-left-range="693-758" data-right-range="687-752">
            <svg class="octicon octicon-fold-up" viewBox="0 0 16 16" version="1.1" width="16" height="16" aria-hidden="true"><path d="M7.823 1.677L4.927 4.573A.25.25 0 005.104 5H7.25v3.236a.75.75 0 101.5 0V5h2.146a.25.25 0 00.177-.427L8.177 1.677a.25.25 0 00-.354 0zM13.75 11a.75.75 0 000 1.5h.5a.75.75 0 000-1.5h-.5zm-3.75.75a.75.75 0 01.75-.75h.5a.75.75 0 010 1.5h-.5a.75.75 0 01-.75-.75zM7.75 11a.75.75 0 000 1.5h.5a.75.75 0 000-1.5h-.5zM4 11.75a.75.75 0 01.75-.75h.5a.75.75 0 010 1.5h-.5a.75.75 0 01-.75-.75zM1.75 11a.75.75 0 000 1.5h.5a.75.75 0 000-1.5h-.5z"></path></svg>
          </a>
    </td>
    <td class="blob-code blob-code-inner blob-code-hunk">@@ -759,13 +753,7 @@</td>
  </tr>

    <tr data-hunk="639058f8d8126366a267e5542aa134f88533055a11c16a87459de809910e6b5c">
    <td id="diff-fa813b117ce2d012f47a2f3389844083759d6016b1d7c8c9704c81cd3c034b13L759" data-line-number="759"
        class="blob-num blob-num-context js-linkable-line-number"></td>

    <td id="diff-fa813b117ce2d012f47a2f3389844083759d6016b1d7c8c9704c81cd3c034b13R753" data-line-number="753"
        class="blob-num blob-num-context js-linkable-line-number"></td>

  <td class="blob-code blob-code-context">
      <button class="btn-link add-line-comment js-add-line-comment js-add-single-line-comment"
        data-path="Capstone - The Battle of Neighborhoods - Part 2/The Battle of Neighborhoods - Part 2.ipynb"
        data-anchor="diff-fa813b117ce2d012f47a2f3389844083759d6016b1d7c8c9704c81cd3c034b13"
        data-position="16"
        data-side="right"
        data-line="753"
        data-original-line="       &quot;( 276 / 306 ) Indian Resturants in Stuyvesant Town, Manhattan:0\n&quot;,"
        type="button"
        aria-label="Add line comment">
        <svg class="octicon octicon-plus" viewBox="0 0 16 16" version="1.1" width="16" height="16" aria-hidden="true"><path fill-rule="evenodd" d="M7.75 2a.75.75 0 01.75.75V7h4.25a.75.75 0 110 1.5H8.5v4.25a.75.75 0 11-1.5 0V8.5H2.75a.75.75 0 010-1.5H7V2.75A.75.75 0 017.75 2z"></path></svg>
      </button>
    <span class='blob-code-inner blob-code-marker' data-code-marker=" ">      <span class="pl-s"><span class="pl-pds">&quot;</span>( 276 / 306 ) Indian Resturants in Stuyvesant Town, Manhattan:0<span class="pl-cce">\n</span><span class="pl-pds">&quot;</span></span>,</span></td>
</tr>



    <tr data-hunk="639058f8d8126366a267e5542aa134f88533055a11c16a87459de809910e6b5c">
    <td id="diff-fa813b117ce2d012f47a2f3389844083759d6016b1d7c8c9704c81cd3c034b13L760" data-line-number="760"
        class="blob-num blob-num-context js-linkable-line-number"></td>

    <td id="diff-fa813b117ce2d012f47a2f3389844083759d6016b1d7c8c9704c81cd3c034b13R754" data-line-number="754"
        class="blob-num blob-num-context js-linkable-line-number"></td>

  <td class="blob-code blob-code-context">
      <button class="btn-link add-line-comment js-add-line-comment js-add-single-line-comment"
        data-path="Capstone - The Battle of Neighborhoods - Part 2/The Battle of Neighborhoods - Part 2.ipynb"
        data-anchor="diff-fa813b117ce2d012f47a2f3389844083759d6016b1d7c8c9704c81cd3c034b13"
        data-position="17"
        data-side="right"
        data-line="754"
        data-original-line="       &quot;( 277 / 306 ) Indian Resturants in Flatiron, Manhattan:0\n&quot;,"
        type="button"
        aria-label="Add line comment">
        <svg class="octicon octicon-plus" viewBox="0 0 16 16" version="1.1" width="16" height="16" aria-hidden="true"><path fill-rule="evenodd" d="M7.75 2a.75.75 0 01.75.75V7h4.25a.75.75 0 110 1.5H8.5v4.25a.75.75 0 11-1.5 0V8.5H2.75a.75.75 0 010-1.5H7V2.75A.75.75 0 017.75 2z"></path></svg>
      </button>
    <span class='blob-code-inner blob-code-marker' data-code-marker=" ">      <span class="pl-s"><span class="pl-pds">&quot;</span>( 277 / 306 ) Indian Resturants in Flatiron, Manhattan:0<span class="pl-cce">\n</span><span class="pl-pds">&quot;</span></span>,</span></td>
</tr>



    <tr data-hunk="639058f8d8126366a267e5542aa134f88533055a11c16a87459de809910e6b5c">
    <td id="diff-fa813b117ce2d012f47a2f3389844083759d6016b1d7c8c9704c81cd3c034b13L761" data-line-number="761"
        class="blob-num blob-num-context js-linkable-line-number"></td>

    <td id="diff-fa813b117ce2d012f47a2f3389844083759d6016b1d7c8c9704c81cd3c034b13R755" data-line-number="755"
        class="blob-num blob-num-context js-linkable-line-number"></td>

  <td class="blob-code blob-code-context">
      <button class="btn-link add-line-comment js-add-line-comment js-add-single-line-comment"
        data-path="Capstone - The Battle of Neighborhoods - Part 2/The Battle of Neighborhoods - Part 2.ipynb"
        data-anchor="diff-fa813b117ce2d012f47a2f3389844083759d6016b1d7c8c9704c81cd3c034b13"
        data-position="18"
        data-side="right"
        data-line="755"
        data-original-line="       &quot;( 278 / 306 ) Indian Resturants in Sunnyside Gardens, Queens:1\n&quot;,"
        type="button"
        aria-label="Add line comment">
        <svg class="octicon octicon-plus" viewBox="0 0 16 16" version="1.1" width="16" height="16" aria-hidden="true"><path fill-rule="evenodd" d="M7.75 2a.75.75 0 01.75.75V7h4.25a.75.75 0 110 1.5H8.5v4.25a.75.75 0 11-1.5 0V8.5H2.75a.75.75 0 010-1.5H7V2.75A.75.75 0 017.75 2z"></path></svg>
      </button>
    <span class='blob-code-inner blob-code-marker' data-code-marker=" ">      <span class="pl-s"><span class="pl-pds">&quot;</span>( 278 / 306 ) Indian Resturants in Sunnyside Gardens, Queens:1<span class="pl-cce">\n</span><span class="pl-pds">&quot;</span></span>,</span></td>
</tr>



    <tr data-hunk="639058f8d8126366a267e5542aa134f88533055a11c16a87459de809910e6b5c">
    <td id="diff-fa813b117ce2d012f47a2f3389844083759d6016b1d7c8c9704c81cd3c034b13L762" data-line-number="762"
        class="blob-num blob-num-deletion js-linkable-line-number"></td>

    <td class="blob-num blob-num-deletion empty-cell"></td>

  <td class="blob-code blob-code-deletion">
      <button class="btn-link add-line-comment js-add-line-comment js-add-single-line-comment"
        data-path="Capstone - The Battle of Neighborhoods - Part 2/The Battle of Neighborhoods - Part 2.ipynb"
        data-anchor="diff-fa813b117ce2d012f47a2f3389844083759d6016b1d7c8c9704c81cd3c034b13"
        data-position="19"
        data-side="left"
        data-line="762"
        data-original-line="-      &quot;( 279 / 306 ) Indian Resturants in Blissville, Queens:1\n&quot;"
        type="button"
        aria-label="Add line comment">
        <svg class="octicon octicon-plus" viewBox="0 0 16 16" version="1.1" width="16" height="16" aria-hidden="true"><path fill-rule="evenodd" d="M7.75 2a.75.75 0 01.75.75V7h4.25a.75.75 0 110 1.5H8.5v4.25a.75.75 0 11-1.5 0V8.5H2.75a.75.75 0 010-1.5H7V2.75A.75.75 0 017.75 2z"></path></svg>
      </button>
    <span class='blob-code-inner blob-code-marker' data-code-marker="-">      <span class="pl-s"><span class="pl-pds">&quot;</span>( 279 / 306 ) Indian Resturants in Blissville, Queens:1<span class="pl-cce">\n</span><span class="pl-pds">&quot;</span></span></span></td>
</tr>



    <tr data-hunk="639058f8d8126366a267e5542aa134f88533055a11c16a87459de809910e6b5c">
    <td id="diff-fa813b117ce2d012f47a2f3389844083759d6016b1d7c8c9704c81cd3c034b13L763" data-line-number="763"
        class="blob-num blob-num-deletion js-linkable-line-number"></td>

    <td class="blob-num blob-num-deletion empty-cell"></td>

  <td class="blob-code blob-code-deletion">
      <button class="btn-link add-line-comment js-add-line-comment js-add-single-line-comment"
        data-path="Capstone - The Battle of Neighborhoods - Part 2/The Battle of Neighborhoods - Part 2.ipynb"
        data-anchor="diff-fa813b117ce2d012f47a2f3389844083759d6016b1d7c8c9704c81cd3c034b13"
        data-position="20"
        data-side="left"
        data-line="763"
        data-original-line="-     ]"
        type="button"
        aria-label="Add line comment">
        <svg class="octicon octicon-plus" viewBox="0 0 16 16" version="1.1" width="16" height="16" aria-hidden="true"><path fill-rule="evenodd" d="M7.75 2a.75.75 0 01.75.75V7h4.25a.75.75 0 110 1.5H8.5v4.25a.75.75 0 11-1.5 0V8.5H2.75a.75.75 0 010-1.5H7V2.75A.75.75 0 017.75 2z"></path></svg>
      </button>
    <span class='blob-code-inner blob-code-marker' data-code-marker="-">     ]</span></td>
</tr>



    <tr data-hunk="639058f8d8126366a267e5542aa134f88533055a11c16a87459de809910e6b5c">
    <td id="diff-fa813b117ce2d012f47a2f3389844083759d6016b1d7c8c9704c81cd3c034b13L764" data-line-number="764"
        class="blob-num blob-num-deletion js-linkable-line-number"></td>

    <td class="blob-num blob-num-deletion empty-cell"></td>

  <td class="blob-code blob-code-deletion">
      <button class="btn-link add-line-comment js-add-line-comment js-add-single-line-comment"
        data-path="Capstone - The Battle of Neighborhoods - Part 2/The Battle of Neighborhoods - Part 2.ipynb"
        data-anchor="diff-fa813b117ce2d012f47a2f3389844083759d6016b1d7c8c9704c81cd3c034b13"
        data-position="21"
        data-side="left"
        data-line="764"
        data-original-line="-    },"
        type="button"
        aria-label="Add line comment">
        <svg class="octicon octicon-plus" viewBox="0 0 16 16" version="1.1" width="16" height="16" aria-hidden="true"><path fill-rule="evenodd" d="M7.75 2a.75.75 0 01.75.75V7h4.25a.75.75 0 110 1.5H8.5v4.25a.75.75 0 11-1.5 0V8.5H2.75a.75.75 0 010-1.5H7V2.75A.75.75 0 017.75 2z"></path></svg>
      </button>
    <span class='blob-code-inner blob-code-marker' data-code-marker="-">    },</span></td>
</tr>



    <tr data-hunk="639058f8d8126366a267e5542aa134f88533055a11c16a87459de809910e6b5c">
    <td id="diff-fa813b117ce2d012f47a2f3389844083759d6016b1d7c8c9704c81cd3c034b13L765" data-line-number="765"
        class="blob-num blob-num-deletion js-linkable-line-number"></td>

    <td class="blob-num blob-num-deletion empty-cell"></td>

  <td class="blob-code blob-code-deletion">
      <button class="btn-link add-line-comment js-add-line-comment js-add-single-line-comment"
        data-path="Capstone - The Battle of Neighborhoods - Part 2/The Battle of Neighborhoods - Part 2.ipynb"
        data-anchor="diff-fa813b117ce2d012f47a2f3389844083759d6016b1d7c8c9704c81cd3c034b13"
        data-position="22"
        data-side="left"
        data-line="765"
        data-original-line="-    {"
        type="button"
        aria-label="Add line comment">
        <svg class="octicon octicon-plus" viewBox="0 0 16 16" version="1.1" width="16" height="16" aria-hidden="true"><path fill-rule="evenodd" d="M7.75 2a.75.75 0 01.75.75V7h4.25a.75.75 0 110 1.5H8.5v4.25a.75.75 0 11-1.5 0V8.5H2.75a.75.75 0 010-1.5H7V2.75A.75.75 0 017.75 2z"></path></svg>
      </button>
    <span class='blob-code-inner blob-code-marker' data-code-marker="-">    {</span></td>
</tr>



    <tr data-hunk="639058f8d8126366a267e5542aa134f88533055a11c16a87459de809910e6b5c">
    <td id="diff-fa813b117ce2d012f47a2f3389844083759d6016b1d7c8c9704c81cd3c034b13L766" data-line-number="766"
        class="blob-num blob-num-deletion js-linkable-line-number"></td>

    <td class="blob-num blob-num-deletion empty-cell"></td>

  <td class="blob-code blob-code-deletion">
      <button class="btn-link add-line-comment js-add-line-comment js-add-single-line-comment"
        data-path="Capstone - The Battle of Neighborhoods - Part 2/The Battle of Neighborhoods - Part 2.ipynb"
        data-anchor="diff-fa813b117ce2d012f47a2f3389844083759d6016b1d7c8c9704c81cd3c034b13"
        data-position="23"
        data-side="left"
        data-line="766"
        data-original-line="-     &quot;name&quot;: &quot;stdout&quot;,"
        type="button"
        aria-label="Add line comment">
        <svg class="octicon octicon-plus" viewBox="0 0 16 16" version="1.1" width="16" height="16" aria-hidden="true"><path fill-rule="evenodd" d="M7.75 2a.75.75 0 01.75.75V7h4.25a.75.75 0 110 1.5H8.5v4.25a.75.75 0 11-1.5 0V8.5H2.75a.75.75 0 010-1.5H7V2.75A.75.75 0 017.75 2z"></path></svg>
      </button>
    <span class='blob-code-inner blob-code-marker' data-code-marker="-">     <span class="pl-s"><span class="pl-pds">&quot;</span>name<span class="pl-pds">&quot;</span></span>: <span class="pl-s"><span class="pl-pds">&quot;</span>stdout<span class="pl-pds">&quot;</span></span>,</span></td>
</tr>



    <tr data-hunk="639058f8d8126366a267e5542aa134f88533055a11c16a87459de809910e6b5c">
    <td id="diff-fa813b117ce2d012f47a2f3389844083759d6016b1d7c8c9704c81cd3c034b13L767" data-line-number="767"
        class="blob-num blob-num-deletion js-linkable-line-number"></td>

    <td class="blob-num blob-num-deletion empty-cell"></td>

  <td class="blob-code blob-code-deletion">
      <button class="btn-link add-line-comment js-add-line-comment js-add-single-line-comment"
        data-path="Capstone - The Battle of Neighborhoods - Part 2/The Battle of Neighborhoods - Part 2.ipynb"
        data-anchor="diff-fa813b117ce2d012f47a2f3389844083759d6016b1d7c8c9704c81cd3c034b13"
        data-position="24"
        data-side="left"
        data-line="767"
        data-original-line="-     &quot;output_type&quot;: &quot;stream&quot;,"
        type="button"
        aria-label="Add line comment">
        <svg class="octicon octicon-plus" viewBox="0 0 16 16" version="1.1" width="16" height="16" aria-hidden="true"><path fill-rule="evenodd" d="M7.75 2a.75.75 0 01.75.75V7h4.25a.75.75 0 110 1.5H8.5v4.25a.75.75 0 11-1.5 0V8.5H2.75a.75.75 0 010-1.5H7V2.75A.75.75 0 017.75 2z"></path></svg>
      </button>
    <span class='blob-code-inner blob-code-marker' data-code-marker="-">     <span class="pl-s"><span class="pl-pds">&quot;</span>output_type<span class="pl-pds">&quot;</span></span>: <span class="pl-s"><span class="pl-pds">&quot;</span>stream<span class="pl-pds">&quot;</span></span>,</span></td>
</tr>



    <tr data-hunk="639058f8d8126366a267e5542aa134f88533055a11c16a87459de809910e6b5c">
    <td id="diff-fa813b117ce2d012f47a2f3389844083759d6016b1d7c8c9704c81cd3c034b13L768" data-line-number="768"
        class="blob-num blob-num-deletion js-linkable-line-number"></td>

    <td class="blob-num blob-num-deletion empty-cell"></td>

  <td class="blob-code blob-code-deletion">
      <button class="btn-link add-line-comment js-add-line-comment js-add-single-line-comment"
        data-path="Capstone - The Battle of Neighborhoods - Part 2/The Battle of Neighborhoods - Part 2.ipynb"
        data-anchor="diff-fa813b117ce2d012f47a2f3389844083759d6016b1d7c8c9704c81cd3c034b13"
        data-position="25"
        data-side="left"
        data-line="768"
        data-original-line="-     &quot;text&quot;: ["
        type="button"
        aria-label="Add line comment">
        <svg class="octicon octicon-plus" viewBox="0 0 16 16" version="1.1" width="16" height="16" aria-hidden="true"><path fill-rule="evenodd" d="M7.75 2a.75.75 0 01.75.75V7h4.25a.75.75 0 110 1.5H8.5v4.25a.75.75 0 11-1.5 0V8.5H2.75a.75.75 0 010-1.5H7V2.75A.75.75 0 017.75 2z"></path></svg>
      </button>
    <span class='blob-code-inner blob-code-marker' data-code-marker="-">     <span class="pl-s"><span class="pl-pds">&quot;</span>text<span class="pl-pds">&quot;</span></span>: [</span></td>
</tr>



    <tr data-hunk="639058f8d8126366a267e5542aa134f88533055a11c16a87459de809910e6b5c">
    <td class="blob-num blob-num-addition empty-cell"></td>

    <td id="diff-fa813b117ce2d012f47a2f3389844083759d6016b1d7c8c9704c81cd3c034b13R756" data-line-number="756"
        class="blob-num blob-num-addition js-linkable-line-number"></td>

  <td class="blob-code blob-code-addition">
      <button class="btn-link add-line-comment js-add-line-comment js-add-single-line-comment"
        data-path="Capstone - The Battle of Neighborhoods - Part 2/The Battle of Neighborhoods - Part 2.ipynb"
        data-anchor="diff-fa813b117ce2d012f47a2f3389844083759d6016b1d7c8c9704c81cd3c034b13"
        data-position="26"
        data-side="right"
        data-line="756"
        data-original-line="+      &quot;( 279 / 306 ) Indian Resturants in Blissville, Queens:1\n&quot;,"
        type="button"
        aria-label="Add line comment">
        <svg class="octicon octicon-plus" viewBox="0 0 16 16" version="1.1" width="16" height="16" aria-hidden="true"><path fill-rule="evenodd" d="M7.75 2a.75.75 0 01.75.75V7h4.25a.75.75 0 110 1.5H8.5v4.25a.75.75 0 11-1.5 0V8.5H2.75a.75.75 0 010-1.5H7V2.75A.75.75 0 017.75 2z"></path></svg>
      </button>
    <span class='blob-code-inner blob-code-marker' data-code-marker="+">      <span class="pl-s"><span class="pl-pds">&quot;</span>( 279 / 306 ) Indian Resturants in Blissville, Queens:1<span class="pl-cce">\n</span><span class="pl-pds">&quot;</span></span>,</span></td>
</tr>



    <tr data-hunk="639058f8d8126366a267e5542aa134f88533055a11c16a87459de809910e6b5c">
    <td id="diff-fa813b117ce2d012f47a2f3389844083759d6016b1d7c8c9704c81cd3c034b13L769" data-line-number="769"
        class="blob-num blob-num-context js-linkable-line-number"></td>

    <td id="diff-fa813b117ce2d012f47a2f3389844083759d6016b1d7c8c9704c81cd3c034b13R757" data-line-number="757"
        class="blob-num blob-num-context js-linkable-line-number"></td>

  <td class="blob-code blob-code-context">
      <button class="btn-link add-line-comment js-add-line-comment js-add-single-line-comment"
        data-path="Capstone - The Battle of Neighborhoods - Part 2/The Battle of Neighborhoods - Part 2.ipynb"
        data-anchor="diff-fa813b117ce2d012f47a2f3389844083759d6016b1d7c8c9704c81cd3c034b13"
        data-position="27"
        data-side="right"
        data-line="757"
        data-original-line="       &quot;( 280 / 306 ) Indian Resturants in Fulton Ferry, Brooklyn:0\n&quot;,"
        type="button"
        aria-label="Add line comment">
        <svg class="octicon octicon-plus" viewBox="0 0 16 16" version="1.1" width="16" height="16" aria-hidden="true"><path fill-rule="evenodd" d="M7.75 2a.75.75 0 01.75.75V7h4.25a.75.75 0 110 1.5H8.5v4.25a.75.75 0 11-1.5 0V8.5H2.75a.75.75 0 010-1.5H7V2.75A.75.75 0 017.75 2z"></path></svg>
      </button>
    <span class='blob-code-inner blob-code-marker' data-code-marker=" ">      <span class="pl-s"><span class="pl-pds">&quot;</span>( 280 / 306 ) Indian Resturants in Fulton Ferry, Brooklyn:0<span class="pl-cce">\n</span><span class="pl-pds">&quot;</span></span>,</span></td>
</tr>



    <tr data-hunk="639058f8d8126366a267e5542aa134f88533055a11c16a87459de809910e6b5c">
    <td id="diff-fa813b117ce2d012f47a2f3389844083759d6016b1d7c8c9704c81cd3c034b13L770" data-line-number="770"
        class="blob-num blob-num-context js-linkable-line-number"></td>

    <td id="diff-fa813b117ce2d012f47a2f3389844083759d6016b1d7c8c9704c81cd3c034b13R758" data-line-number="758"
        class="blob-num blob-num-context js-linkable-line-number"></td>

  <td class="blob-code blob-code-context">
      <button class="btn-link add-line-comment js-add-line-comment js-add-single-line-comment"
        data-path="Capstone - The Battle of Neighborhoods - Part 2/The Battle of Neighborhoods - Part 2.ipynb"
        data-anchor="diff-fa813b117ce2d012f47a2f3389844083759d6016b1d7c8c9704c81cd3c034b13"
        data-position="28"
        data-side="right"
        data-line="758"
        data-original-line="       &quot;( 281 / 306 ) Indian Resturants in Vinegar Hill, Brooklyn:0\n&quot;,"
        type="button"
        aria-label="Add line comment">
        <svg class="octicon octicon-plus" viewBox="0 0 16 16" version="1.1" width="16" height="16" aria-hidden="true"><path fill-rule="evenodd" d="M7.75 2a.75.75 0 01.75.75V7h4.25a.75.75 0 110 1.5H8.5v4.25a.75.75 0 11-1.5 0V8.5H2.75a.75.75 0 010-1.5H7V2.75A.75.75 0 017.75 2z"></path></svg>
      </button>
    <span class='blob-code-inner blob-code-marker' data-code-marker=" ">      <span class="pl-s"><span class="pl-pds">&quot;</span>( 281 / 306 ) Indian Resturants in Vinegar Hill, Brooklyn:0<span class="pl-cce">\n</span><span class="pl-pds">&quot;</span></span>,</span></td>
</tr>



    <tr data-hunk="639058f8d8126366a267e5542aa134f88533055a11c16a87459de809910e6b5c">
    <td id="diff-fa813b117ce2d012f47a2f3389844083759d6016b1d7c8c9704c81cd3c034b13L771" data-line-number="771"
        class="blob-num blob-num-context js-linkable-line-number"></td>

    <td id="diff-fa813b117ce2d012f47a2f3389844083759d6016b1d7c8c9704c81cd3c034b13R759" data-line-number="759"
        class="blob-num blob-num-context js-linkable-line-number"></td>

  <td class="blob-code blob-code-context">
      <button class="btn-link add-line-comment js-add-line-comment js-add-single-line-comment"
        data-path="Capstone - The Battle of Neighborhoods - Part 2/The Battle of Neighborhoods - Part 2.ipynb"
        data-anchor="diff-fa813b117ce2d012f47a2f3389844083759d6016b1d7c8c9704c81cd3c034b13"
        data-position="29"
        data-side="right"
        data-line="759"
        data-original-line="       &quot;( 282 / 306 ) Indian Resturants in Weeksville, Brooklyn:0\n&quot;,"
        type="button"
        aria-label="Add line comment">
        <svg class="octicon octicon-plus" viewBox="0 0 16 16" version="1.1" width="16" height="16" aria-hidden="true"><path fill-rule="evenodd" d="M7.75 2a.75.75 0 01.75.75V7h4.25a.75.75 0 110 1.5H8.5v4.25a.75.75 0 11-1.5 0V8.5H2.75a.75.75 0 010-1.5H7V2.75A.75.75 0 017.75 2z"></path></svg>
      </button>
    <span class='blob-code-inner blob-code-marker' data-code-marker=" ">      <span class="pl-s"><span class="pl-pds">&quot;</span>( 282 / 306 ) Indian Resturants in Weeksville, Brooklyn:0<span class="pl-cce">\n</span><span class="pl-pds">&quot;</span></span>,</span></td>
</tr>



      <tr class="js-expandable-line" data-position="30">
    <td class="blob-num blob-num-expandable" colspan="2">
          <a href="#diff-fa813b117ce2d012f47a2f3389844083759d6016b1d7c8c9704c81cd3c034b13"
                class="js-expand directional-expander" title="Expand Down" aria-label="Expand Down"
                data-url="/MkTej/Applied-Data-Science-Capstone/blob_excerpt/a869612c82bd1f86dbeaf1bb653425112934e3d2?diff=unified&amp;direction=down&amp;in_wiki_context=&amp;last_left=771&amp;last_right=759&amp;left=1372&amp;left_hunk_size=13&amp;mode=100644&amp;path=Capstone+-+The+Battle+of+Neighborhoods+-+Part+2%2FThe+Battle+of+Neighborhoods+-+Part+2.ipynb&amp;right=1360&amp;right_hunk_size=7"
                data-left-range="772-1070" data-right-range="760-1058">
            <svg class="octicon octicon-fold-down" viewBox="0 0 16 16" version="1.1" width="16" height="16" aria-hidden="true"><path d="M8.177 14.323l2.896-2.896a.25.25 0 00-.177-.427H8.75V7.764a.75.75 0 10-1.5 0V11H5.104a.25.25 0 00-.177.427l2.896 2.896a.25.25 0 00.354 0zM2.25 5a.75.75 0 000-1.5h-.5a.75.75 0 000 1.5h.5zM6 4.25a.75.75 0 01-.75.75h-.5a.75.75 0 010-1.5h.5a.75.75 0 01.75.75zM8.25 5a.75.75 0 000-1.5h-.5a.75.75 0 000 1.5h.5zM12 4.25a.75.75 0 01-.75.75h-.5a.75.75 0 010-1.5h.5a.75.75 0 01.75.75zm2.25.75a.75.75 0 000-1.5h-.5a.75.75 0 000 1.5h.5z"></path></svg>
          </a>
          <a href="#diff-fa813b117ce2d012f47a2f3389844083759d6016b1d7c8c9704c81cd3c034b13"
              class="js-expand directional-expander" title="Expand Up" aria-label="Expand Up"
              data-url="/MkTej/Applied-Data-Science-Capstone/blob_excerpt/a869612c82bd1f86dbeaf1bb653425112934e3d2?diff=unified&amp;direction=up&amp;in_wiki_context=&amp;last_left=771&amp;last_right=759&amp;left=1372&amp;left_hunk_size=13&amp;mode=100644&amp;path=Capstone+-+The+Battle+of+Neighborhoods+-+Part+2%2FThe+Battle+of+Neighborhoods+-+Part+2.ipynb&amp;right=1360&amp;right_hunk_size=7"
              data-left-range="1071-1371" data-right-range="1059-1359">
            <svg class="octicon octicon-fold-up" viewBox="0 0 16 16" version="1.1" width="16" height="16" aria-hidden="true"><path d="M7.823 1.677L4.927 4.573A.25.25 0 005.104 5H7.25v3.236a.75.75 0 101.5 0V5h2.146a.25.25 0 00.177-.427L8.177 1.677a.25.25 0 00-.354 0zM13.75 11a.75.75 0 000 1.5h.5a.75.75 0 000-1.5h-.5zm-3.75.75a.75.75 0 01.75-.75h.5a.75.75 0 010 1.5h-.5a.75.75 0 01-.75-.75zM7.75 11a.75.75 0 000 1.5h.5a.75.75 0 000-1.5h-.5zM4 11.75a.75.75 0 01.75-.75h.5a.75.75 0 010 1.5h-.5a.75.75 0 01-.75-.75zM1.75 11a.75.75 0 000 1.5h.5a.75.75 0 000-1.5h-.5z"></path></svg>
          </a>
    </td>
    <td class="blob-code blob-code-inner blob-code-hunk">@@ -1372,13 +1360,7 @@</td>
  </tr>

    <tr data-hunk="3bfe1e1e4dadc8f53293d5af00f064c314fa1c81476128f181e8be6fc99eff56">
    <td id="diff-fa813b117ce2d012f47a2f3389844083759d6016b1d7c8c9704c81cd3c034b13L1372" data-line-number="1372"
        class="blob-num blob-num-context js-linkable-line-number"></td>

    <td id="diff-fa813b117ce2d012f47a2f3389844083759d6016b1d7c8c9704c81cd3c034b13R1360" data-line-number="1360"
        class="blob-num blob-num-context js-linkable-line-number"></td>

  <td class="blob-code blob-code-context">
      <button class="btn-link add-line-comment js-add-line-comment js-add-single-line-comment"
        data-path="Capstone - The Battle of Neighborhoods - Part 2/The Battle of Neighborhoods - Part 2.ipynb"
        data-anchor="diff-fa813b117ce2d012f47a2f3389844083759d6016b1d7c8c9704c81cd3c034b13"
        data-position="31"
        data-side="right"
        data-line="1360"
        data-original-line="       &quot;( 52 / 151 ) processed\n&quot;,"
        type="button"
        aria-label="Add line comment">
        <svg class="octicon octicon-plus" viewBox="0 0 16 16" version="1.1" width="16" height="16" aria-hidden="true"><path fill-rule="evenodd" d="M7.75 2a.75.75 0 01.75.75V7h4.25a.75.75 0 110 1.5H8.5v4.25a.75.75 0 11-1.5 0V8.5H2.75a.75.75 0 010-1.5H7V2.75A.75.75 0 017.75 2z"></path></svg>
      </button>
    <span class='blob-code-inner blob-code-marker' data-code-marker=" ">      <span class="pl-s"><span class="pl-pds">&quot;</span>( 52 / 151 ) processed<span class="pl-cce">\n</span><span class="pl-pds">&quot;</span></span>,</span></td>
</tr>



    <tr data-hunk="3bfe1e1e4dadc8f53293d5af00f064c314fa1c81476128f181e8be6fc99eff56">
    <td id="diff-fa813b117ce2d012f47a2f3389844083759d6016b1d7c8c9704c81cd3c034b13L1373" data-line-number="1373"
        class="blob-num blob-num-context js-linkable-line-number"></td>

    <td id="diff-fa813b117ce2d012f47a2f3389844083759d6016b1d7c8c9704c81cd3c034b13R1361" data-line-number="1361"
        class="blob-num blob-num-context js-linkable-line-number"></td>

  <td class="blob-code blob-code-context">
      <button class="btn-link add-line-comment js-add-line-comment js-add-single-line-comment"
        data-path="Capstone - The Battle of Neighborhoods - Part 2/The Battle of Neighborhoods - Part 2.ipynb"
        data-anchor="diff-fa813b117ce2d012f47a2f3389844083759d6016b1d7c8c9704c81cd3c034b13"
        data-position="32"
        data-side="right"
        data-line="1361"
        data-original-line="       &quot;                         ID                 Name  Likes  Rating  Tips\n&quot;,"
        type="button"
        aria-label="Add line comment">
        <svg class="octicon octicon-plus" viewBox="0 0 16 16" version="1.1" width="16" height="16" aria-hidden="true"><path fill-rule="evenodd" d="M7.75 2a.75.75 0 01.75.75V7h4.25a.75.75 0 110 1.5H8.5v4.25a.75.75 0 11-1.5 0V8.5H2.75a.75.75 0 010-1.5H7V2.75A.75.75 0 017.75 2z"></path></svg>
      </button>
    <span class='blob-code-inner blob-code-marker' data-code-marker=" ">      <span class="pl-s"><span class="pl-pds">&quot;</span>                         ID                 Name  Likes  Rating  Tips<span class="pl-cce">\n</span><span class="pl-pds">&quot;</span></span>,</span></td>
</tr>



    <tr data-hunk="3bfe1e1e4dadc8f53293d5af00f064c314fa1c81476128f181e8be6fc99eff56">
    <td id="diff-fa813b117ce2d012f47a2f3389844083759d6016b1d7c8c9704c81cd3c034b13L1374" data-line-number="1374"
        class="blob-num blob-num-context js-linkable-line-number"></td>

    <td id="diff-fa813b117ce2d012f47a2f3389844083759d6016b1d7c8c9704c81cd3c034b13R1362" data-line-number="1362"
        class="blob-num blob-num-context js-linkable-line-number"></td>

  <td class="blob-code blob-code-context">
      <button class="btn-link add-line-comment js-add-line-comment js-add-single-line-comment"
        data-path="Capstone - The Battle of Neighborhoods - Part 2/The Battle of Neighborhoods - Part 2.ipynb"
        data-anchor="diff-fa813b117ce2d012f47a2f3389844083759d6016b1d7c8c9704c81cd3c034b13"
        data-position="33"
        data-side="right"
        data-line="1362"
        data-original-line="       &quot;0  4aa56c81f964a5204e4820e3  Seva Indian Cuisine    238     9.0   131\n&quot;,"
        type="button"
        aria-label="Add line comment">
        <svg class="octicon octicon-plus" viewBox="0 0 16 16" version="1.1" width="16" height="16" aria-hidden="true"><path fill-rule="evenodd" d="M7.75 2a.75.75 0 01.75.75V7h4.25a.75.75 0 110 1.5H8.5v4.25a.75.75 0 11-1.5 0V8.5H2.75a.75.75 0 010-1.5H7V2.75A.75.75 0 017.75 2z"></path></svg>
      </button>
    <span class='blob-code-inner blob-code-marker' data-code-marker=" ">      <span class="pl-s"><span class="pl-pds">&quot;</span>0  4aa56c81f964a5204e4820e3  Seva Indian Cuisine    238     9.0   131<span class="pl-cce">\n</span><span class="pl-pds">&quot;</span></span>,</span></td>
</tr>



    <tr data-hunk="3bfe1e1e4dadc8f53293d5af00f064c314fa1c81476128f181e8be6fc99eff56">
    <td id="diff-fa813b117ce2d012f47a2f3389844083759d6016b1d7c8c9704c81cd3c034b13L1375" data-line-number="1375"
        class="blob-num blob-num-deletion js-linkable-line-number"></td>

    <td class="blob-num blob-num-deletion empty-cell"></td>

  <td class="blob-code blob-code-deletion">
      <button class="btn-link add-line-comment js-add-line-comment js-add-single-line-comment"
        data-path="Capstone - The Battle of Neighborhoods - Part 2/The Battle of Neighborhoods - Part 2.ipynb"
        data-anchor="diff-fa813b117ce2d012f47a2f3389844083759d6016b1d7c8c9704c81cd3c034b13"
        data-position="34"
        data-side="left"
        data-line="1375"
        data-original-line="-      &quot;( 53 / 151 ) processed\n&quot;"
        type="button"
        aria-label="Add line comment">
        <svg class="octicon octicon-plus" viewBox="0 0 16 16" version="1.1" width="16" height="16" aria-hidden="true"><path fill-rule="evenodd" d="M7.75 2a.75.75 0 01.75.75V7h4.25a.75.75 0 110 1.5H8.5v4.25a.75.75 0 11-1.5 0V8.5H2.75a.75.75 0 010-1.5H7V2.75A.75.75 0 017.75 2z"></path></svg>
      </button>
    <span class='blob-code-inner blob-code-marker' data-code-marker="-">      <span class="pl-s"><span class="pl-pds">&quot;</span>( 53 / 151 ) processed<span class="pl-cce">\n</span><span class="pl-pds">&quot;</span></span></span></td>
</tr>



    <tr data-hunk="3bfe1e1e4dadc8f53293d5af00f064c314fa1c81476128f181e8be6fc99eff56">
    <td id="diff-fa813b117ce2d012f47a2f3389844083759d6016b1d7c8c9704c81cd3c034b13L1376" data-line-number="1376"
        class="blob-num blob-num-deletion js-linkable-line-number"></td>

    <td class="blob-num blob-num-deletion empty-cell"></td>

  <td class="blob-code blob-code-deletion">
      <button class="btn-link add-line-comment js-add-line-comment js-add-single-line-comment"
        data-path="Capstone - The Battle of Neighborhoods - Part 2/The Battle of Neighborhoods - Part 2.ipynb"
        data-anchor="diff-fa813b117ce2d012f47a2f3389844083759d6016b1d7c8c9704c81cd3c034b13"
        data-position="35"
        data-side="left"
        data-line="1376"
        data-original-line="-     ]"
        type="button"
        aria-label="Add line comment">
        <svg class="octicon octicon-plus" viewBox="0 0 16 16" version="1.1" width="16" height="16" aria-hidden="true"><path fill-rule="evenodd" d="M7.75 2a.75.75 0 01.75.75V7h4.25a.75.75 0 110 1.5H8.5v4.25a.75.75 0 11-1.5 0V8.5H2.75a.75.75 0 010-1.5H7V2.75A.75.75 0 017.75 2z"></path></svg>
      </button>
    <span class='blob-code-inner blob-code-marker' data-code-marker="-">     ]</span></td>
</tr>



    <tr data-hunk="3bfe1e1e4dadc8f53293d5af00f064c314fa1c81476128f181e8be6fc99eff56">
    <td id="diff-fa813b117ce2d012f47a2f3389844083759d6016b1d7c8c9704c81cd3c034b13L1377" data-line-number="1377"
        class="blob-num blob-num-deletion js-linkable-line-number"></td>

    <td class="blob-num blob-num-deletion empty-cell"></td>

  <td class="blob-code blob-code-deletion">
      <button class="btn-link add-line-comment js-add-line-comment js-add-single-line-comment"
        data-path="Capstone - The Battle of Neighborhoods - Part 2/The Battle of Neighborhoods - Part 2.ipynb"
        data-anchor="diff-fa813b117ce2d012f47a2f3389844083759d6016b1d7c8c9704c81cd3c034b13"
        data-position="36"
        data-side="left"
        data-line="1377"
        data-original-line="-    },"
        type="button"
        aria-label="Add line comment">
        <svg class="octicon octicon-plus" viewBox="0 0 16 16" version="1.1" width="16" height="16" aria-hidden="true"><path fill-rule="evenodd" d="M7.75 2a.75.75 0 01.75.75V7h4.25a.75.75 0 110 1.5H8.5v4.25a.75.75 0 11-1.5 0V8.5H2.75a.75.75 0 010-1.5H7V2.75A.75.75 0 017.75 2z"></path></svg>
      </button>
    <span class='blob-code-inner blob-code-marker' data-code-marker="-">    },</span></td>
</tr>



    <tr data-hunk="3bfe1e1e4dadc8f53293d5af00f064c314fa1c81476128f181e8be6fc99eff56">
    <td id="diff-fa813b117ce2d012f47a2f3389844083759d6016b1d7c8c9704c81cd3c034b13L1378" data-line-number="1378"
        class="blob-num blob-num-deletion js-linkable-line-number"></td>

    <td class="blob-num blob-num-deletion empty-cell"></td>

  <td class="blob-code blob-code-deletion">
      <button class="btn-link add-line-comment js-add-line-comment js-add-single-line-comment"
        data-path="Capstone - The Battle of Neighborhoods - Part 2/The Battle of Neighborhoods - Part 2.ipynb"
        data-anchor="diff-fa813b117ce2d012f47a2f3389844083759d6016b1d7c8c9704c81cd3c034b13"
        data-position="37"
        data-side="left"
        data-line="1378"
        data-original-line="-    {"
        type="button"
        aria-label="Add line comment">
        <svg class="octicon octicon-plus" viewBox="0 0 16 16" version="1.1" width="16" height="16" aria-hidden="true"><path fill-rule="evenodd" d="M7.75 2a.75.75 0 01.75.75V7h4.25a.75.75 0 110 1.5H8.5v4.25a.75.75 0 11-1.5 0V8.5H2.75a.75.75 0 010-1.5H7V2.75A.75.75 0 017.75 2z"></path></svg>
      </button>
    <span class='blob-code-inner blob-code-marker' data-code-marker="-">    {</span></td>
</tr>



    <tr data-hunk="3bfe1e1e4dadc8f53293d5af00f064c314fa1c81476128f181e8be6fc99eff56">
    <td id="diff-fa813b117ce2d012f47a2f3389844083759d6016b1d7c8c9704c81cd3c034b13L1379" data-line-number="1379"
        class="blob-num blob-num-deletion js-linkable-line-number"></td>

    <td class="blob-num blob-num-deletion empty-cell"></td>

  <td class="blob-code blob-code-deletion">
      <button class="btn-link add-line-comment js-add-line-comment js-add-single-line-comment"
        data-path="Capstone - The Battle of Neighborhoods - Part 2/The Battle of Neighborhoods - Part 2.ipynb"
        data-anchor="diff-fa813b117ce2d012f47a2f3389844083759d6016b1d7c8c9704c81cd3c034b13"
        data-position="38"
        data-side="left"
        data-line="1379"
        data-original-line="-     &quot;name&quot;: &quot;stdout&quot;,"
        type="button"
        aria-label="Add line comment">
        <svg class="octicon octicon-plus" viewBox="0 0 16 16" version="1.1" width="16" height="16" aria-hidden="true"><path fill-rule="evenodd" d="M7.75 2a.75.75 0 01.75.75V7h4.25a.75.75 0 110 1.5H8.5v4.25a.75.75 0 11-1.5 0V8.5H2.75a.75.75 0 010-1.5H7V2.75A.75.75 0 017.75 2z"></path></svg>
      </button>
    <span class='blob-code-inner blob-code-marker' data-code-marker="-">     <span class="pl-s"><span class="pl-pds">&quot;</span>name<span class="pl-pds">&quot;</span></span>: <span class="pl-s"><span class="pl-pds">&quot;</span>stdout<span class="pl-pds">&quot;</span></span>,</span></td>
</tr>



    <tr data-hunk="3bfe1e1e4dadc8f53293d5af00f064c314fa1c81476128f181e8be6fc99eff56">
    <td id="diff-fa813b117ce2d012f47a2f3389844083759d6016b1d7c8c9704c81cd3c034b13L1380" data-line-number="1380"
        class="blob-num blob-num-deletion js-linkable-line-number"></td>

    <td class="blob-num blob-num-deletion empty-cell"></td>

  <td class="blob-code blob-code-deletion">
      <button class="btn-link add-line-comment js-add-line-comment js-add-single-line-comment"
        data-path="Capstone - The Battle of Neighborhoods - Part 2/The Battle of Neighborhoods - Part 2.ipynb"
        data-anchor="diff-fa813b117ce2d012f47a2f3389844083759d6016b1d7c8c9704c81cd3c034b13"
        data-position="39"
        data-side="left"
        data-line="1380"
        data-original-line="-     &quot;output_type&quot;: &quot;stream&quot;,"
        type="button"
        aria-label="Add line comment">
        <svg class="octicon octicon-plus" viewBox="0 0 16 16" version="1.1" width="16" height="16" aria-hidden="true"><path fill-rule="evenodd" d="M7.75 2a.75.75 0 01.75.75V7h4.25a.75.75 0 110 1.5H8.5v4.25a.75.75 0 11-1.5 0V8.5H2.75a.75.75 0 010-1.5H7V2.75A.75.75 0 017.75 2z"></path></svg>
      </button>
    <span class='blob-code-inner blob-code-marker' data-code-marker="-">     <span class="pl-s"><span class="pl-pds">&quot;</span>output_type<span class="pl-pds">&quot;</span></span>: <span class="pl-s"><span class="pl-pds">&quot;</span>stream<span class="pl-pds">&quot;</span></span>,</span></td>
</tr>



    <tr data-hunk="3bfe1e1e4dadc8f53293d5af00f064c314fa1c81476128f181e8be6fc99eff56">
    <td id="diff-fa813b117ce2d012f47a2f3389844083759d6016b1d7c8c9704c81cd3c034b13L1381" data-line-number="1381"
        class="blob-num blob-num-deletion js-linkable-line-number"></td>

    <td class="blob-num blob-num-deletion empty-cell"></td>

  <td class="blob-code blob-code-deletion">
      <button class="btn-link add-line-comment js-add-line-comment js-add-single-line-comment"
        data-path="Capstone - The Battle of Neighborhoods - Part 2/The Battle of Neighborhoods - Part 2.ipynb"
        data-anchor="diff-fa813b117ce2d012f47a2f3389844083759d6016b1d7c8c9704c81cd3c034b13"
        data-position="40"
        data-side="left"
        data-line="1381"
        data-original-line="-     &quot;text&quot;: ["
        type="button"
        aria-label="Add line comment">
        <svg class="octicon octicon-plus" viewBox="0 0 16 16" version="1.1" width="16" height="16" aria-hidden="true"><path fill-rule="evenodd" d="M7.75 2a.75.75 0 01.75.75V7h4.25a.75.75 0 110 1.5H8.5v4.25a.75.75 0 11-1.5 0V8.5H2.75a.75.75 0 010-1.5H7V2.75A.75.75 0 017.75 2z"></path></svg>
      </button>
    <span class='blob-code-inner blob-code-marker' data-code-marker="-">     <span class="pl-s"><span class="pl-pds">&quot;</span>text<span class="pl-pds">&quot;</span></span>: [</span></td>
</tr>



    <tr data-hunk="3bfe1e1e4dadc8f53293d5af00f064c314fa1c81476128f181e8be6fc99eff56">
    <td class="blob-num blob-num-addition empty-cell"></td>

    <td id="diff-fa813b117ce2d012f47a2f3389844083759d6016b1d7c8c9704c81cd3c034b13R1363" data-line-number="1363"
        class="blob-num blob-num-addition js-linkable-line-number"></td>

  <td class="blob-code blob-code-addition">
      <button class="btn-link add-line-comment js-add-line-comment js-add-single-line-comment"
        data-path="Capstone - The Battle of Neighborhoods - Part 2/The Battle of Neighborhoods - Part 2.ipynb"
        data-anchor="diff-fa813b117ce2d012f47a2f3389844083759d6016b1d7c8c9704c81cd3c034b13"
        data-position="41"
        data-side="right"
        data-line="1363"
        data-original-line="+      &quot;( 53 / 151 ) processed\n&quot;,"
        type="button"
        aria-label="Add line comment">
        <svg class="octicon octicon-plus" viewBox="0 0 16 16" version="1.1" width="16" height="16" aria-hidden="true"><path fill-rule="evenodd" d="M7.75 2a.75.75 0 01.75.75V7h4.25a.75.75 0 110 1.5H8.5v4.25a.75.75 0 11-1.5 0V8.5H2.75a.75.75 0 010-1.5H7V2.75A.75.75 0 017.75 2z"></path></svg>
      </button>
    <span class='blob-code-inner blob-code-marker' data-code-marker="+">      <span class="pl-s"><span class="pl-pds">&quot;</span>( 53 / 151 ) processed<span class="pl-cce">\n</span><span class="pl-pds">&quot;</span></span>,</span></td>
</tr>



    <tr data-hunk="3bfe1e1e4dadc8f53293d5af00f064c314fa1c81476128f181e8be6fc99eff56">
    <td id="diff-fa813b117ce2d012f47a2f3389844083759d6016b1d7c8c9704c81cd3c034b13L1382" data-line-number="1382"
        class="blob-num blob-num-context js-linkable-line-number"></td>

    <td id="diff-fa813b117ce2d012f47a2f3389844083759d6016b1d7c8c9704c81cd3c034b13R1364" data-line-number="1364"
        class="blob-num blob-num-context js-linkable-line-number"></td>

  <td class="blob-code blob-code-context">
      <button class="btn-link add-line-comment js-add-line-comment js-add-single-line-comment"
        data-path="Capstone - The Battle of Neighborhoods - Part 2/The Battle of Neighborhoods - Part 2.ipynb"
        data-anchor="diff-fa813b117ce2d012f47a2f3389844083759d6016b1d7c8c9704c81cd3c034b13"
        data-position="42"
        data-side="right"
        data-line="1364"
        data-original-line="       &quot;                         ID            Name  Likes  Rating  Tips\n&quot;,"
        type="button"
        aria-label="Add line comment">
        <svg class="octicon octicon-plus" viewBox="0 0 16 16" version="1.1" width="16" height="16" aria-hidden="true"><path fill-rule="evenodd" d="M7.75 2a.75.75 0 01.75.75V7h4.25a.75.75 0 110 1.5H8.5v4.25a.75.75 0 11-1.5 0V8.5H2.75a.75.75 0 010-1.5H7V2.75A.75.75 0 017.75 2z"></path></svg>
      </button>
    <span class='blob-code-inner blob-code-marker' data-code-marker=" ">      <span class="pl-s"><span class="pl-pds">&quot;</span>                         ID            Name  Likes  Rating  Tips<span class="pl-cce">\n</span><span class="pl-pds">&quot;</span></span>,</span></td>
</tr>



    <tr data-hunk="3bfe1e1e4dadc8f53293d5af00f064c314fa1c81476128f181e8be6fc99eff56">
    <td id="diff-fa813b117ce2d012f47a2f3389844083759d6016b1d7c8c9704c81cd3c034b13L1383" data-line-number="1383"
        class="blob-num blob-num-context js-linkable-line-number"></td>

    <td id="diff-fa813b117ce2d012f47a2f3389844083759d6016b1d7c8c9704c81cd3c034b13R1365" data-line-number="1365"
        class="blob-num blob-num-context js-linkable-line-number"></td>

  <td class="blob-code blob-code-context">
      <button class="btn-link add-line-comment js-add-line-comment js-add-single-line-comment"
        data-path="Capstone - The Battle of Neighborhoods - Part 2/The Battle of Neighborhoods - Part 2.ipynb"
        data-anchor="diff-fa813b117ce2d012f47a2f3389844083759d6016b1d7c8c9704c81cd3c034b13"
        data-position="43"
        data-side="right"
        data-line="1365"
        data-original-line="       &quot;0  4afdcf29f964a520162b22e3  Rajbhog Sweets     37     8.4    24\n&quot;,"
        type="button"
        aria-label="Add line comment">
        <svg class="octicon octicon-plus" viewBox="0 0 16 16" version="1.1" width="16" height="16" aria-hidden="true"><path fill-rule="evenodd" d="M7.75 2a.75.75 0 01.75.75V7h4.25a.75.75 0 110 1.5H8.5v4.25a.75.75 0 11-1.5 0V8.5H2.75a.75.75 0 010-1.5H7V2.75A.75.75 0 017.75 2z"></path></svg>
      </button>
    <span class='blob-code-inner blob-code-marker' data-code-marker=" ">      <span class="pl-s"><span class="pl-pds">&quot;</span>0  4afdcf29f964a520162b22e3  Rajbhog Sweets     37     8.4    24<span class="pl-cce">\n</span><span class="pl-pds">&quot;</span></span>,</span></td>
</tr>



    <tr data-hunk="3bfe1e1e4dadc8f53293d5af00f064c314fa1c81476128f181e8be6fc99eff56">
    <td id="diff-fa813b117ce2d012f47a2f3389844083759d6016b1d7c8c9704c81cd3c034b13L1384" data-line-number="1384"
        class="blob-num blob-num-context js-linkable-line-number"></td>

    <td id="diff-fa813b117ce2d012f47a2f3389844083759d6016b1d7c8c9704c81cd3c034b13R1366" data-line-number="1366"
        class="blob-num blob-num-context js-linkable-line-number"></td>

  <td class="blob-code blob-code-context">
      <button class="btn-link add-line-comment js-add-line-comment js-add-single-line-comment"
        data-path="Capstone - The Battle of Neighborhoods - Part 2/The Battle of Neighborhoods - Part 2.ipynb"
        data-anchor="diff-fa813b117ce2d012f47a2f3389844083759d6016b1d7c8c9704c81cd3c034b13"
        data-position="44"
        data-side="right"
        data-line="1366"
        data-original-line="       &quot;( 54 / 151 ) processed\n&quot;,"
        type="button"
        aria-label="Add line comment">
        <svg class="octicon octicon-plus" viewBox="0 0 16 16" version="1.1" width="16" height="16" aria-hidden="true"><path fill-rule="evenodd" d="M7.75 2a.75.75 0 01.75.75V7h4.25a.75.75 0 110 1.5H8.5v4.25a.75.75 0 11-1.5 0V8.5H2.75a.75.75 0 010-1.5H7V2.75A.75.75 0 017.75 2z"></path></svg>
      </button>
    <span class='blob-code-inner blob-code-marker' data-code-marker=" ">      <span class="pl-s"><span class="pl-pds">&quot;</span>( 54 / 151 ) processed<span class="pl-cce">\n</span><span class="pl-pds">&quot;</span></span>,</span></td>
</tr>



      <tr class="js-expandable-line" data-position="45">
    <td class="blob-num blob-num-expandable" colspan="2">
          <a href="#diff-fa813b117ce2d012f47a2f3389844083759d6016b1d7c8c9704c81cd3c034b13"
                class="js-expand directional-expander" title="Expand Down" aria-label="Expand Down"
                data-url="/MkTej/Applied-Data-Science-Capstone/blob_excerpt/a869612c82bd1f86dbeaf1bb653425112934e3d2?diff=unified&amp;direction=down&amp;in_wiki_context=&amp;last_left=1384&amp;last_right=1366&amp;left=1548&amp;left_hunk_size=13&amp;mode=100644&amp;path=Capstone+-+The+Battle+of+Neighborhoods+-+Part+2%2FThe+Battle+of+Neighborhoods+-+Part+2.ipynb&amp;right=1530&amp;right_hunk_size=7"
                data-left-range="1385-1465" data-right-range="1367-1447">
            <svg class="octicon octicon-fold-down" viewBox="0 0 16 16" version="1.1" width="16" height="16" aria-hidden="true"><path d="M8.177 14.323l2.896-2.896a.25.25 0 00-.177-.427H8.75V7.764a.75.75 0 10-1.5 0V11H5.104a.25.25 0 00-.177.427l2.896 2.896a.25.25 0 00.354 0zM2.25 5a.75.75 0 000-1.5h-.5a.75.75 0 000 1.5h.5zM6 4.25a.75.75 0 01-.75.75h-.5a.75.75 0 010-1.5h.5a.75.75 0 01.75.75zM8.25 5a.75.75 0 000-1.5h-.5a.75.75 0 000 1.5h.5zM12 4.25a.75.75 0 01-.75.75h-.5a.75.75 0 010-1.5h.5a.75.75 0 01.75.75zm2.25.75a.75.75 0 000-1.5h-.5a.75.75 0 000 1.5h.5z"></path></svg>
          </a>
          <a href="#diff-fa813b117ce2d012f47a2f3389844083759d6016b1d7c8c9704c81cd3c034b13"
              class="js-expand directional-expander" title="Expand Up" aria-label="Expand Up"
              data-url="/MkTej/Applied-Data-Science-Capstone/blob_excerpt/a869612c82bd1f86dbeaf1bb653425112934e3d2?diff=unified&amp;direction=up&amp;in_wiki_context=&amp;last_left=1384&amp;last_right=1366&amp;left=1548&amp;left_hunk_size=13&amp;mode=100644&amp;path=Capstone+-+The+Battle+of+Neighborhoods+-+Part+2%2FThe+Battle+of+Neighborhoods+-+Part+2.ipynb&amp;right=1530&amp;right_hunk_size=7"
              data-left-range="1466-1547" data-right-range="1448-1529">
            <svg class="octicon octicon-fold-up" viewBox="0 0 16 16" version="1.1" width="16" height="16" aria-hidden="true"><path d="M7.823 1.677L4.927 4.573A.25.25 0 005.104 5H7.25v3.236a.75.75 0 101.5 0V5h2.146a.25.25 0 00.177-.427L8.177 1.677a.25.25 0 00-.354 0zM13.75 11a.75.75 0 000 1.5h.5a.75.75 0 000-1.5h-.5zm-3.75.75a.75.75 0 01.75-.75h.5a.75.75 0 010 1.5h-.5a.75.75 0 01-.75-.75zM7.75 11a.75.75 0 000 1.5h.5a.75.75 0 000-1.5h-.5zM4 11.75a.75.75 0 01.75-.75h.5a.75.75 0 010 1.5h-.5a.75.75 0 01-.75-.75zM1.75 11a.75.75 0 000 1.5h.5a.75.75 0 000-1.5h-.5z"></path></svg>
          </a>
    </td>
    <td class="blob-code blob-code-inner blob-code-hunk">@@ -1548,13 +1530,7 @@</td>
  </tr>

    <tr data-hunk="fd8c028500d21222ea1406740b205500533c0588fdf16ceb59fcb2b2e79fe665">
    <td id="diff-fa813b117ce2d012f47a2f3389844083759d6016b1d7c8c9704c81cd3c034b13L1548" data-line-number="1548"
        class="blob-num blob-num-context js-linkable-line-number"></td>

    <td id="diff-fa813b117ce2d012f47a2f3389844083759d6016b1d7c8c9704c81cd3c034b13R1530" data-line-number="1530"
        class="blob-num blob-num-context js-linkable-line-number"></td>

  <td class="blob-code blob-code-context">
      <button class="btn-link add-line-comment js-add-line-comment js-add-single-line-comment"
        data-path="Capstone - The Battle of Neighborhoods - Part 2/The Battle of Neighborhoods - Part 2.ipynb"
        data-anchor="diff-fa813b117ce2d012f47a2f3389844083759d6016b1d7c8c9704c81cd3c034b13"
        data-position="46"
        data-side="right"
        data-line="1530"
        data-original-line="       &quot;( 105 / 151 ) processed\n&quot;,"
        type="button"
        aria-label="Add line comment">
        <svg class="octicon octicon-plus" viewBox="0 0 16 16" version="1.1" width="16" height="16" aria-hidden="true"><path fill-rule="evenodd" d="M7.75 2a.75.75 0 01.75.75V7h4.25a.75.75 0 110 1.5H8.5v4.25a.75.75 0 11-1.5 0V8.5H2.75a.75.75 0 010-1.5H7V2.75A.75.75 0 017.75 2z"></path></svg>
      </button>
    <span class='blob-code-inner blob-code-marker' data-code-marker=" ">      <span class="pl-s"><span class="pl-pds">&quot;</span>( 105 / 151 ) processed<span class="pl-cce">\n</span><span class="pl-pds">&quot;</span></span>,</span></td>
</tr>



    <tr data-hunk="fd8c028500d21222ea1406740b205500533c0588fdf16ceb59fcb2b2e79fe665">
    <td id="diff-fa813b117ce2d012f47a2f3389844083759d6016b1d7c8c9704c81cd3c034b13L1549" data-line-number="1549"
        class="blob-num blob-num-context js-linkable-line-number"></td>

    <td id="diff-fa813b117ce2d012f47a2f3389844083759d6016b1d7c8c9704c81cd3c034b13R1531" data-line-number="1531"
        class="blob-num blob-num-context js-linkable-line-number"></td>

  <td class="blob-code blob-code-context">
      <button class="btn-link add-line-comment js-add-line-comment js-add-single-line-comment"
        data-path="Capstone - The Battle of Neighborhoods - Part 2/The Battle of Neighborhoods - Part 2.ipynb"
        data-anchor="diff-fa813b117ce2d012f47a2f3389844083759d6016b1d7c8c9704c81cd3c034b13"
        data-position="47"
        data-side="right"
        data-line="1531"
        data-original-line="       &quot;                         ID             Name  Likes  Rating  Tips\n&quot;,"
        type="button"
        aria-label="Add line comment">
        <svg class="octicon octicon-plus" viewBox="0 0 16 16" version="1.1" width="16" height="16" aria-hidden="true"><path fill-rule="evenodd" d="M7.75 2a.75.75 0 01.75.75V7h4.25a.75.75 0 110 1.5H8.5v4.25a.75.75 0 11-1.5 0V8.5H2.75a.75.75 0 010-1.5H7V2.75A.75.75 0 017.75 2z"></path></svg>
      </button>
    <span class='blob-code-inner blob-code-marker' data-code-marker=" ">      <span class="pl-s"><span class="pl-pds">&quot;</span>                         ID             Name  Likes  Rating  Tips<span class="pl-cce">\n</span><span class="pl-pds">&quot;</span></span>,</span></td>
</tr>



    <tr data-hunk="fd8c028500d21222ea1406740b205500533c0588fdf16ceb59fcb2b2e79fe665">
    <td id="diff-fa813b117ce2d012f47a2f3389844083759d6016b1d7c8c9704c81cd3c034b13L1550" data-line-number="1550"
        class="blob-num blob-num-context js-linkable-line-number"></td>

    <td id="diff-fa813b117ce2d012f47a2f3389844083759d6016b1d7c8c9704c81cd3c034b13R1532" data-line-number="1532"
        class="blob-num blob-num-context js-linkable-line-number"></td>

  <td class="blob-code blob-code-context">
      <button class="btn-link add-line-comment js-add-line-comment js-add-single-line-comment"
        data-path="Capstone - The Battle of Neighborhoods - Part 2/The Battle of Neighborhoods - Part 2.ipynb"
        data-anchor="diff-fa813b117ce2d012f47a2f3389844083759d6016b1d7c8c9704c81cd3c034b13"
        data-position="48"
        data-side="right"
        data-line="1532"
        data-original-line="       &quot;0  4c76ff35a5676dcb72671721  Flavor Of India      6     6.1     6\n&quot;,"
        type="button"
        aria-label="Add line comment">
        <svg class="octicon octicon-plus" viewBox="0 0 16 16" version="1.1" width="16" height="16" aria-hidden="true"><path fill-rule="evenodd" d="M7.75 2a.75.75 0 01.75.75V7h4.25a.75.75 0 110 1.5H8.5v4.25a.75.75 0 11-1.5 0V8.5H2.75a.75.75 0 010-1.5H7V2.75A.75.75 0 017.75 2z"></path></svg>
      </button>
    <span class='blob-code-inner blob-code-marker' data-code-marker=" ">      <span class="pl-s"><span class="pl-pds">&quot;</span>0  4c76ff35a5676dcb72671721  Flavor Of India      6     6.1     6<span class="pl-cce">\n</span><span class="pl-pds">&quot;</span></span>,</span></td>
</tr>



    <tr data-hunk="fd8c028500d21222ea1406740b205500533c0588fdf16ceb59fcb2b2e79fe665">
    <td id="diff-fa813b117ce2d012f47a2f3389844083759d6016b1d7c8c9704c81cd3c034b13L1551" data-line-number="1551"
        class="blob-num blob-num-deletion js-linkable-line-number"></td>

    <td class="blob-num blob-num-deletion empty-cell"></td>

  <td class="blob-code blob-code-deletion">
      <button class="btn-link add-line-comment js-add-line-comment js-add-single-line-comment"
        data-path="Capstone - The Battle of Neighborhoods - Part 2/The Battle of Neighborhoods - Part 2.ipynb"
        data-anchor="diff-fa813b117ce2d012f47a2f3389844083759d6016b1d7c8c9704c81cd3c034b13"
        data-position="49"
        data-side="left"
        data-line="1551"
        data-original-line="-      &quot;( 106 / 151 ) processed\n&quot;"
        type="button"
        aria-label="Add line comment">
        <svg class="octicon octicon-plus" viewBox="0 0 16 16" version="1.1" width="16" height="16" aria-hidden="true"><path fill-rule="evenodd" d="M7.75 2a.75.75 0 01.75.75V7h4.25a.75.75 0 110 1.5H8.5v4.25a.75.75 0 11-1.5 0V8.5H2.75a.75.75 0 010-1.5H7V2.75A.75.75 0 017.75 2z"></path></svg>
      </button>
    <span class='blob-code-inner blob-code-marker' data-code-marker="-">      <span class="pl-s"><span class="pl-pds">&quot;</span>( 106 / 151 ) processed<span class="pl-cce">\n</span><span class="pl-pds">&quot;</span></span></span></td>
</tr>



    <tr data-hunk="fd8c028500d21222ea1406740b205500533c0588fdf16ceb59fcb2b2e79fe665">
    <td id="diff-fa813b117ce2d012f47a2f3389844083759d6016b1d7c8c9704c81cd3c034b13L1552" data-line-number="1552"
        class="blob-num blob-num-deletion js-linkable-line-number"></td>

    <td class="blob-num blob-num-deletion empty-cell"></td>

  <td class="blob-code blob-code-deletion">
      <button class="btn-link add-line-comment js-add-line-comment js-add-single-line-comment"
        data-path="Capstone - The Battle of Neighborhoods - Part 2/The Battle of Neighborhoods - Part 2.ipynb"
        data-anchor="diff-fa813b117ce2d012f47a2f3389844083759d6016b1d7c8c9704c81cd3c034b13"
        data-position="50"
        data-side="left"
        data-line="1552"
        data-original-line="-     ]"
        type="button"
        aria-label="Add line comment">
        <svg class="octicon octicon-plus" viewBox="0 0 16 16" version="1.1" width="16" height="16" aria-hidden="true"><path fill-rule="evenodd" d="M7.75 2a.75.75 0 01.75.75V7h4.25a.75.75 0 110 1.5H8.5v4.25a.75.75 0 11-1.5 0V8.5H2.75a.75.75 0 010-1.5H7V2.75A.75.75 0 017.75 2z"></path></svg>
      </button>
    <span class='blob-code-inner blob-code-marker' data-code-marker="-">     ]</span></td>
</tr>



    <tr data-hunk="fd8c028500d21222ea1406740b205500533c0588fdf16ceb59fcb2b2e79fe665">
    <td id="diff-fa813b117ce2d012f47a2f3389844083759d6016b1d7c8c9704c81cd3c034b13L1553" data-line-number="1553"
        class="blob-num blob-num-deletion js-linkable-line-number"></td>

    <td class="blob-num blob-num-deletion empty-cell"></td>

  <td class="blob-code blob-code-deletion">
      <button class="btn-link add-line-comment js-add-line-comment js-add-single-line-comment"
        data-path="Capstone - The Battle of Neighborhoods - Part 2/The Battle of Neighborhoods - Part 2.ipynb"
        data-anchor="diff-fa813b117ce2d012f47a2f3389844083759d6016b1d7c8c9704c81cd3c034b13"
        data-position="51"
        data-side="left"
        data-line="1553"
        data-original-line="-    },"
        type="button"
        aria-label="Add line comment">
        <svg class="octicon octicon-plus" viewBox="0 0 16 16" version="1.1" width="16" height="16" aria-hidden="true"><path fill-rule="evenodd" d="M7.75 2a.75.75 0 01.75.75V7h4.25a.75.75 0 110 1.5H8.5v4.25a.75.75 0 11-1.5 0V8.5H2.75a.75.75 0 010-1.5H7V2.75A.75.75 0 017.75 2z"></path></svg>
      </button>
    <span class='blob-code-inner blob-code-marker' data-code-marker="-">    },</span></td>
</tr>



    <tr data-hunk="fd8c028500d21222ea1406740b205500533c0588fdf16ceb59fcb2b2e79fe665">
    <td id="diff-fa813b117ce2d012f47a2f3389844083759d6016b1d7c8c9704c81cd3c034b13L1554" data-line-number="1554"
        class="blob-num blob-num-deletion js-linkable-line-number"></td>

    <td class="blob-num blob-num-deletion empty-cell"></td>

  <td class="blob-code blob-code-deletion">
      <button class="btn-link add-line-comment js-add-line-comment js-add-single-line-comment"
        data-path="Capstone - The Battle of Neighborhoods - Part 2/The Battle of Neighborhoods - Part 2.ipynb"
        data-anchor="diff-fa813b117ce2d012f47a2f3389844083759d6016b1d7c8c9704c81cd3c034b13"
        data-position="52"
        data-side="left"
        data-line="1554"
        data-original-line="-    {"
        type="button"
        aria-label="Add line comment">
        <svg class="octicon octicon-plus" viewBox="0 0 16 16" version="1.1" width="16" height="16" aria-hidden="true"><path fill-rule="evenodd" d="M7.75 2a.75.75 0 01.75.75V7h4.25a.75.75 0 110 1.5H8.5v4.25a.75.75 0 11-1.5 0V8.5H2.75a.75.75 0 010-1.5H7V2.75A.75.75 0 017.75 2z"></path></svg>
      </button>
    <span class='blob-code-inner blob-code-marker' data-code-marker="-">    {</span></td>
</tr>



    <tr data-hunk="fd8c028500d21222ea1406740b205500533c0588fdf16ceb59fcb2b2e79fe665">
    <td id="diff-fa813b117ce2d012f47a2f3389844083759d6016b1d7c8c9704c81cd3c034b13L1555" data-line-number="1555"
        class="blob-num blob-num-deletion js-linkable-line-number"></td>

    <td class="blob-num blob-num-deletion empty-cell"></td>

  <td class="blob-code blob-code-deletion">
      <button class="btn-link add-line-comment js-add-line-comment js-add-single-line-comment"
        data-path="Capstone - The Battle of Neighborhoods - Part 2/The Battle of Neighborhoods - Part 2.ipynb"
        data-anchor="diff-fa813b117ce2d012f47a2f3389844083759d6016b1d7c8c9704c81cd3c034b13"
        data-position="53"
        data-side="left"
        data-line="1555"
        data-original-line="-     &quot;name&quot;: &quot;stdout&quot;,"
        type="button"
        aria-label="Add line comment">
        <svg class="octicon octicon-plus" viewBox="0 0 16 16" version="1.1" width="16" height="16" aria-hidden="true"><path fill-rule="evenodd" d="M7.75 2a.75.75 0 01.75.75V7h4.25a.75.75 0 110 1.5H8.5v4.25a.75.75 0 11-1.5 0V8.5H2.75a.75.75 0 010-1.5H7V2.75A.75.75 0 017.75 2z"></path></svg>
      </button>
    <span class='blob-code-inner blob-code-marker' data-code-marker="-">     <span class="pl-s"><span class="pl-pds">&quot;</span>name<span class="pl-pds">&quot;</span></span>: <span class="pl-s"><span class="pl-pds">&quot;</span>stdout<span class="pl-pds">&quot;</span></span>,</span></td>
</tr>



    <tr data-hunk="fd8c028500d21222ea1406740b205500533c0588fdf16ceb59fcb2b2e79fe665">
    <td id="diff-fa813b117ce2d012f47a2f3389844083759d6016b1d7c8c9704c81cd3c034b13L1556" data-line-number="1556"
        class="blob-num blob-num-deletion js-linkable-line-number"></td>

    <td class="blob-num blob-num-deletion empty-cell"></td>

  <td class="blob-code blob-code-deletion">
      <button class="btn-link add-line-comment js-add-line-comment js-add-single-line-comment"
        data-path="Capstone - The Battle of Neighborhoods - Part 2/The Battle of Neighborhoods - Part 2.ipynb"
        data-anchor="diff-fa813b117ce2d012f47a2f3389844083759d6016b1d7c8c9704c81cd3c034b13"
        data-position="54"
        data-side="left"
        data-line="1556"
        data-original-line="-     &quot;output_type&quot;: &quot;stream&quot;,"
        type="button"
        aria-label="Add line comment">
        <svg class="octicon octicon-plus" viewBox="0 0 16 16" version="1.1" width="16" height="16" aria-hidden="true"><path fill-rule="evenodd" d="M7.75 2a.75.75 0 01.75.75V7h4.25a.75.75 0 110 1.5H8.5v4.25a.75.75 0 11-1.5 0V8.5H2.75a.75.75 0 010-1.5H7V2.75A.75.75 0 017.75 2z"></path></svg>
      </button>
    <span class='blob-code-inner blob-code-marker' data-code-marker="-">     <span class="pl-s"><span class="pl-pds">&quot;</span>output_type<span class="pl-pds">&quot;</span></span>: <span class="pl-s"><span class="pl-pds">&quot;</span>stream<span class="pl-pds">&quot;</span></span>,</span></td>
</tr>



    <tr data-hunk="fd8c028500d21222ea1406740b205500533c0588fdf16ceb59fcb2b2e79fe665">
    <td id="diff-fa813b117ce2d012f47a2f3389844083759d6016b1d7c8c9704c81cd3c034b13L1557" data-line-number="1557"
        class="blob-num blob-num-deletion js-linkable-line-number"></td>

    <td class="blob-num blob-num-deletion empty-cell"></td>

  <td class="blob-code blob-code-deletion">
      <button class="btn-link add-line-comment js-add-line-comment js-add-single-line-comment"
        data-path="Capstone - The Battle of Neighborhoods - Part 2/The Battle of Neighborhoods - Part 2.ipynb"
        data-anchor="diff-fa813b117ce2d012f47a2f3389844083759d6016b1d7c8c9704c81cd3c034b13"
        data-position="55"
        data-side="left"
        data-line="1557"
        data-original-line="-     &quot;text&quot;: ["
        type="button"
        aria-label="Add line comment">
        <svg class="octicon octicon-plus" viewBox="0 0 16 16" version="1.1" width="16" height="16" aria-hidden="true"><path fill-rule="evenodd" d="M7.75 2a.75.75 0 01.75.75V7h4.25a.75.75 0 110 1.5H8.5v4.25a.75.75 0 11-1.5 0V8.5H2.75a.75.75 0 010-1.5H7V2.75A.75.75 0 017.75 2z"></path></svg>
      </button>
    <span class='blob-code-inner blob-code-marker' data-code-marker="-">     <span class="pl-s"><span class="pl-pds">&quot;</span>text<span class="pl-pds">&quot;</span></span>: [</span></td>
</tr>



    <tr data-hunk="fd8c028500d21222ea1406740b205500533c0588fdf16ceb59fcb2b2e79fe665">
    <td class="blob-num blob-num-addition empty-cell"></td>

    <td id="diff-fa813b117ce2d012f47a2f3389844083759d6016b1d7c8c9704c81cd3c034b13R1533" data-line-number="1533"
        class="blob-num blob-num-addition js-linkable-line-number"></td>

  <td class="blob-code blob-code-addition">
      <button class="btn-link add-line-comment js-add-line-comment js-add-single-line-comment"
        data-path="Capstone - The Battle of Neighborhoods - Part 2/The Battle of Neighborhoods - Part 2.ipynb"
        data-anchor="diff-fa813b117ce2d012f47a2f3389844083759d6016b1d7c8c9704c81cd3c034b13"
        data-position="56"
        data-side="right"
        data-line="1533"
        data-original-line="+      &quot;( 106 / 151 ) processed\n&quot;,"
        type="button"
        aria-label="Add line comment">
        <svg class="octicon octicon-plus" viewBox="0 0 16 16" version="1.1" width="16" height="16" aria-hidden="true"><path fill-rule="evenodd" d="M7.75 2a.75.75 0 01.75.75V7h4.25a.75.75 0 110 1.5H8.5v4.25a.75.75 0 11-1.5 0V8.5H2.75a.75.75 0 010-1.5H7V2.75A.75.75 0 017.75 2z"></path></svg>
      </button>
    <span class='blob-code-inner blob-code-marker' data-code-marker="+">      <span class="pl-s"><span class="pl-pds">&quot;</span>( 106 / 151 ) processed<span class="pl-cce">\n</span><span class="pl-pds">&quot;</span></span>,</span></td>
</tr>



    <tr data-hunk="fd8c028500d21222ea1406740b205500533c0588fdf16ceb59fcb2b2e79fe665">
    <td id="diff-fa813b117ce2d012f47a2f3389844083759d6016b1d7c8c9704c81cd3c034b13L1558" data-line-number="1558"
        class="blob-num blob-num-context js-linkable-line-number"></td>

    <td id="diff-fa813b117ce2d012f47a2f3389844083759d6016b1d7c8c9704c81cd3c034b13R1534" data-line-number="1534"
        class="blob-num blob-num-context js-linkable-line-number"></td>

  <td class="blob-code blob-code-context">
      <button class="btn-link add-line-comment js-add-line-comment js-add-single-line-comment"
        data-path="Capstone - The Battle of Neighborhoods - Part 2/The Battle of Neighborhoods - Part 2.ipynb"
        data-anchor="diff-fa813b117ce2d012f47a2f3389844083759d6016b1d7c8c9704c81cd3c034b13"
        data-position="57"
        data-side="right"
        data-line="1534"
        data-original-line="       &quot;                         ID           Name  Likes  Rating  Tips\n&quot;,"
        type="button"
        aria-label="Add line comment">
        <svg class="octicon octicon-plus" viewBox="0 0 16 16" version="1.1" width="16" height="16" aria-hidden="true"><path fill-rule="evenodd" d="M7.75 2a.75.75 0 01.75.75V7h4.25a.75.75 0 110 1.5H8.5v4.25a.75.75 0 11-1.5 0V8.5H2.75a.75.75 0 010-1.5H7V2.75A.75.75 0 017.75 2z"></path></svg>
      </button>
    <span class='blob-code-inner blob-code-marker' data-code-marker=" ">      <span class="pl-s"><span class="pl-pds">&quot;</span>                         ID           Name  Likes  Rating  Tips<span class="pl-cce">\n</span><span class="pl-pds">&quot;</span></span>,</span></td>
</tr>



    <tr data-hunk="fd8c028500d21222ea1406740b205500533c0588fdf16ceb59fcb2b2e79fe665">
    <td id="diff-fa813b117ce2d012f47a2f3389844083759d6016b1d7c8c9704c81cd3c034b13L1559" data-line-number="1559"
        class="blob-num blob-num-context js-linkable-line-number"></td>

    <td id="diff-fa813b117ce2d012f47a2f3389844083759d6016b1d7c8c9704c81cd3c034b13R1535" data-line-number="1535"
        class="blob-num blob-num-context js-linkable-line-number"></td>

  <td class="blob-code blob-code-context">
      <button class="btn-link add-line-comment js-add-line-comment js-add-single-line-comment"
        data-path="Capstone - The Battle of Neighborhoods - Part 2/The Battle of Neighborhoods - Part 2.ipynb"
        data-anchor="diff-fa813b117ce2d012f47a2f3389844083759d6016b1d7c8c9704c81cd3c034b13"
        data-position="58"
        data-side="right"
        data-line="1535"
        data-original-line="       &quot;0  4df0f39dd4c04d0392c853ea  Sagar Chinese      7     6.0     6\n&quot;,"
        type="button"
        aria-label="Add line comment">
        <svg class="octicon octicon-plus" viewBox="0 0 16 16" version="1.1" width="16" height="16" aria-hidden="true"><path fill-rule="evenodd" d="M7.75 2a.75.75 0 01.75.75V7h4.25a.75.75 0 110 1.5H8.5v4.25a.75.75 0 11-1.5 0V8.5H2.75a.75.75 0 010-1.5H7V2.75A.75.75 0 017.75 2z"></path></svg>
      </button>
    <span class='blob-code-inner blob-code-marker' data-code-marker=" ">      <span class="pl-s"><span class="pl-pds">&quot;</span>0  4df0f39dd4c04d0392c853ea  Sagar Chinese      7     6.0     6<span class="pl-cce">\n</span><span class="pl-pds">&quot;</span></span>,</span></td>
</tr>



    <tr data-hunk="fd8c028500d21222ea1406740b205500533c0588fdf16ceb59fcb2b2e79fe665">
    <td id="diff-fa813b117ce2d012f47a2f3389844083759d6016b1d7c8c9704c81cd3c034b13L1560" data-line-number="1560"
        class="blob-num blob-num-context js-linkable-line-number"></td>

    <td id="diff-fa813b117ce2d012f47a2f3389844083759d6016b1d7c8c9704c81cd3c034b13R1536" data-line-number="1536"
        class="blob-num blob-num-context js-linkable-line-number"></td>

  <td class="blob-code blob-code-context">
      <button class="btn-link add-line-comment js-add-line-comment js-add-single-line-comment"
        data-path="Capstone - The Battle of Neighborhoods - Part 2/The Battle of Neighborhoods - Part 2.ipynb"
        data-anchor="diff-fa813b117ce2d012f47a2f3389844083759d6016b1d7c8c9704c81cd3c034b13"
        data-position="59"
        data-side="right"
        data-line="1536"
        data-original-line="       &quot;( 107 / 151 ) processed\n&quot;,"
        type="button"
        aria-label="Add line comment">
        <svg class="octicon octicon-plus" viewBox="0 0 16 16" version="1.1" width="16" height="16" aria-hidden="true"><path fill-rule="evenodd" d="M7.75 2a.75.75 0 01.75.75V7h4.25a.75.75 0 110 1.5H8.5v4.25a.75.75 0 11-1.5 0V8.5H2.75a.75.75 0 010-1.5H7V2.75A.75.75 0 017.75 2z"></path></svg>
      </button>
    <span class='blob-code-inner blob-code-marker' data-code-marker=" ">      <span class="pl-s"><span class="pl-pds">&quot;</span>( 107 / 151 ) processed<span class="pl-cce">\n</span><span class="pl-pds">&quot;</span></span>,</span></td>
</tr>



      <tr class="js-expandable-line" data-position="60">
    <td class="blob-num blob-num-expandable" colspan="2">
          <a href="#diff-fa813b117ce2d012f47a2f3389844083759d6016b1d7c8c9704c81cd3c034b13"
                class="js-expand directional-expander" title="Expand Down" aria-label="Expand Down"
                data-url="/MkTej/Applied-Data-Science-Capstone/blob_excerpt/a869612c82bd1f86dbeaf1bb653425112934e3d2?diff=unified&amp;direction=down&amp;in_wiki_context=&amp;last_left=1560&amp;last_right=1536&amp;left=2727&amp;left_hunk_size=7&amp;mode=100644&amp;path=Capstone+-+The+Battle+of+Neighborhoods+-+Part+2%2FThe+Battle+of+Neighborhoods+-+Part+2.ipynb&amp;right=2703&amp;right_hunk_size=7"
                data-left-range="1561-2142" data-right-range="1537-2118">
            <svg class="octicon octicon-fold-down" viewBox="0 0 16 16" version="1.1" width="16" height="16" aria-hidden="true"><path d="M8.177 14.323l2.896-2.896a.25.25 0 00-.177-.427H8.75V7.764a.75.75 0 10-1.5 0V11H5.104a.25.25 0 00-.177.427l2.896 2.896a.25.25 0 00.354 0zM2.25 5a.75.75 0 000-1.5h-.5a.75.75 0 000 1.5h.5zM6 4.25a.75.75 0 01-.75.75h-.5a.75.75 0 010-1.5h.5a.75.75 0 01.75.75zM8.25 5a.75.75 0 000-1.5h-.5a.75.75 0 000 1.5h.5zM12 4.25a.75.75 0 01-.75.75h-.5a.75.75 0 010-1.5h.5a.75.75 0 01.75.75zm2.25.75a.75.75 0 000-1.5h-.5a.75.75 0 000 1.5h.5z"></path></svg>
          </a>
          <a href="#diff-fa813b117ce2d012f47a2f3389844083759d6016b1d7c8c9704c81cd3c034b13"
              class="js-expand directional-expander" title="Expand Up" aria-label="Expand Up"
              data-url="/MkTej/Applied-Data-Science-Capstone/blob_excerpt/a869612c82bd1f86dbeaf1bb653425112934e3d2?diff=unified&amp;direction=up&amp;in_wiki_context=&amp;last_left=1560&amp;last_right=1536&amp;left=2727&amp;left_hunk_size=7&amp;mode=100644&amp;path=Capstone+-+The+Battle+of+Neighborhoods+-+Part+2%2FThe+Battle+of+Neighborhoods+-+Part+2.ipynb&amp;right=2703&amp;right_hunk_size=7"
              data-left-range="2143-2726" data-right-range="2119-2702">
            <svg class="octicon octicon-fold-up" viewBox="0 0 16 16" version="1.1" width="16" height="16" aria-hidden="true"><path d="M7.823 1.677L4.927 4.573A.25.25 0 005.104 5H7.25v3.236a.75.75 0 101.5 0V5h2.146a.25.25 0 00.177-.427L8.177 1.677a.25.25 0 00-.354 0zM13.75 11a.75.75 0 000 1.5h.5a.75.75 0 000-1.5h-.5zm-3.75.75a.75.75 0 01.75-.75h.5a.75.75 0 010 1.5h-.5a.75.75 0 01-.75-.75zM7.75 11a.75.75 0 000 1.5h.5a.75.75 0 000-1.5h-.5zM4 11.75a.75.75 0 01.75-.75h.5a.75.75 0 010 1.5h-.5a.75.75 0 01-.75-.75zM1.75 11a.75.75 0 000 1.5h.5a.75.75 0 000-1.5h-.5z"></path></svg>
          </a>
    </td>
    <td class="blob-code blob-code-inner blob-code-hunk">@@ -2727,7 +2703,7 @@</td>
  </tr>

    <tr data-hunk="2925dcf4c0ccabe4f35f0a0ae1758e39b50062ad9333a76d15f9d05020532b1f">
    <td id="diff-fa813b117ce2d012f47a2f3389844083759d6016b1d7c8c9704c81cd3c034b13L2727" data-line-number="2727"
        class="blob-num blob-num-context js-linkable-line-number"></td>

    <td id="diff-fa813b117ce2d012f47a2f3389844083759d6016b1d7c8c9704c81cd3c034b13R2703" data-line-number="2703"
        class="blob-num blob-num-context js-linkable-line-number"></td>

  <td class="blob-code blob-code-context">
      <button class="btn-link add-line-comment js-add-line-comment js-add-single-line-comment"
        data-path="Capstone - The Battle of Neighborhoods - Part 2/The Battle of Neighborhoods - Part 2.ipynb"
        data-anchor="diff-fa813b117ce2d012f47a2f3389844083759d6016b1d7c8c9704c81cd3c034b13"
        data-position="61"
        data-side="right"
        data-line="2703"
        data-original-line="     &quot;# instantiate a feature group for the incidents in the dataframe\n&quot;,"
        type="button"
        aria-label="Add line comment">
        <svg class="octicon octicon-plus" viewBox="0 0 16 16" version="1.1" width="16" height="16" aria-hidden="true"><path fill-rule="evenodd" d="M7.75 2a.75.75 0 01.75.75V7h4.25a.75.75 0 110 1.5H8.5v4.25a.75.75 0 11-1.5 0V8.5H2.75a.75.75 0 010-1.5H7V2.75A.75.75 0 017.75 2z"></path></svg>
      </button>
    <span class='blob-code-inner blob-code-marker' data-code-marker=" ">    <span class="pl-s"><span class="pl-pds">&quot;</span># instantiate a feature group for the incidents in the dataframe<span class="pl-cce">\n</span><span class="pl-pds">&quot;</span></span>,</span></td>
</tr>



    <tr data-hunk="2925dcf4c0ccabe4f35f0a0ae1758e39b50062ad9333a76d15f9d05020532b1f">
    <td id="diff-fa813b117ce2d012f47a2f3389844083759d6016b1d7c8c9704c81cd3c034b13L2728" data-line-number="2728"
        class="blob-num blob-num-context js-linkable-line-number"></td>

    <td id="diff-fa813b117ce2d012f47a2f3389844083759d6016b1d7c8c9704c81cd3c034b13R2704" data-line-number="2704"
        class="blob-num blob-num-context js-linkable-line-number"></td>

  <td class="blob-code blob-code-context">
      <button class="btn-link add-line-comment js-add-line-comment js-add-single-line-comment"
        data-path="Capstone - The Battle of Neighborhoods - Part 2/The Battle of Neighborhoods - Part 2.ipynb"
        data-anchor="diff-fa813b117ce2d012f47a2f3389844083759d6016b1d7c8c9704c81cd3c034b13"
        data-position="62"
        data-side="right"
        data-line="2704"
        data-original-line="     &quot;incidents = folium.map.FeatureGroup()\n&quot;,"
        type="button"
        aria-label="Add line comment">
        <svg class="octicon octicon-plus" viewBox="0 0 16 16" version="1.1" width="16" height="16" aria-hidden="true"><path fill-rule="evenodd" d="M7.75 2a.75.75 0 01.75.75V7h4.25a.75.75 0 110 1.5H8.5v4.25a.75.75 0 11-1.5 0V8.5H2.75a.75.75 0 010-1.5H7V2.75A.75.75 0 017.75 2z"></path></svg>
      </button>
    <span class='blob-code-inner blob-code-marker' data-code-marker=" ">    <span class="pl-s"><span class="pl-pds">&quot;</span>incidents = folium.map.FeatureGroup()<span class="pl-cce">\n</span><span class="pl-pds">&quot;</span></span>,</span></td>
</tr>



    <tr data-hunk="2925dcf4c0ccabe4f35f0a0ae1758e39b50062ad9333a76d15f9d05020532b1f">
    <td id="diff-fa813b117ce2d012f47a2f3389844083759d6016b1d7c8c9704c81cd3c034b13L2729" data-line-number="2729"
        class="blob-num blob-num-context js-linkable-line-number"></td>

    <td id="diff-fa813b117ce2d012f47a2f3389844083759d6016b1d7c8c9704c81cd3c034b13R2705" data-line-number="2705"
        class="blob-num blob-num-context js-linkable-line-number"></td>

  <td class="blob-code blob-code-context">
      <button class="btn-link add-line-comment js-add-line-comment js-add-single-line-comment"
        data-path="Capstone - The Battle of Neighborhoods - Part 2/The Battle of Neighborhoods - Part 2.ipynb"
        data-anchor="diff-fa813b117ce2d012f47a2f3389844083759d6016b1d7c8c9704c81cd3c034b13"
        data-position="63"
        data-side="right"
        data-line="2705"
        data-original-line="     &quot;\n&quot;,"
        type="button"
        aria-label="Add line comment">
        <svg class="octicon octicon-plus" viewBox="0 0 16 16" version="1.1" width="16" height="16" aria-hidden="true"><path fill-rule="evenodd" d="M7.75 2a.75.75 0 01.75.75V7h4.25a.75.75 0 110 1.5H8.5v4.25a.75.75 0 11-1.5 0V8.5H2.75a.75.75 0 010-1.5H7V2.75A.75.75 0 017.75 2z"></path></svg>
      </button>
    <span class='blob-code-inner blob-code-marker' data-code-marker=" ">    <span class="pl-s"><span class="pl-pds">&quot;</span><span class="pl-cce">\n</span><span class="pl-pds">&quot;</span></span>,</span></td>
</tr>



    <tr data-hunk="2925dcf4c0ccabe4f35f0a0ae1758e39b50062ad9333a76d15f9d05020532b1f">
    <td id="diff-fa813b117ce2d012f47a2f3389844083759d6016b1d7c8c9704c81cd3c034b13L2730" data-line-number="2730"
        class="blob-num blob-num-deletion js-linkable-line-number"></td>

    <td class="blob-num blob-num-deletion empty-cell"></td>

  <td class="blob-code blob-code-deletion">
      <button class="btn-link add-line-comment js-add-line-comment js-add-single-line-comment"
        data-path="Capstone - The Battle of Neighborhoods - Part 2/The Battle of Neighborhoods - Part 2.ipynb"
        data-anchor="diff-fa813b117ce2d012f47a2f3389844083759d6016b1d7c8c9704c81cd3c034b13"
        data-position="64"
        data-side="left"
        data-line="2730"
        data-original-line="-    &quot;# loop through the 100 crimes and add each to the incidents feature group\n&quot;,"
        type="button"
        aria-label="Add line comment">
        <svg class="octicon octicon-plus" viewBox="0 0 16 16" version="1.1" width="16" height="16" aria-hidden="true"><path fill-rule="evenodd" d="M7.75 2a.75.75 0 01.75.75V7h4.25a.75.75 0 110 1.5H8.5v4.25a.75.75 0 11-1.5 0V8.5H2.75a.75.75 0 010-1.5H7V2.75A.75.75 0 017.75 2z"></path></svg>
      </button>
    <span class='blob-code-inner blob-code-marker' data-code-marker="-">    <span class="pl-s"><span class="pl-pds">"</span># loop through the <span class="x x-first x-last">100 crimes </span>and add each to the<span class="x x-first x-last"> incidents</span> feature group<span class="pl-cce">\n</span><span class="pl-pds">"</span></span>,</span></td>
</tr>



    <tr data-hunk="2925dcf4c0ccabe4f35f0a0ae1758e39b50062ad9333a76d15f9d05020532b1f">
    <td class="blob-num blob-num-addition empty-cell"></td>

    <td id="diff-fa813b117ce2d012f47a2f3389844083759d6016b1d7c8c9704c81cd3c034b13R2706" data-line-number="2706"
        class="blob-num blob-num-addition js-linkable-line-number"></td>

  <td class="blob-code blob-code-addition">
      <button class="btn-link add-line-comment js-add-line-comment js-add-single-line-comment"
        data-path="Capstone - The Battle of Neighborhoods - Part 2/The Battle of Neighborhoods - Part 2.ipynb"
        data-anchor="diff-fa813b117ce2d012f47a2f3389844083759d6016b1d7c8c9704c81cd3c034b13"
        data-position="65"
        data-side="right"
        data-line="2706"
        data-original-line="+    &quot;# loop through the neighborhood and add each to the feature group\n&quot;,"
        type="button"
        aria-label="Add line comment">
        <svg class="octicon octicon-plus" viewBox="0 0 16 16" version="1.1" width="16" height="16" aria-hidden="true"><path fill-rule="evenodd" d="M7.75 2a.75.75 0 01.75.75V7h4.25a.75.75 0 110 1.5H8.5v4.25a.75.75 0 11-1.5 0V8.5H2.75a.75.75 0 010-1.5H7V2.75A.75.75 0 017.75 2z"></path></svg>
      </button>
    <span class='blob-code-inner blob-code-marker' data-code-marker="+">    <span class="pl-s"><span class="pl-pds">"</span># loop through the <span class="x x-first x-last">neighborhood </span>and add each to the feature group<span class="pl-cce">\n</span><span class="pl-pds">"</span></span>,</span></td>
</tr>



    <tr data-hunk="2925dcf4c0ccabe4f35f0a0ae1758e39b50062ad9333a76d15f9d05020532b1f">
    <td id="diff-fa813b117ce2d012f47a2f3389844083759d6016b1d7c8c9704c81cd3c034b13L2731" data-line-number="2731"
        class="blob-num blob-num-context js-linkable-line-number"></td>

    <td id="diff-fa813b117ce2d012f47a2f3389844083759d6016b1d7c8c9704c81cd3c034b13R2707" data-line-number="2707"
        class="blob-num blob-num-context js-linkable-line-number"></td>

  <td class="blob-code blob-code-context">
      <button class="btn-link add-line-comment js-add-line-comment js-add-single-line-comment"
        data-path="Capstone - The Battle of Neighborhoods - Part 2/The Battle of Neighborhoods - Part 2.ipynb"
        data-anchor="diff-fa813b117ce2d012f47a2f3389844083759d6016b1d7c8c9704c81cd3c034b13"
        data-position="66"
        data-side="right"
        data-line="2707"
        data-original-line="     &quot;for lat, lng, in ny_neighborhood_stats[[&#39;Latitude&#39;,&#39;Longitude&#39;]].values:\n&quot;,"
        type="button"
        aria-label="Add line comment">
        <svg class="octicon octicon-plus" viewBox="0 0 16 16" version="1.1" width="16" height="16" aria-hidden="true"><path fill-rule="evenodd" d="M7.75 2a.75.75 0 01.75.75V7h4.25a.75.75 0 110 1.5H8.5v4.25a.75.75 0 11-1.5 0V8.5H2.75a.75.75 0 010-1.5H7V2.75A.75.75 0 017.75 2z"></path></svg>
      </button>
    <span class='blob-code-inner blob-code-marker' data-code-marker=" ">    <span class="pl-s"><span class="pl-pds">&quot;</span>for lat, lng, in ny_neighborhood_stats[[&#39;Latitude&#39;,&#39;Longitude&#39;]].values:<span class="pl-cce">\n</span><span class="pl-pds">&quot;</span></span>,</span></td>
</tr>



    <tr data-hunk="2925dcf4c0ccabe4f35f0a0ae1758e39b50062ad9333a76d15f9d05020532b1f">
    <td id="diff-fa813b117ce2d012f47a2f3389844083759d6016b1d7c8c9704c81cd3c034b13L2732" data-line-number="2732"
        class="blob-num blob-num-context js-linkable-line-number"></td>

    <td id="diff-fa813b117ce2d012f47a2f3389844083759d6016b1d7c8c9704c81cd3c034b13R2708" data-line-number="2708"
        class="blob-num blob-num-context js-linkable-line-number"></td>

  <td class="blob-code blob-code-context">
      <button class="btn-link add-line-comment js-add-line-comment js-add-single-line-comment"
        data-path="Capstone - The Battle of Neighborhoods - Part 2/The Battle of Neighborhoods - Part 2.ipynb"
        data-anchor="diff-fa813b117ce2d012f47a2f3389844083759d6016b1d7c8c9704c81cd3c034b13"
        data-position="67"
        data-side="right"
        data-line="2708"
        data-original-line="     &quot;    incidents.add_child(\n&quot;,"
        type="button"
        aria-label="Add line comment">
        <svg class="octicon octicon-plus" viewBox="0 0 16 16" version="1.1" width="16" height="16" aria-hidden="true"><path fill-rule="evenodd" d="M7.75 2a.75.75 0 01.75.75V7h4.25a.75.75 0 110 1.5H8.5v4.25a.75.75 0 11-1.5 0V8.5H2.75a.75.75 0 010-1.5H7V2.75A.75.75 0 017.75 2z"></path></svg>
      </button>
    <span class='blob-code-inner blob-code-marker' data-code-marker=" ">    <span class="pl-s"><span class="pl-pds">&quot;</span>    incidents.add_child(<span class="pl-cce">\n</span><span class="pl-pds">&quot;</span></span>,</span></td>
</tr>



    <tr data-hunk="2925dcf4c0ccabe4f35f0a0ae1758e39b50062ad9333a76d15f9d05020532b1f">
    <td id="diff-fa813b117ce2d012f47a2f3389844083759d6016b1d7c8c9704c81cd3c034b13L2733" data-line-number="2733"
        class="blob-num blob-num-context js-linkable-line-number"></td>

    <td id="diff-fa813b117ce2d012f47a2f3389844083759d6016b1d7c8c9704c81cd3c034b13R2709" data-line-number="2709"
        class="blob-num blob-num-context js-linkable-line-number"></td>

  <td class="blob-code blob-code-context">
      <button class="btn-link add-line-comment js-add-line-comment js-add-single-line-comment"
        data-path="Capstone - The Battle of Neighborhoods - Part 2/The Battle of Neighborhoods - Part 2.ipynb"
        data-anchor="diff-fa813b117ce2d012f47a2f3389844083759d6016b1d7c8c9704c81cd3c034b13"
        data-position="68"
        data-side="right"
        data-line="2709"
        data-original-line="     &quot;        folium.CircleMarker(\n&quot;,"
        type="button"
        aria-label="Add line comment">
        <svg class="octicon octicon-plus" viewBox="0 0 16 16" version="1.1" width="16" height="16" aria-hidden="true"><path fill-rule="evenodd" d="M7.75 2a.75.75 0 01.75.75V7h4.25a.75.75 0 110 1.5H8.5v4.25a.75.75 0 11-1.5 0V8.5H2.75a.75.75 0 010-1.5H7V2.75A.75.75 0 017.75 2z"></path></svg>
      </button>
    <span class='blob-code-inner blob-code-marker' data-code-marker=" ">    <span class="pl-s"><span class="pl-pds">&quot;</span>        folium.CircleMarker(<span class="pl-cce">\n</span><span class="pl-pds">&quot;</span></span>,</span></td>
</tr>



  <tr class="js-expandable-line" data-position="">
    <td class="blob-num blob-num-expandable" colspan="2">
          <a href="#diff-fa813b117ce2d012f47a2f3389844083759d6016b1d7c8c9704c81cd3c034b13"
                class="js-expand directional-expander single-expander" title="Expand Down" aria-label="Expand Down"
                data-url="/MkTej/Applied-Data-Science-Capstone/blob_excerpt/a869612c82bd1f86dbeaf1bb653425112934e3d2?diff=unified&amp;direction=down&amp;in_wiki_context=&amp;last_left=2733&amp;last_right=2709&amp;left=2844&amp;left_hunk_size=&amp;mode=100644&amp;path=Capstone+-+The+Battle+of+Neighborhoods+-+Part+2%2FThe+Battle+of+Neighborhoods+-+Part+2.ipynb&amp;right=2844&amp;right_hunk_size="
                data-left-range="2734-2843" data-right-range="2710-2843">
            <svg class="octicon octicon-fold-down" viewBox="0 0 16 16" version="1.1" width="16" height="16" aria-hidden="true"><path d="M8.177 14.323l2.896-2.896a.25.25 0 00-.177-.427H8.75V7.764a.75.75 0 10-1.5 0V11H5.104a.25.25 0 00-.177.427l2.896 2.896a.25.25 0 00.354 0zM2.25 5a.75.75 0 000-1.5h-.5a.75.75 0 000 1.5h.5zM6 4.25a.75.75 0 01-.75.75h-.5a.75.75 0 010-1.5h.5a.75.75 0 01.75.75zM8.25 5a.75.75 0 000-1.5h-.5a.75.75 0 000 1.5h.5zM12 4.25a.75.75 0 01-.75.75h-.5a.75.75 0 010-1.5h.5a.75.75 0 01.75.75zm2.25.75a.75.75 0 000-1.5h-.5a.75.75 0 000 1.5h.5z"></path></svg>
          </a>
    </td>
    <td class="blob-code blob-code-inner blob-code-hunk"></td>
  </tr>


          </table>
        </div>

  </div>
</div>

  </div>


</div>

<button type="button" class="js-toggle-all-file-notes" data-hotkey="i" style="display:none">Toggle all file notes</button>

<button type="button" class="js-toggle-all-file-annotations" data-hotkey="a" style="display:none">Toggle all file annotations</button>

<svg aria-hidden="true" width="320px" height="84px" viewBox="0 0 340 84" version="1.1"
  xmlns="http://www.w3.org/2000/svg"
  xmlns:xlink="http://www.w3.org/1999/xlink"
  class="diff-placeholder-svg position-absolute bottom-0">
  <defs>
    <clippath id="diff-placeholder">
      <rect x="0" y="0" width="67.0175439" height="11.9298746" rx="2"></rect>
      <rect x="18.9473684" y="47.7194983" width="100.701754" height="11.9298746" rx="2"></rect>
      <rect x="0" y="71.930126" width="37.8947368" height="11.9298746" rx="2"></rect>
      <rect x="127.017544" y="48.0703769" width="53.3333333" height="11.9298746" rx="2"></rect>
      <rect x="187.719298" y="48.0703769" width="72.9824561" height="11.9298746" rx="2"></rect>
      <rect x="76.8421053" y="0" width="140.350877" height="11.9298746" rx="2"></rect>
      <rect x="17.8947368" y="23.8597491" width="140.350877" height="11.9298746" rx="2"></rect>
      <rect x="166.315789" y="23.8597491" width="173.684211" height="11.9298746" rx="2"></rect>
    </clippath>

    <linearGradient id="animated-diff-gradient" x1="0" x2="0" y1="0" y2="1" spreadMethod="reflect">
      <stop offset="0" stop-color="#eee"></stop>
      <stop offset="0.2" stop-color="#eee"></stop>
      <stop offset="0.5" stop-color="#ddd"></stop>
      <stop offset="0.8" stop-color="#eee"></stop>
      <stop offset="1" stop-color="#eee"></stop>
      <animateTransform attributeName="y1" values="0%; 100%; 0" dur="1s" repeatCount="3"></animateTransform>
      <animateTransform attributeName="y2" values="100%; 200%; 0" dur="1s" repeatCount="3"></animateTransform>
    </linearGradient>
  </defs>
</svg>



  <div id="all_commit_comments" class="js-quote-selection-container" data-quote-markdown=".js-comment-body">

    <div class="mb-1 mb-md-3">
      
<div id="partial-visible-comments-header" class="d-flex flex-items-center flex-column-reverse flex-md-row">
  <h4 class="flex-auto text-md-left text-center">
    0 comments
    on commit <code class="commit-sha">4e280d2</code>
  </h4>

  <div class="flex-shrink-0 mb-2 mb-md-0">
    
  </div>
</div>

    </div>

    <div id="comments" class="comment-holder ml-0 pl-0 ml-md-6 pl-md-3">
      


  <!-- Rendered timeline since 2020-01-04 23:20:22 -->
  <div id="partial-timeline-marker"
        class="js-timeline-marker js-socket-channel js-updatable-content"
        data-channel="eyJjIjoicmVwbzoyMjgxNDI0NTQ6Y29tbWl0OjRlMjgwZDIwYmYzMmI3MGY5ZWI4Y2E4MDFmOWJkZThmNDNjNTliMzIiLCJ0IjoxNjE3MTk2MzAyfQ==--e1c9df2c8292f4088ffc7bae089d23d94ef95bf3af3add665e38b7e36cabf790"
        data-url="/MkTej/Applied-Data-Science-Capstone/commit/4e280d20bf32b70f9eb8ca801f9bde8f43c59b32/show_partial?partial=commit%2Ftimeline_marker&amp;since=1578208822"
        data-last-modified="Sun, 05 Jan 2020 07:20:22 GMT">

  </div>

    </div>

    

    
  <div class="timeline-comment-wrapper timeline-new-comment js-comment-container ml-0 pl-0 ml-md-6 pl-md-3 ">
    <div class="d-none d-md-block">
      <span class="timeline-comment-avatar "><a class="d-inline-block" data-hovercard-type="user" data-hovercard-url="/users/ananya87/hovercard" data-octo-click="hovercard-link-click" data-octo-dimensions="link_type:self" href="/ananya87"><img class="avatar avatar-user" src="https://avatars.githubusercontent.com/u/70435676?s=80&amp;v=4" width="40" height="40" alt="@ananya87" /></a></span>
    </div>

    <!-- '"` --><!-- </textarea></xmp> --></option></form><form class="js-new-comment-form js-needs-timeline-marker-header" action="/MkTej/Applied-Data-Science-Capstone/commit_comment/create" accept-charset="UTF-8" method="post"><input type="hidden" name="authenticity_token" value="lItoq65lGjvOsMYUJI1SKgqu7/du5PWDEBAbQmsgMu7n7HK75hgHAQjgNaeEHOQRPJ+l804R9tjo7Cm0F1/OeA==" />
      <input type="text" name="required_field_00d6" hidden="hidden" class="form-control" /><input type="hidden" name="timestamp" value="1617196302979" class="form-control" /><input type="hidden" name="timestamp_secret" value="12d1d7188a64d4c00ec8dfa7062a49ec11390326f0734c94d7ee6d97a29d6a2f" class="form-control" />
      <div class="border-0 border-md timeline-comment">
          <input type='hidden' name='commit_id' value='4e280d20bf32b70f9eb8ca801f9bde8f43c59b32'>
          <input type='hidden' name='path' value=''>
            <tab-container class="js-previewable-comment-form previewable-comment-form write-selected" data-preview-url="/preview?markdown_unsupported=false&amp;repository=228142454&amp;sparkles_supported=false&amp;subject=4e280d20bf32b70f9eb8ca801f9bde8f43c59b32&amp;subject_type=Commit" >
  <input type="hidden" value="1XC206fBo9atdezk0yBoyzVGRgRch0wiE3/5NCFuwTR8b5CotmAPmPojiNGZBiqKD/KU8njYcgD/7UhXizRtJQ==" data-csrf="true" class="js-data-preview-url-csrf" />
  <div
    class="comment-form-head tabnav d-flex flex-justify-between mb-2 p-0 tabnav--responsive flex-column border-bottom-0 mb-0 mb-lg-2 flex-items-stretch border-lg-bottom color-border-primary flex-lg-items-center flex-lg-row"
  >
      <div
        class="tabnav-tabs mx-0 mx-md-2 mt-0 mt-md-2 no-wrap d-flex flex-auto d-md-block"
        role="tablist"
      >
        <button
          type="button"
          class="btn-link tabnav-tab write-tab js-write-tab px-3 px-sm-6 px-md-3 flex-1 flex-md-auto"
          role="tab"
          aria-selected="true"
        >
          Write
        </button>
        <button
          type="button"
          class="btn-link tabnav-tab preview-tab js-preview-tab flex-1 flex-md-auto"
          role="tab"
        >
          Preview
        </button>
      </div>
    <markdown-toolbar
  role="toolbar"
  aria-label="Composition"
  for="new_commit_comment_field"
  class="js-details-container Details toolbar-commenting d-flex no-wrap flex-items-start flex-wrap px-2 pt-2 pt-lg-0 border-md-top border-lg-top-0"
>
  <div class="d-block d-md-none flex-auto">
    <button data-md-button tabindex="-1" type="button" aria-label="Toggle text tools" aria-expanded="false" class="js-details-target btn-link toolbar-item no-underline py-2 mr-1">
      <svg class="octicon octicon-typography" viewBox="0 0 16 16" version="1.1" width="16" height="16" aria-hidden="true"><path fill-rule="evenodd" d="M6.21 8.5L4.574 3.594 2.857 8.5H6.21zm.5 1.5l.829 2.487a.75.75 0 001.423-.474L5.735 2.332a1.216 1.216 0 00-2.302-.018l-3.39 9.688a.75.75 0 001.415.496L2.332 10H6.71zm3.13-4.358C10.53 4.374 11.87 4 13 4c1.5 0 3 .939 3 2.601v5.649a.75.75 0 01-1.448.275C13.995 12.82 13.3 13 12.5 13c-.77 0-1.514-.231-2.078-.709-.577-.488-.922-1.199-.922-2.041 0-.694.265-1.411.887-1.944C11 7.78 11.88 7.5 13 7.5h1.5v-.899c0-.54-.5-1.101-1.5-1.101-.869 0-1.528.282-1.84.858a.75.75 0 11-1.32-.716zM14.5 9H13c-.881 0-1.375.22-1.637.444-.253.217-.363.5-.363.806 0 .408.155.697.39.896.249.21.63.354 1.11.354.732 0 1.26-.209 1.588-.449.35-.257.412-.495.412-.551V9z"></path></svg>
      <svg class="octicon octicon-chevron-up Details-content--shown" viewBox="0 0 16 16" version="1.1" width="16" height="16" aria-hidden="true"><path fill-rule="evenodd" d="M3.22 9.78a.75.75 0 010-1.06l4.25-4.25a.75.75 0 011.06 0l4.25 4.25a.75.75 0 01-1.06 1.06L8 6.06 4.28 9.78a.75.75 0 01-1.06 0z"></path></svg>
      <svg class="octicon octicon-chevron-down Details-content--hidden" viewBox="0 0 16 16" version="1.1" width="16" height="16" aria-hidden="true"><path fill-rule="evenodd" d="M12.78 6.22a.75.75 0 010 1.06l-4.25 4.25a.75.75 0 01-1.06 0L3.22 7.28a.75.75 0 011.06-1.06L8 9.94l3.72-3.72a.75.75 0 011.06 0z"></path></svg>
    </button>
  </div>

  

  <div class="flex-nowrap d-none d-md-inline-block mr-3">
    <md-header tabindex="-1" class="toolbar-item tooltipped tooltipped-sw mx-1" aria-label="Add header text" data-ga-click="Markdown Toolbar, click, header">
      <svg class="octicon octicon-heading" height="16" viewBox="0 0 16 16" version="1.1" width="16" aria-hidden="true"><path fill-rule="evenodd" d="M3.75 2a.75.75 0 01.75.75V7h7V2.75a.75.75 0 011.5 0v10.5a.75.75 0 01-1.5 0V8.5h-7v4.75a.75.75 0 01-1.5 0V2.75A.75.75 0 013.75 2z"></path></svg>
    </md-header>

    <md-bold tabindex="-1" class="toolbar-item tooltipped tooltipped-sw mx-1 js-modifier-label-key" aria-label="Add bold text <ctrl+b>" data-ga-click="Markdown Toolbar, click, bold">
      <svg class="octicon octicon-bold" height="16" viewBox="0 0 16 16" version="1.1" width="16" aria-hidden="true"><path fill-rule="evenodd" d="M4 2a1 1 0 00-1 1v10a1 1 0 001 1h5.5a3.5 3.5 0 001.852-6.47A3.5 3.5 0 008.5 2H4zm4.5 5a1.5 1.5 0 100-3H5v3h3.5zM5 9v3h4.5a1.5 1.5 0 000-3H5z"></path></svg>
    </md-bold>

    <md-italic tabindex="-1" class="toolbar-item tooltipped tooltipped-sw mx-1 js-modifier-label-key" aria-label="Add italic text <ctrl+i>" data-ga-click="Markdown Toolbar, click, italic">
      <svg class="octicon octicon-italic" height="16" viewBox="0 0 16 16" version="1.1" width="16" aria-hidden="true"><path fill-rule="evenodd" d="M6 2.75A.75.75 0 016.75 2h6.5a.75.75 0 010 1.5h-2.505l-3.858 9H9.25a.75.75 0 010 1.5h-6.5a.75.75 0 010-1.5h2.505l3.858-9H6.75A.75.75 0 016 2.75z"></path></svg>
    </md-italic>
  </div>

  <div class="d-flex d-md-inline-block mr-0 mr-md-3">
    <md-quote tabindex="-1" class="toolbar-item tooltipped tooltipped-sw p-2 p-md-1 mx-1" aria-label="Insert a quote" data-ga-click="Markdown Toolbar, click, quote">
      <svg class="octicon octicon-quote" height="16" viewBox="0 0 16 16" version="1.1" width="16" aria-hidden="true"><path fill-rule="evenodd" d="M1.75 2.5a.75.75 0 000 1.5h10.5a.75.75 0 000-1.5H1.75zm4 5a.75.75 0 000 1.5h8.5a.75.75 0 000-1.5h-8.5zm0 5a.75.75 0 000 1.5h8.5a.75.75 0 000-1.5h-8.5zM2.5 7.75a.75.75 0 00-1.5 0v6a.75.75 0 001.5 0v-6z"></path></svg>
    </md-quote>

    <md-code tabindex="-1" class="toolbar-item tooltipped tooltipped-sw js-modifier-label-key p-2 p-md-1 mx-1" aria-label="Insert code <ctrl+e>" data-ga-click="Markdown Toolbar, click, code">
      <svg class="octicon octicon-code" height="16" viewBox="0 0 16 16" version="1.1" width="16" aria-hidden="true"><path fill-rule="evenodd" d="M4.72 3.22a.75.75 0 011.06 1.06L2.06 8l3.72 3.72a.75.75 0 11-1.06 1.06L.47 8.53a.75.75 0 010-1.06l4.25-4.25zm6.56 0a.75.75 0 10-1.06 1.06L13.94 8l-3.72 3.72a.75.75 0 101.06 1.06l4.25-4.25a.75.75 0 000-1.06l-4.25-4.25z"></path></svg>
    </md-code>

    <button type="button" data-md-button tabindex="-1" class="toolbar-item text-center menu-target p-2 mx-1 d-md-none js-markdown-link-button" aria-label="Add a link" data-ga-click="Markdown Toolbar, click, saved reply">
      <svg class="octicon octicon-link" height="16" viewBox="0 0 16 16" version="1.1" width="16" aria-hidden="true"><path fill-rule="evenodd" d="M7.775 3.275a.75.75 0 001.06 1.06l1.25-1.25a2 2 0 112.83 2.83l-2.5 2.5a2 2 0 01-2.83 0 .75.75 0 00-1.06 1.06 3.5 3.5 0 004.95 0l2.5-2.5a3.5 3.5 0 00-4.95-4.95l-1.25 1.25zm-4.69 9.64a2 2 0 010-2.83l2.5-2.5a2 2 0 012.83 0 .75.75 0 001.06-1.06 3.5 3.5 0 00-4.95 0l-2.5 2.5a3.5 3.5 0 004.95 4.95l1.25-1.25a.75.75 0 00-1.06-1.06l-1.25 1.25a2 2 0 01-2.83 0z"></path></svg>
    </button>

    <template class="js-markdown-link-dialog">
      <div class="Box-header">
        <h3 class="Box-title">Insert Link</h3>
      </div>
      <div class="Box-body overflow-auto">
        <div>
          <label class="d-block mb-1" for="js-dialog-link-text">Link Text</label>
          <input type="text" class="mb-3 form-control input-block" id="js-dialog-link-text" autofocus>
        </div>
        <div>
          <label class="d-block mb-1" for="js-dialog-link-href">URL</label>
          <input type="url" class="mb-3 form-control input-block" id="js-dialog-link-href">
        </div>
        <div class="pt-3 border-top">
          <button
            type="button"
            class="btn btn-primary btn-block js-markdown-link-insert"
            data-close-dialog
            data-for-textarea="new_commit_comment_field"
          >
            Add
          </button>
        </div>
      </div>
    </template>

    <md-link tabindex="-1" class="toolbar-item tooltipped tooltipped-sw p-2 p-md-1 d-none d-md-block mx-1 js-modifier-label-key" aria-label="Add a link <ctrl+k>" data-ga-click="Markdown Toolbar, click, link">
      <svg class="octicon octicon-link" height="16" viewBox="0 0 16 16" version="1.1" width="16" aria-hidden="true"><path fill-rule="evenodd" d="M7.775 3.275a.75.75 0 001.06 1.06l1.25-1.25a2 2 0 112.83 2.83l-2.5 2.5a2 2 0 01-2.83 0 .75.75 0 00-1.06 1.06 3.5 3.5 0 004.95 0l2.5-2.5a3.5 3.5 0 00-4.95-4.95l-1.25 1.25zm-4.69 9.64a2 2 0 010-2.83l2.5-2.5a2 2 0 012.83 0 .75.75 0 001.06-1.06 3.5 3.5 0 00-4.95 0l-2.5 2.5a3.5 3.5 0 004.95 4.95l1.25-1.25a.75.75 0 00-1.06-1.06l-1.25 1.25a2 2 0 01-2.83 0z"></path></svg>
    </md-link>
  </div>

  <div class="d-none d-md-inline-block mr-3">
    <md-unordered-list tabindex="-1" class="toolbar-item tooltipped tooltipped-sw mx-1" aria-label="Add a bulleted list" data-ga-click="Markdown Toolbar, click, unordered list">
      <svg class="octicon octicon-list-unordered" height="16" viewBox="0 0 16 16" version="1.1" width="16" aria-hidden="true"><path fill-rule="evenodd" d="M2 4a1 1 0 100-2 1 1 0 000 2zm3.75-1.5a.75.75 0 000 1.5h8.5a.75.75 0 000-1.5h-8.5zm0 5a.75.75 0 000 1.5h8.5a.75.75 0 000-1.5h-8.5zm0 5a.75.75 0 000 1.5h8.5a.75.75 0 000-1.5h-8.5zM3 8a1 1 0 11-2 0 1 1 0 012 0zm-1 6a1 1 0 100-2 1 1 0 000 2z"></path></svg>
    </md-unordered-list>

    <md-ordered-list tabindex="-1" class="toolbar-item tooltipped tooltipped-sw mx-1" aria-label="Add a numbered list" data-ga-click="Markdown Toolbar, click, ordered list">
      <svg class="octicon octicon-list-ordered" height="16" viewBox="0 0 16 16" version="1.1" width="16" aria-hidden="true"><path fill-rule="evenodd" d="M2.003 2.5a.5.5 0 00-.723-.447l-1.003.5a.5.5 0 00.446.895l.28-.14V6H.5a.5.5 0 000 1h2.006a.5.5 0 100-1h-.503V2.5zM5 3.25a.75.75 0 01.75-.75h8.5a.75.75 0 010 1.5h-8.5A.75.75 0 015 3.25zm0 5a.75.75 0 01.75-.75h8.5a.75.75 0 010 1.5h-8.5A.75.75 0 015 8.25zm0 5a.75.75 0 01.75-.75h8.5a.75.75 0 010 1.5h-8.5a.75.75 0 01-.75-.75zM.924 10.32l.003-.004a.851.851 0 01.144-.153A.66.66 0 011.5 10c.195 0 .306.068.374.146a.57.57 0 01.128.376c0 .453-.269.682-.8 1.078l-.035.025C.692 11.98 0 12.495 0 13.5a.5.5 0 00.5.5h2.003a.5.5 0 000-1H1.146c.132-.197.351-.372.654-.597l.047-.035c.47-.35 1.156-.858 1.156-1.845 0-.365-.118-.744-.377-1.038-.268-.303-.658-.484-1.126-.484-.48 0-.84.202-1.068.392a1.858 1.858 0 00-.348.384l-.007.011-.002.004-.001.002-.001.001a.5.5 0 00.851.525zM.5 10.055l-.427-.26.427.26z"></path></svg>
    </md-ordered-list>

    <md-task-list tabindex="-1" class="toolbar-item tooltipped tooltipped-sw mx-1" aria-label="Add a task list" data-ga-click="Markdown Toolbar, click, task list">
      <svg class="octicon octicon-tasklist" height="16" viewBox="0 0 16 16" version="1.1" width="16" aria-hidden="true"><path fill-rule="evenodd" d="M2.5 2.75a.25.25 0 01.25-.25h10.5a.25.25 0 01.25.25v10.5a.25.25 0 01-.25.25H2.75a.25.25 0 01-.25-.25V2.75zM2.75 1A1.75 1.75 0 001 2.75v10.5c0 .966.784 1.75 1.75 1.75h10.5A1.75 1.75 0 0015 13.25V2.75A1.75 1.75 0 0013.25 1H2.75zm9.03 5.28a.75.75 0 00-1.06-1.06L6.75 9.19 5.28 7.72a.75.75 0 00-1.06 1.06l2 2a.75.75 0 001.06 0l4.5-4.5z"></path></svg>
    </md-task-list>
  </div>

      <div  class="d-flex d-xs-inline-block">
      <md-mention tabindex="-1" class="flex-auto text-center toolbar-item tooltipped tooltipped-sw p-2 p-md-1 mx-1" aria-label="Directly mention a user or team" data-ga-click="Markdown Toolbar, click, mention">
        <svg class="octicon octicon-mention" height="16" viewBox="0 0 16 16" version="1.1" width="16" aria-hidden="true"><path fill-rule="evenodd" d="M4.75 2.37a6.5 6.5 0 006.5 11.26.75.75 0 01.75 1.298 8 8 0 113.994-7.273.754.754 0 01.006.095v1.5a2.75 2.75 0 01-5.072 1.475A4 4 0 1112 8v1.25a1.25 1.25 0 002.5 0V7.867a6.5 6.5 0 00-9.75-5.496V2.37zM10.5 8a2.5 2.5 0 10-5 0 2.5 2.5 0 005 0z"></path></svg>
      </md-mention>

      <label for="fc-new_commit_comment_field" data-md-button tabindex="-1"  class="d-block d-md-none btn-link flex-auto text-center toolbar-item tooltipped tooltipped-sw p-2 mx-1" aria-label="Attach an image or video">
        <svg class="octicon octicon-image" viewBox="0 0 16 16" version="1.1" width="16" height="16" aria-hidden="true"><path fill-rule="evenodd" d="M1.75 2.5a.25.25 0 00-.25.25v10.5c0 .138.112.25.25.25h.94a.76.76 0 01.03-.03l6.077-6.078a1.75 1.75 0 012.412-.06L14.5 10.31V2.75a.25.25 0 00-.25-.25H1.75zm12.5 11H4.81l5.048-5.047a.25.25 0 01.344-.009l4.298 3.889v.917a.25.25 0 01-.25.25zm1.75-.25V2.75A1.75 1.75 0 0014.25 1H1.75A1.75 1.75 0 000 2.75v10.5C0 14.216.784 15 1.75 15h12.5A1.75 1.75 0 0016 13.25zM5.5 6a.5.5 0 11-1 0 .5.5 0 011 0zM7 6a2 2 0 11-4 0 2 2 0 014 0z"></path></svg>
      </label>

      <md-ref tabindex="-1" class="flex-auto text-center toolbar-item tooltipped tooltipped-sw p-2 p-md-1 mx-1" aria-label="Reference an issue, pull request, or discussion" data-ga-click="Markdown Toolbar, click, reference">
        <svg class="octicon octicon-cross-reference" height="16" viewBox="0 0 16 16" version="1.1" width="16" aria-hidden="true"><path fill-rule="evenodd" d="M16 1.25v4.146a.25.25 0 01-.427.177L14.03 4.03l-3.75 3.75a.75.75 0 11-1.06-1.06l3.75-3.75-1.543-1.543A.25.25 0 0111.604 1h4.146a.25.25 0 01.25.25zM2.75 3.5a.25.25 0 00-.25.25v7.5c0 .138.112.25.25.25h2a.75.75 0 01.75.75v2.19l2.72-2.72a.75.75 0 01.53-.22h4.5a.25.25 0 00.25-.25v-2.5a.75.75 0 111.5 0v2.5A1.75 1.75 0 0113.25 13H9.06l-2.573 2.573A1.457 1.457 0 014 14.543V13H2.75A1.75 1.75 0 011 11.25v-7.5C1 2.784 1.784 2 2.75 2h5.5a.75.75 0 010 1.5h-5.5z"></path></svg>
      </md-ref>

        <details class="details-reset details-overlay flex-auto toolbar-item select-menu select-menu-modal-right js-saved-reply-container hx_rsm" tabindex="-1">
  <summary data-md-button tabindex="-1" class="text-center menu-target py-2 p-md-1 hx_rsm-trigger ml-1" aria-label="Insert a reply" data-ga-click="Markdown Toolbar, click, saved reply">
    <svg class="octicon octicon-reply" height="16" viewBox="0 0 16 16" version="1.1" width="16" aria-hidden="true"><path fill-rule="evenodd" d="M6.78 1.97a.75.75 0 010 1.06L3.81 6h6.44A4.75 4.75 0 0115 10.75v2.5a.75.75 0 01-1.5 0v-2.5a3.25 3.25 0 00-3.25-3.25H3.81l2.97 2.97a.75.75 0 11-1.06 1.06L1.47 7.28a.75.75 0 010-1.06l4.25-4.25a.75.75 0 011.06 0z"></path></svg>
    <span class="dropdown-caret hide-sm"></span>
  </summary>

  <details-menu
    style="z-index: 99;"
    class="select-menu-modal position-absolute right-0 js-saved-reply-menu hx_rsm-modal"
    data-menu-input="new_commit_comment_field_saved_reply_id"
    src="/settings/replies?context=none" preload>
    <div class="select-menu-header d-flex">
      <span class="select-menu-title flex-auto">Select a reply</span>
      <code><span class="border rounded p-1 mr-2">ctrl .</span></code>
    </div>

    <include-fragment role="menuitem" aria-label="Loading">
      <svg style="box-sizing: content-box; color: var(--color-icon-primary);" viewBox="0 0 16 16" fill="none" width="32" height="32" class="my-6 mx-auto d-block anim-rotate">
  <circle cx="8" cy="8" r="7" stroke="currentColor" stroke-opacity="0.25" stroke-width="2" vector-effect="non-scaling-stroke" />
  <path d="M15 8a7.002 7.002 0 00-7-7" stroke="currentColor" stroke-width="2" stroke-linecap="round" vector-effect="non-scaling-stroke" />
</svg>
    </include-fragment>

  </details-menu>
</details>

    </div>


  <div class="Details-content--hidden d-block d-md-none width-full">
    <md-header tabindex="-1" class="toolbar-item tooltipped tooltipped-sw py-2 pr-2 pl-1 mr-1" aria-label="Add header text" data-ga-click="Markdown Toolbar, click, header">
      <svg class="octicon octicon-heading" height="16" viewBox="0 0 16 16" version="1.1" width="16" aria-hidden="true"><path fill-rule="evenodd" d="M3.75 2a.75.75 0 01.75.75V7h7V2.75a.75.75 0 011.5 0v10.5a.75.75 0 01-1.5 0V8.5h-7v4.75a.75.75 0 01-1.5 0V2.75A.75.75 0 013.75 2z"></path></svg>
    </md-header>

    <md-bold tabindex="-1" class="toolbar-item tooltipped tooltipped-sw p-2 mx-1 js-modifier-label-key" aria-label="Add bold text <ctrl+b>" data-ga-click="Markdown Toolbar, click, bold">
      <svg class="octicon octicon-bold" height="16" viewBox="0 0 16 16" version="1.1" width="16" aria-hidden="true"><path fill-rule="evenodd" d="M4 2a1 1 0 00-1 1v10a1 1 0 001 1h5.5a3.5 3.5 0 001.852-6.47A3.5 3.5 0 008.5 2H4zm4.5 5a1.5 1.5 0 100-3H5v3h3.5zM5 9v3h4.5a1.5 1.5 0 000-3H5z"></path></svg>
    </md-bold>

    <md-italic tabindex="-1" class="toolbar-item tooltipped tooltipped-sw p-2 mx-1 js-modifier-label-key" aria-label="Add italic text <ctrl+i>" data-ga-click="Markdown Toolbar, click, italic">
      <svg class="octicon octicon-italic" height="16" viewBox="0 0 16 16" version="1.1" width="16" aria-hidden="true"><path fill-rule="evenodd" d="M6 2.75A.75.75 0 016.75 2h6.5a.75.75 0 010 1.5h-2.505l-3.858 9H9.25a.75.75 0 010 1.5h-6.5a.75.75 0 010-1.5h2.505l3.858-9H6.75A.75.75 0 016 2.75z"></path></svg>
    </md-italic>

    <md-unordered-list tabindex="-1" class="toolbar-item tooltipped tooltipped-sw p-2 mx-1" aria-label="Add a bulleted list" data-ga-click="Markdown Toolbar, click, unordered list">
      <svg class="octicon octicon-list-unordered" height="16" viewBox="0 0 16 16" version="1.1" width="16" aria-hidden="true"><path fill-rule="evenodd" d="M2 4a1 1 0 100-2 1 1 0 000 2zm3.75-1.5a.75.75 0 000 1.5h8.5a.75.75 0 000-1.5h-8.5zm0 5a.75.75 0 000 1.5h8.5a.75.75 0 000-1.5h-8.5zm0 5a.75.75 0 000 1.5h8.5a.75.75 0 000-1.5h-8.5zM3 8a1 1 0 11-2 0 1 1 0 012 0zm-1 6a1 1 0 100-2 1 1 0 000 2z"></path></svg>
    </md-unordered-list>

    <md-ordered-list tabindex="-1" class="toolbar-item tooltipped tooltipped-sw p-2 mx-1" aria-label="Add a numbered list" data-ga-click="Markdown Toolbar, click, ordered list">
      <svg class="octicon octicon-list-ordered" height="16" viewBox="0 0 16 16" version="1.1" width="16" aria-hidden="true"><path fill-rule="evenodd" d="M2.003 2.5a.5.5 0 00-.723-.447l-1.003.5a.5.5 0 00.446.895l.28-.14V6H.5a.5.5 0 000 1h2.006a.5.5 0 100-1h-.503V2.5zM5 3.25a.75.75 0 01.75-.75h8.5a.75.75 0 010 1.5h-8.5A.75.75 0 015 3.25zm0 5a.75.75 0 01.75-.75h8.5a.75.75 0 010 1.5h-8.5A.75.75 0 015 8.25zm0 5a.75.75 0 01.75-.75h8.5a.75.75 0 010 1.5h-8.5a.75.75 0 01-.75-.75zM.924 10.32l.003-.004a.851.851 0 01.144-.153A.66.66 0 011.5 10c.195 0 .306.068.374.146a.57.57 0 01.128.376c0 .453-.269.682-.8 1.078l-.035.025C.692 11.98 0 12.495 0 13.5a.5.5 0 00.5.5h2.003a.5.5 0 000-1H1.146c.132-.197.351-.372.654-.597l.047-.035c.47-.35 1.156-.858 1.156-1.845 0-.365-.118-.744-.377-1.038-.268-.303-.658-.484-1.126-.484-.48 0-.84.202-1.068.392a1.858 1.858 0 00-.348.384l-.007.011-.002.004-.001.002-.001.001a.5.5 0 00.851.525zM.5 10.055l-.427-.26.427.26z"></path></svg>
    </md-ordered-list>

    <md-task-list tabindex="-1" class="toolbar-item tooltipped tooltipped-sw p-2 mx-1" aria-label="Add a task list" data-ga-click="Markdown Toolbar, click, task list">
      <svg class="octicon octicon-tasklist" height="16" viewBox="0 0 16 16" version="1.1" width="16" aria-hidden="true"><path fill-rule="evenodd" d="M2.5 2.75a.25.25 0 01.25-.25h10.5a.25.25 0 01.25.25v10.5a.25.25 0 01-.25.25H2.75a.25.25 0 01-.25-.25V2.75zM2.75 1A1.75 1.75 0 001 2.75v10.5c0 .966.784 1.75 1.75 1.75h10.5A1.75 1.75 0 0015 13.25V2.75A1.75 1.75 0 0013.25 1H2.75zm9.03 5.28a.75.75 0 00-1.06-1.06L6.75 9.19 5.28 7.72a.75.75 0 00-1.06 1.06l2 2a.75.75 0 001.06 0l4.5-4.5z"></path></svg>
    </md-task-list>
  </div>
</markdown-toolbar>

  </div>

  <div class="comment-form-error js-comment-form-error" role="alert" hidden>
    There was an error creating your Commit.
  </div>


  <file-attachment class="js-upload-markdown-image is-default" input="fc-new_commit_comment_field" role="tabpanel" data-tab-container-no-tabstop="true" data-upload-repository-id="228142454" data-upload-policy-url="/upload/policies/assets"><input type="hidden" value="LxcKojpyFo8P5DngqgcV1G3erSBX0K90zbxu1TS5cWYTfuztM6b8kbfnzpbfCodMofPPOGES8HHx6tOlfwYeAg==" data-csrf="true" class="js-data-upload-policy-url-csrf" />
    <div class="write-content js-write-bucket tooltipped tooltipped-ne tooltipped-no-delay tooltipped-align-left-1 hide-reaction-suggestion upload-enabled mx-0 mt-2 mb-2 mx-md-2 hx_sm-hide-drag-drop js-reaction-suggestion" data-reaction-markup="Would you like to leave a reaction instead?">
        <input
          type="hidden"
          name="saved_reply_id"
          id="new_commit_comment_field_saved_reply_id"
          class="js-resettable-field"
          value=""
          data-reset-value=""
        >

      <text-expander
        keys=": @ #"
          data-issue-url="/suggestions/commit/4e280d20bf32b70f9eb8ca801f9bde8f43c59b32?issue_suggester=1&amp;repository=Applied-Data-Science-Capstone&amp;user_id=MkTej"
          data-mention-url="/suggestions/commit/4e280d20bf32b70f9eb8ca801f9bde8f43c59b32?mention_suggester=1&amp;repository=Applied-Data-Science-Capstone&amp;user_id=MkTej"
          multiword="#"
        data-emoji-url="/autocomplete/emoji"
      >
          
          <textarea name="comment[body]"
                    id="new_commit_comment_field"
                    
                    placeholder="Leave a comment"
                      aria-label="Comment body"
                    data-required-trimmed="Text field is empty"
                    class="form-control input-contrast comment-form-textarea js-comment-field js-paste-markdown js-task-list-field js-quick-submit js-size-to-fit js-session-resumable js-saved-reply-shortcut-comment-field"
                    required></textarea>

      </text-expander>
        
  <label class="text-normal drag-and-drop hx_drag-and-drop position-relative d-flex flex-justify-between">
    <input accept=".gif,.jpeg,.jpg,.mov,.mp4,.png,.docx,.gz,.log,.pdf,.pptx,.txt,.xlsx,.zip" type="file"
      multiple
      class="manual-file-chooser manual-file-chooser-transparent top-0 right-0 bottom-0 left-0 width-full ml-0 form-control"
        id="fc-new_commit_comment_field"
      >
    <span class="color-bg-secondary position-absolute top-0 left-0 width-full height-full rounded-1" style="pointer-events: none;"></span>
    <span class="position-relative pr-2" style="pointer-events: none;">
      <span class="default">
        
        Attach files by dragging &amp; dropping, selecting or pasting them.
      </span>
      <span class="loading">
        <svg style="box-sizing: content-box; color: var(--color-icon-primary);" viewBox="0 0 16 16" fill="none" width="16" height="16" class="v-align-text-bottom mr-1 anim-rotate">
  <circle cx="8" cy="8" r="7" stroke="currentColor" stroke-opacity="0.25" stroke-width="2" vector-effect="non-scaling-stroke" />
  <path d="M15 8a7.002 7.002 0 00-7-7" stroke="currentColor" stroke-width="2" stroke-linecap="round" vector-effect="non-scaling-stroke" />
</svg> Uploading your files…
      </span>
      <span class="error bad-file">
        We don’t support that file type.
        <span class="drag-and-drop-error-info">
          <span class="btn-link">Try again</span> with a
          GIF, JPEG, JPG, MOV, MP4, PNG, DOCX, GZ, LOG, PDF, PPTX, TXT, XLSX or ZIP.
        </span>
      </span>
      <span class="error bad-permissions">
        Attaching documents requires write permission to this repository.
        <span class="drag-and-drop-error-info">
          <span class="btn-link">Try again</span> with a GIF, JPEG, JPG, MOV, MP4, PNG, DOCX, GZ, LOG, PDF, PPTX, TXT, XLSX or ZIP.
        </span>
      </span>
      <span class="error repository-required">
        We don’t support that file type.
        <span class="drag-and-drop-error-info">
          <span class="btn-link">Try again</span> with a GIF, JPEG, JPG, MOV, MP4, PNG, DOCX, GZ, LOG, PDF, PPTX, TXT, XLSX or ZIP.
        </span>
      </span>
      <span class="error too-big">
        Yowza, that’s a big file.
        <span class="drag-and-drop-error-info">
          <span class="btn-link">Try again</span> with a file smaller than 10MB.
        </span>
      </span>
      <span class="error empty">
        This file is empty.
        <span class="drag-and-drop-error-info">
          <span class="btn-link">Try again</span> with a file that’s not empty.
        </span>
      </span>
      <span class="error hidden-file">
        This file is hidden.
        <span class="drag-and-drop-error-info">
          <span class="btn-link">Try again</span> with another file.
        </span>
      </span>
      <span class="error failed-request">
        Something went really wrong, and we can’t process that file.
        <span class="drag-and-drop-error-info">
          <span class="btn-link">Try again.</span>
        </span>
      </span>
    </span>
    <span class="tooltipped tooltipped-nw" aria-label="Styling with Markdown is supported">
      <a
        class="Link--muted position-relative d-inline"
        href="https://guides.github.com/features/mastering-markdown/"
        target="_blank"
        data-ga-click="Markdown Toolbar, click, help"
        aria-label="Learn about styling with Markdown"
        
      >
        <svg class="octicon octicon-markdown v-align-bottom" viewBox="0 0 16 16" version="1.1" width="16" height="16" aria-hidden="true"><path fill-rule="evenodd" d="M14.85 3H1.15C.52 3 0 3.52 0 4.15v7.69C0 12.48.52 13 1.15 13h13.69c.64 0 1.15-.52 1.15-1.15v-7.7C16 3.52 15.48 3 14.85 3zM9 11H7V8L5.5 9.92 4 8v3H2V5h2l1.5 2L7 5h2v6zm2.99.5L9.5 8H11V5h2v3h1.5l-2.51 3.5z"></path></svg>
      </a>
    </span>
  </label>

      <span hidden class="js-sparkles-remaining-container"></span>
    </div>
</file-attachment>
  <div
    role="tabpanel"
    class="js-preview-panel overflow-auto border-bottom mx-0 my-3 mx-md-2 mb-md-2"
    hidden
  >
    <input type="hidden" name="path" value="" class="js-path">
    <input type="hidden" name="line" value="" class="js-line-number">
    <input type="hidden" name="start_line" value="" class="js-start-line-number">
    <input type="hidden" name="preview_side" value="" class="js-side">
    <input type="hidden" name="preview_start_side" value="" class="js-start-side">
    <input type="hidden" name="start_commit_oid" value="" class="js-start-commit-oid">
    <input type="hidden" name="end_commit_oid" value="" class="js-end-commit-oid">
    <input type="hidden" name="base_commit_oid" value="" class="js-base-commit-oid">
    <input type="hidden" name="comment_id" value="" class="js-comment-id">
    <div class="comment js-suggested-changes-container" data-thread-side="">
  <div class="comment-body markdown-body js-preview-body" >
    <p>Nothing to preview</p>
  </div>
</div>

  </div>


  <div class="comment-form-error mb-2 js-comment-update-error" hidden></div>
</tab-container>


            <div class="form-actions pr-0 pr-md-2">
              <button type="submit" class="btn btn-primary" data-disable-invalid data-disable-with>Comment on this commit</button>
            </div>
      </div>
</form>
  </div>

  </div>

    <div
  class="thread-subscription-status js-socket-channel js-updatable-content"
  data-replace-remote-form-target
  data-channel="eyJjIjoibGlzdC1zdWJzY3JpcHRpb246cmVwb3NpdG9yeToyMjgxNDI0NTQ6NzA0MzU2NzYiLCJ0IjoxNjE3MTk2MzAyfQ==--030a6ea43ac088950ad24c2075311926ae7d88114437325ec794ce809bc89bc6 eyJjIjoidGhyZWFkLXN1YnNjcmlwdGlvbjo0ZTI4MGQyMGJmMzJiNzBmOWViOGNhODAxZjliZGU4ZjQzYzU5YjMyOjcwNDM1Njc2IiwidCI6MTYxNzE5NjMwMn0=--d22dd2b8fc3fb6cd36b39bcb50cf43ea489b59d2b4f644b370952c09530413ad"
  data-url="/notifications/thread_subscription?repository_id=228142454&amp;thread_class=Commit&amp;thread_id=4e280d20bf32b70f9eb8ca801f9bde8f43c59b32"
>
    <form data-replace-remote-form="true" class="thread-subscribe-form" action="/notifications/thread" accept-charset="UTF-8" method="post"><input type="hidden" name="authenticity_token" value="mQ7qrmmdbCecJmMpybXN+txpimiE0t3LKSPhPR+QL8r4okFpMI7apMt8Z0pXRLiqmFbXH7L2D9aIUQF3avPTqQ==" />      <input type="hidden" name="repository_id" value="228142454">
      <input type="hidden" name="thread_id" value="4e280d20bf32b70f9eb8ca801f9bde8f43c59b32">
      <input type="hidden" name="thread_class" value="Commit">
      <input type="hidden" name="id" value="subscribe">
      <button
        type="submit"
        class="btn btn-block btn-sm thread-subscribe-button"
        data-disable-with
      >
          <svg class="octicon octicon-bell" height="16" viewBox="0 0 16 16" version="1.1" width="16" aria-hidden="true"><path d="M8 16a2 2 0 001.985-1.75c.017-.137-.097-.25-.235-.25h-3.5c-.138 0-.252.113-.235.25A2 2 0 008 16z"></path><path fill-rule="evenodd" d="M8 1.5A3.5 3.5 0 004.5 5v2.947c0 .346-.102.683-.294.97l-1.703 2.556a.018.018 0 00-.003.01l.001.006c0 .002.002.004.004.006a.017.017 0 00.006.004l.007.001h10.964l.007-.001a.016.016 0 00.006-.004.016.016 0 00.004-.006l.001-.007a.017.017 0 00-.003-.01l-1.703-2.554a1.75 1.75 0 01-.294-.97V5A3.5 3.5 0 008 1.5zM3 5a5 5 0 0110 0v2.947c0 .05.015.098.042.139l1.703 2.555A1.518 1.518 0 0113.482 13H2.518a1.518 1.518 0 01-1.263-2.36l1.703-2.554A.25.25 0 003 7.947V5z"></path></svg> Subscribe
      </button>
</form>    <p class="reason text-small color-text-secondary">You’re not receiving notifications from this thread.</p>
</div>



  </div>
</div>

    </main>
  </div>

  </div>

          
<div class="footer container-xl width-full p-responsive" role="contentinfo">
  <div class="position-relative d-flex flex-row-reverse flex-lg-row flex-wrap flex-lg-nowrap flex-justify-center flex-lg-justify-between pt-6 pb-2 mt-6 f6 color-text-secondary border-top color-border-secondary ">
    <ul class="list-style-none d-flex flex-wrap col-12 col-lg-5 flex-justify-center flex-lg-justify-between mb-2 mb-lg-0">
      <li class="mr-3 mr-lg-0">&copy; 2021 GitHub, Inc.</li>
        <li class="mr-3 mr-lg-0"><a href="https://docs.github.com/en/github/site-policy/github-terms-of-service" data-ga-click="Footer, go to terms, text:terms">Terms</a></li>
        <li class="mr-3 mr-lg-0"><a href="https://docs.github.com/en/github/site-policy/github-privacy-statement" data-ga-click="Footer, go to privacy, text:privacy">Privacy</a></li>
        <li class="mr-3 mr-lg-0"><a data-ga-click="Footer, go to security, text:security" href="https://github.com/security">Security</a></li>
        <li class="mr-3 mr-lg-0"><a href="https://www.githubstatus.com/" data-ga-click="Footer, go to status, text:status">Status</a></li>
        <li><a data-ga-click="Footer, go to help, text:Docs" href="https://docs.github.com">Docs</a></li>
    </ul>

    <a aria-label="Homepage" title="GitHub" class="footer-octicon d-none d-lg-block mx-lg-4" href="https://github.com">
      <svg height="24" class="octicon octicon-mark-github" viewBox="0 0 16 16" version="1.1" width="24" aria-hidden="true"><path fill-rule="evenodd" d="M8 0C3.58 0 0 3.58 0 8c0 3.54 2.29 6.53 5.47 7.59.4.07.55-.17.55-.38 0-.19-.01-.82-.01-1.49-2.01.37-2.53-.49-2.69-.94-.09-.23-.48-.94-.82-1.13-.28-.15-.68-.52-.01-.53.63-.01 1.08.58 1.23.82.72 1.21 1.87.87 2.33.66.07-.52.28-.87.51-1.07-1.78-.2-3.64-.89-3.64-3.95 0-.87.31-1.59.82-2.15-.08-.2-.36-1.02.08-2.12 0 0 .67-.21 2.2.82.64-.18 1.32-.27 2-.27.68 0 1.36.09 2 .27 1.53-1.04 2.2-.82 2.2-.82.44 1.1.16 1.92.08 2.12.51.56.82 1.27.82 2.15 0 3.07-1.87 3.75-3.65 3.95.29.25.54.73.54 1.48 0 1.07-.01 1.93-.01 2.2 0 .21.15.46.55.38A8.013 8.013 0 0016 8c0-4.42-3.58-8-8-8z"></path></svg>
</a>
    <ul class="list-style-none d-flex flex-wrap col-12 col-lg-5 flex-justify-center flex-lg-justify-between mb-2 mb-lg-0">
        <li class="mr-3 mr-lg-0"><a href="https://support.github.com" data-ga-click="Footer, go to contact, text:contact">Contact GitHub</a></li>
        <li class="mr-3 mr-lg-0"><a href="https://github.com/pricing" data-ga-click="Footer, go to Pricing, text:Pricing">Pricing</a></li>
      <li class="mr-3 mr-lg-0"><a href="https://docs.github.com" data-ga-click="Footer, go to api, text:api">API</a></li>
      <li class="mr-3 mr-lg-0"><a href="https://services.github.com" data-ga-click="Footer, go to training, text:training">Training</a></li>
        <li class="mr-3 mr-lg-0"><a href="https://github.blog" data-ga-click="Footer, go to blog, text:blog">Blog</a></li>
        <li><a data-ga-click="Footer, go to about, text:about" href="https://github.com/about">About</a></li>
    </ul>
  </div>
  <div class="d-flex flex-justify-center pb-6">
    <span class="f6 color-text-tertiary"></span>
  </div>

  
</div>



  <div id="ajax-error-message" class="ajax-error-message flash flash-error" hidden>
    <svg class="octicon octicon-alert" viewBox="0 0 16 16" version="1.1" width="16" height="16" aria-hidden="true"><path fill-rule="evenodd" d="M8.22 1.754a.25.25 0 00-.44 0L1.698 13.132a.25.25 0 00.22.368h12.164a.25.25 0 00.22-.368L8.22 1.754zm-1.763-.707c.659-1.234 2.427-1.234 3.086 0l6.082 11.378A1.75 1.75 0 0114.082 15H1.918a1.75 1.75 0 01-1.543-2.575L6.457 1.047zM9 11a1 1 0 11-2 0 1 1 0 012 0zm-.25-5.25a.75.75 0 00-1.5 0v2.5a.75.75 0 001.5 0v-2.5z"></path></svg>
    <button type="button" class="flash-close js-ajax-error-dismiss" aria-label="Dismiss error">
      <svg class="octicon octicon-x" viewBox="0 0 16 16" version="1.1" width="16" height="16" aria-hidden="true"><path fill-rule="evenodd" d="M3.72 3.72a.75.75 0 011.06 0L8 6.94l3.22-3.22a.75.75 0 111.06 1.06L9.06 8l3.22 3.22a.75.75 0 11-1.06 1.06L8 9.06l-3.22 3.22a.75.75 0 01-1.06-1.06L6.94 8 3.72 4.78a.75.75 0 010-1.06z"></path></svg>
    </button>
    You can’t perform that action at this time.
  </div>

  <div class="js-stale-session-flash flash flash-warn flash-banner" hidden
    >
    <svg class="octicon octicon-alert" viewBox="0 0 16 16" version="1.1" width="16" height="16" aria-hidden="true"><path fill-rule="evenodd" d="M8.22 1.754a.25.25 0 00-.44 0L1.698 13.132a.25.25 0 00.22.368h12.164a.25.25 0 00.22-.368L8.22 1.754zm-1.763-.707c.659-1.234 2.427-1.234 3.086 0l6.082 11.378A1.75 1.75 0 0114.082 15H1.918a1.75 1.75 0 01-1.543-2.575L6.457 1.047zM9 11a1 1 0 11-2 0 1 1 0 012 0zm-.25-5.25a.75.75 0 00-1.5 0v2.5a.75.75 0 001.5 0v-2.5z"></path></svg>
    <span class="js-stale-session-flash-signed-in" hidden>You signed in with another tab or window. <a href="">Reload</a> to refresh your session.</span>
    <span class="js-stale-session-flash-signed-out" hidden>You signed out in another tab or window. <a href="">Reload</a> to refresh your session.</span>
  </div>
    <template id="site-details-dialog">
  <details class="details-reset details-overlay details-overlay-dark lh-default color-text-primary hx_rsm" open>
    <summary role="button" aria-label="Close dialog"></summary>
    <details-dialog class="Box Box--overlay d-flex flex-column anim-fade-in fast hx_rsm-dialog hx_rsm-modal">
      <button class="Box-btn-octicon m-0 btn-octicon position-absolute right-0 top-0" type="button" aria-label="Close dialog" data-close-dialog>
        <svg class="octicon octicon-x" viewBox="0 0 16 16" version="1.1" width="16" height="16" aria-hidden="true"><path fill-rule="evenodd" d="M3.72 3.72a.75.75 0 011.06 0L8 6.94l3.22-3.22a.75.75 0 111.06 1.06L9.06 8l3.22 3.22a.75.75 0 11-1.06 1.06L8 9.06l-3.22 3.22a.75.75 0 01-1.06-1.06L6.94 8 3.72 4.78a.75.75 0 010-1.06z"></path></svg>
      </button>
      <div class="octocat-spinner my-6 js-details-dialog-spinner"></div>
    </details-dialog>
  </details>
</template>

    <div class="Popover js-hovercard-content position-absolute" style="display: none; outline: none;" tabindex="0">
  <div class="Popover-message Popover-message--bottom-left Popover-message--large Box color-shadow-large" style="width:360px;">
  </div>
</div>




  </body>
</html>

